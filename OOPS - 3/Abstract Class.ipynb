{
 "cells": [
  {
   "cell_type": "markdown",
   "id": "892cfc8a",
   "metadata": {},
   "source": [
    "# Abstract Class"
   ]
  },
  {
   "cell_type": "code",
   "execution_count": 11,
   "id": "f73eff04",
   "metadata": {},
   "outputs": [],
   "source": [
    "from abc import ABC, abstractmethod"
   ]
  },
  {
   "cell_type": "code",
   "execution_count": 12,
   "id": "5b84a990",
   "metadata": {},
   "outputs": [],
   "source": [
    "class Vehical(ABC):\n",
    "    @abstractmethod\n",
    "    def get_value(self):\n",
    "        pass\n",
    "class Car():\n",
    "    def __init__(self,make,model,fare):\n",
    "        self.make = make\n",
    "        self.model = model\n",
    "        self.fare = fare\n",
    "        \n",
    "    def get_value(self):\n",
    "        return 100*self.fare"
   ]
  },
  {
   "cell_type": "code",
   "execution_count": 13,
   "id": "28284280",
   "metadata": {},
   "outputs": [],
   "source": [
    "obj = Car(\"Tesla\",2022,40)"
   ]
  },
  {
   "cell_type": "code",
   "execution_count": 15,
   "id": "3a7c6684",
   "metadata": {},
   "outputs": [
    {
     "data": {
      "text/plain": [
       "4000"
      ]
     },
     "execution_count": 15,
     "metadata": {},
     "output_type": "execute_result"
    }
   ],
   "source": [
    "obj.get_value()"
   ]
  }
 ],
 "metadata": {
  "kernelspec": {
   "display_name": "Python 3 (ipykernel)",
   "language": "python",
   "name": "python3"
  },
  "language_info": {
   "codemirror_mode": {
    "name": "ipython",
    "version": 3
   },
   "file_extension": ".py",
   "mimetype": "text/x-python",
   "name": "python",
   "nbconvert_exporter": "python",
   "pygments_lexer": "ipython3",
   "version": "3.9.12"
  }
 },
 "nbformat": 4,
 "nbformat_minor": 5
}
