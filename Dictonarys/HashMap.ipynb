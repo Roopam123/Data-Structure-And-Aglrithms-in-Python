{
 "cells": [
  {
   "cell_type": "markdown",
   "id": "7d13356a",
   "metadata": {},
   "source": [
    "# HashMap in python"
   ]
  },
  {
   "cell_type": "code",
   "execution_count": 8,
   "id": "ccc2fff8",
   "metadata": {},
   "outputs": [],
   "source": [
    "class MapNode:\n",
    "    def __init__(self,key,value):\n",
    "        self.key = key\n",
    "        self.value = value\n",
    "        self.next = None"
   ]
  },
  {
   "cell_type": "code",
   "execution_count": 9,
   "id": "b6cefc5f",
   "metadata": {},
   "outputs": [],
   "source": [
    "class Map:\n",
    "    def __init__(self):\n",
    "        self.bucketSize = 10\n",
    "        self.bucket = [None for i in range(self.bucketSize)]\n",
    "        self.count = 0\n",
    "    def size(self):\n",
    "        return self.count\n",
    "    def insert(self,key,value):\n",
    "        hc = hash(key)\n",
    "        index = (hc%(self.bucketSize))\n",
    "        head = self.bucket[index]\n",
    "        while head is not None:\n",
    "            if head.key == key:\n",
    "                head.value = value\n",
    "            head.next = head\n",
    "        newNode = MapNode(key,value)\n",
    "        newNode.next = head\n",
    "        self.bucket[index] = newNode\n",
    "        self.count += 1"
   ]
  },
  {
   "cell_type": "code",
   "execution_count": null,
   "id": "a7ee94a3",
   "metadata": {},
   "outputs": [
    {
     "name": "stdout",
     "output_type": "stream",
     "text": [
      "1\n",
      "2\n"
     ]
    }
   ],
   "source": [
    "m=Map()\n",
    "m.insert('Parikh',2)\n",
    "print(m.size())\n",
    "m.insert('Rohan',7)\n",
    "print(m.size())\n",
    "m.insert('Parikh',9)\n",
    "print(m.size())"
   ]
  }
 ],
 "metadata": {
  "kernelspec": {
   "display_name": "Python 3 (ipykernel)",
   "language": "python",
   "name": "python3"
  },
  "language_info": {
   "codemirror_mode": {
    "name": "ipython",
    "version": 3
   },
   "file_extension": ".py",
   "mimetype": "text/x-python",
   "name": "python",
   "nbconvert_exporter": "python",
   "pygments_lexer": "ipython3",
   "version": "3.9.12"
  }
 },
 "nbformat": 4,
 "nbformat_minor": 5
}
