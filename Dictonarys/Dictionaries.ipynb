{
 "cells": [
  {
   "cell_type": "code",
   "execution_count": 1,
   "id": "c0b60fe7",
   "metadata": {},
   "outputs": [],
   "source": [
    "bioData = {\"Name\":\"Roopam\",\"Class\":\"12th\",\"Subject\":\"Data Structure And Algorithms\"}"
   ]
  },
  {
   "cell_type": "code",
   "execution_count": 2,
   "id": "71855988",
   "metadata": {},
   "outputs": [
    {
     "name": "stdout",
     "output_type": "stream",
     "text": [
      "{'Name': 'Roopam', 'Class': '12th', 'Subject': 'Data Structure And Algorithms'}\n"
     ]
    }
   ],
   "source": [
    "print(bioData)"
   ]
  },
  {
   "cell_type": "code",
   "execution_count": 5,
   "id": "c4bddc38",
   "metadata": {},
   "outputs": [
    {
     "data": {
      "text/plain": [
       "dict_keys(['Name', 'Class', 'Subject'])"
      ]
     },
     "execution_count": 5,
     "metadata": {},
     "output_type": "execute_result"
    }
   ],
   "source": [
    "# Keys of Dictonary\n",
    "bioData.keys()"
   ]
  },
  {
   "cell_type": "code",
   "execution_count": 6,
   "id": "2bac7e11",
   "metadata": {},
   "outputs": [
    {
     "data": {
      "text/plain": [
       "dict_values(['Roopam', '12th', 'Data Structure And Algorithms'])"
      ]
     },
     "execution_count": 6,
     "metadata": {},
     "output_type": "execute_result"
    }
   ],
   "source": [
    "# Values of Dictonaries\n",
    "bioData.values()"
   ]
  },
  {
   "cell_type": "code",
   "execution_count": 8,
   "id": "aa7d0b82",
   "metadata": {},
   "outputs": [
    {
     "name": "stdout",
     "output_type": "stream",
     "text": [
      "Name\n",
      "Class\n",
      "Subject\n"
     ]
    }
   ],
   "source": [
    "# Looping in Dictonary for keys\n",
    "for i in bioData:\n",
    "    print(i)"
   ]
  },
  {
   "cell_type": "code",
   "execution_count": 10,
   "id": "7b6fe513",
   "metadata": {},
   "outputs": [
    {
     "name": "stdout",
     "output_type": "stream",
     "text": [
      "Roopam\n",
      "12th\n",
      "Data Structure And Algorithms\n"
     ]
    }
   ],
   "source": [
    "# Looping for Values\n",
    "for i in bioData:\n",
    "    print(bioData[i])"
   ]
  },
  {
   "cell_type": "code",
   "execution_count": 11,
   "id": "7758903c",
   "metadata": {},
   "outputs": [
    {
     "name": "stdout",
     "output_type": "stream",
     "text": [
      "Roopam\n",
      "12th\n",
      "Data Structure And Algorithms\n"
     ]
    }
   ],
   "source": [
    "# or\n",
    "for i in bioData.values():\n",
    "    print(i)"
   ]
  },
  {
   "cell_type": "code",
   "execution_count": 12,
   "id": "f2a7e378",
   "metadata": {},
   "outputs": [],
   "source": [
    "b = bioData.copy()"
   ]
  },
  {
   "cell_type": "code",
   "execution_count": 13,
   "id": "70691bfa",
   "metadata": {},
   "outputs": [
    {
     "data": {
      "text/plain": [
       "{'Name': 'Roopam', 'Class': '12th', 'Subject': 'Data Structure And Algorithms'}"
      ]
     },
     "execution_count": 13,
     "metadata": {},
     "output_type": "execute_result"
    }
   ],
   "source": [
    "b"
   ]
  },
  {
   "cell_type": "code",
   "execution_count": 14,
   "id": "4e3294c7",
   "metadata": {},
   "outputs": [
    {
     "data": {
      "text/plain": [
       "'Roopam'"
      ]
     },
     "execution_count": 14,
     "metadata": {},
     "output_type": "execute_result"
    }
   ],
   "source": [
    "#  Accsseing thorught a key\n",
    "b[\"Name\"]"
   ]
  },
  {
   "cell_type": "code",
   "execution_count": 15,
   "id": "62bd8fd6",
   "metadata": {},
   "outputs": [
    {
     "data": {
      "text/plain": [
       "'12th'"
      ]
     },
     "execution_count": 15,
     "metadata": {},
     "output_type": "execute_result"
    }
   ],
   "source": [
    "b[\"Class\"]"
   ]
  },
  {
   "cell_type": "code",
   "execution_count": 17,
   "id": "32afffa2",
   "metadata": {},
   "outputs": [
    {
     "data": {
      "text/plain": [
       "'Data Structure And Algorithms'"
      ]
     },
     "execution_count": 17,
     "metadata": {},
     "output_type": "execute_result"
    }
   ],
   "source": [
    "b[\"Subject\"]"
   ]
  },
  {
   "cell_type": "code",
   "execution_count": 21,
   "id": "a8e454e4",
   "metadata": {},
   "outputs": [
    {
     "data": {
      "text/plain": [
       "{'Name': 'Sumit', 'Class': '12th', 'Subject': 'Data Structure And Algorithms'}"
      ]
     },
     "execution_count": 21,
     "metadata": {},
     "output_type": "execute_result"
    }
   ],
   "source": [
    "# Changing value\n",
    "b[\"Name\"] = \"Sumit\"\n",
    "b"
   ]
  },
  {
   "cell_type": "markdown",
   "id": "4dc7d9a7",
   "metadata": {},
   "source": [
    "# Method in Dict"
   ]
  },
  {
   "cell_type": "code",
   "execution_count": 24,
   "id": "ba2b6572",
   "metadata": {},
   "outputs": [],
   "source": [
    "x = {\"Name\":\"Nidhi\",\"Course\":\"MPPSC\"}"
   ]
  },
  {
   "cell_type": "code",
   "execution_count": 31,
   "id": "724fe775",
   "metadata": {},
   "outputs": [
    {
     "data": {
      "text/plain": [
       "{'key1': 1, 'key2': 1, 'key3': 1}"
      ]
     },
     "execution_count": 31,
     "metadata": {},
     "output_type": "execute_result"
    }
   ],
   "source": [
    "# fromkeys\n",
    "x = \"key1\",\"key2\",\"key3\"\n",
    "y = 1\n",
    "a = dict.fromkeys(x, y)\n",
    "a"
   ]
  },
  {
   "cell_type": "code",
   "execution_count": 35,
   "id": "e1d286f1",
   "metadata": {},
   "outputs": [
    {
     "data": {
      "text/plain": [
       "2"
      ]
     },
     "execution_count": 35,
     "metadata": {},
     "output_type": "execute_result"
    }
   ],
   "source": [
    "# get\n",
    "a = {\"b\":1,\"c\":2}\n",
    "a.get(\"c\",0)"
   ]
  },
  {
   "cell_type": "code",
   "execution_count": 38,
   "id": "10449f8e",
   "metadata": {},
   "outputs": [
    {
     "name": "stdout",
     "output_type": "stream",
     "text": [
      "{'name': 'ram', 'village': 'janamkhari'}\n",
      "{}\n"
     ]
    }
   ],
   "source": [
    "# Copy method\n",
    "x = {\"name\":\"ram\",\"village\":\"janamkhari\"}\n",
    "print(x)\n",
    "x.clear()\n",
    "print(x)"
   ]
  },
  {
   "cell_type": "code",
   "execution_count": 42,
   "id": "124a6754",
   "metadata": {},
   "outputs": [
    {
     "name": "stdout",
     "output_type": "stream",
     "text": [
      "dict_items([('name', 'Nidhu'), ('father', 'pannalal')])\n"
     ]
    }
   ],
   "source": [
    "# item method\n",
    "x = {\"name\":\"Nidhu\",\"father\":\"pannalal\"}\n",
    "a= x.items()\n",
    "print(a)"
   ]
  },
  {
   "cell_type": "code",
   "execution_count": 47,
   "id": "dee1ab5e",
   "metadata": {},
   "outputs": [
    {
     "name": "stdout",
     "output_type": "stream",
     "text": [
      "{'class': '12th', 'subject': 'hindi'}\n",
      "{'class': '12th'}\n"
     ]
    }
   ],
   "source": [
    "# pop\n",
    "x = {\"class\":\"12th\",\"subject\":\"hindi\"}\n",
    "print(x)\n",
    "x.pop(\"subject\")\n",
    "print(x)"
   ]
  },
  {
   "cell_type": "code",
   "execution_count": 50,
   "id": "201a961f",
   "metadata": {},
   "outputs": [
    {
     "name": "stdout",
     "output_type": "stream",
     "text": [
      "{'name': 'shubham'}\n"
     ]
    }
   ],
   "source": [
    "# popitem:- it's remove the element from the last\n",
    "x = {\"name\":\"shubham\",\"Village\":\"Govt.H.S. School\"}\n",
    "x.popitem()\n",
    "print(x)"
   ]
  },
  {
   "cell_type": "code",
   "execution_count": 52,
   "id": "17f1deb4",
   "metadata": {},
   "outputs": [
    {
     "name": "stdout",
     "output_type": "stream",
     "text": [
      "Mustang\n"
     ]
    }
   ],
   "source": [
    "car = {\n",
    "  \"brand\": \"Ford\",\n",
    "  \"model\": \"Mustang\",\n",
    "  \"year\": 1964\n",
    "}\n",
    "x = car.setdefault(\"model\", \"Bronco\")\n",
    "print(x)"
   ]
  },
  {
   "cell_type": "markdown",
   "id": "d2f79d12",
   "metadata": {},
   "source": [
    "# Print the all word with frequency"
   ]
  },
  {
   "cell_type": "code",
   "execution_count": 53,
   "id": "b47cf782",
   "metadata": {},
   "outputs": [],
   "source": [
    "a = \"this is a word string having many many word\""
   ]
  },
  {
   "cell_type": "code",
   "execution_count": 55,
   "id": "19fd4006",
   "metadata": {},
   "outputs": [
    {
     "data": {
      "text/plain": [
       "['this', 'is', 'a', 'word', 'string', 'having', 'many', 'many', 'word']"
      ]
     },
     "execution_count": 55,
     "metadata": {},
     "output_type": "execute_result"
    }
   ],
   "source": [
    "words = a.split()\n",
    "words"
   ]
  },
  {
   "cell_type": "code",
   "execution_count": 56,
   "id": "33567e16",
   "metadata": {},
   "outputs": [],
   "source": [
    "d = {}\n",
    "for w in words:\n",
    "    if w in d:\n",
    "        d[w] = d[w]+1\n",
    "    else:\n",
    "        d[w]=1"
   ]
  },
  {
   "cell_type": "code",
   "execution_count": 57,
   "id": "74391313",
   "metadata": {},
   "outputs": [
    {
     "data": {
      "text/plain": [
       "{'this': 1, 'is': 1, 'a': 1, 'word': 2, 'string': 1, 'having': 1, 'many': 2}"
      ]
     },
     "execution_count": 57,
     "metadata": {},
     "output_type": "execute_result"
    }
   ],
   "source": [
    "d"
   ]
  },
  {
   "cell_type": "code",
   "execution_count": 64,
   "id": "86481999",
   "metadata": {},
   "outputs": [],
   "source": [
    "indexMax =max(d.values())"
   ]
  },
  {
   "cell_type": "code",
   "execution_count": null,
   "id": "ede1f42a",
   "metadata": {},
   "outputs": [],
   "source": []
  }
 ],
 "metadata": {
  "kernelspec": {
   "display_name": "Python 3 (ipykernel)",
   "language": "python",
   "name": "python3"
  },
  "language_info": {
   "codemirror_mode": {
    "name": "ipython",
    "version": 3
   },
   "file_extension": ".py",
   "mimetype": "text/x-python",
   "name": "python",
   "nbconvert_exporter": "python",
   "pygments_lexer": "ipython3",
   "version": "3.9.12"
  }
 },
 "nbformat": 4,
 "nbformat_minor": 5
}
