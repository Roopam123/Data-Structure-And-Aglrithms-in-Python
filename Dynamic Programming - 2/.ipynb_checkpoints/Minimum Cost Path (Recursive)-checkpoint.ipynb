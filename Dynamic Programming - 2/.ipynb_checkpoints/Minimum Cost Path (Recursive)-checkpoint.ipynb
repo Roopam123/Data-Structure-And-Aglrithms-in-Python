{
 "cells": [
  {
   "cell_type": "code",
   "execution_count": 1,
   "id": "0d9e158f",
   "metadata": {},
   "outputs": [],
   "source": [
    "import sys"
   ]
  },
  {
   "cell_type": "code",
   "execution_count": 2,
   "id": "65dc0c25",
   "metadata": {},
   "outputs": [],
   "source": [
    "def minCost(cost,i,j,n,m):\n",
    "    # Special Case\n",
    "    if i == n-1 or j == m-1:\n",
    "        return cost[i][j]\n",
    "    #Base case\n",
    "    if i>=n or j>= m:\n",
    "        return sys.maxsize\n",
    "    if dp[i+1][j] == sys.maxsize:\n",
    "        ans1 = minCost(cost,i+1,j,n,m)\n",
    "        dp[i+1][j] = ans1\n",
    "    else:\n",
    "        ans1 = dp[i+1][j]\n",
    "    if dp[i][j+1] == sys.maxsize:\n",
    "        ans2 = minCost(cost,i,j+1,n,m)\n",
    "        dp[i][j+1] = ans2\n",
    "    else:\n",
    "        ans2 = dp[i][j+1]\n",
    "    if dp[i+1][j+1] == sys.maxsize:\n",
    "        ans3 = minCost((cost,i+1,j+1,n,m))\n",
    "        dp[i+1][j+1] s= ans3\n",
    "    else:\n",
    "        ans3 = dp[i+1][j+1]\n",
    "#     ans2 = minCost(cost,i,j+1,n,m)\n",
    "#     ans3 = minCost(cost,i+1,j+1,n,m)\n",
    "    \n",
    "    myAns = cost[i][j] + min(ans1,ans2,ans3)\n",
    "    return myAns"
   ]
  },
  {
   "cell_type": "code",
   "execution_count": 3,
   "id": "a6a8bdfc",
   "metadata": {},
   "outputs": [
    {
     "name": "stdout",
     "output_type": "stream",
     "text": [
      "17\n"
     ]
    }
   ],
   "source": [
    "cost = [[1,5,11],[8,13,12],[2,3,7],[15,16,18]]\n",
    "ans = minCost(cost,0,0,4,3)\n",
    "print(ans)"
   ]
  }
 ],
 "metadata": {
  "kernelspec": {
   "display_name": "Python 3 (ipykernel)",
   "language": "python",
   "name": "python3"
  },
  "language_info": {
   "codemirror_mode": {
    "name": "ipython",
    "version": 3
   },
   "file_extension": ".py",
   "mimetype": "text/x-python",
   "name": "python",
   "nbconvert_exporter": "python",
   "pygments_lexer": "ipython3",
   "version": "3.9.12"
  }
 },
 "nbformat": 4,
 "nbformat_minor": 5
}
