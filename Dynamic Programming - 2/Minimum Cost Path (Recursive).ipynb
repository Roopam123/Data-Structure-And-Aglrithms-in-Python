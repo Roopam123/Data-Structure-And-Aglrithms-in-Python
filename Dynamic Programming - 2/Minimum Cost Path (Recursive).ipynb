{
 "cells": [
  {
   "cell_type": "code",
   "execution_count": 15,
   "id": "29a31bc9",
   "metadata": {},
   "outputs": [
    {
     "name": "stdout",
     "output_type": "stream",
     "text": [
      "30\n"
     ]
    }
   ],
   "source": [
    "import sys\n",
    "def minCost(cost,i,j,n,m,dp):\n",
    "    #Special Case\n",
    "    if i==n-1 and j==m-1:\n",
    "        return cost[i][j]\n",
    "    #Base case\n",
    "    if i>=n or j>=m:\n",
    "        return sys.maxsize\n",
    "    \n",
    "    if dp[i][j+1]==sys.maxsize:\n",
    "        ans1=minCost(cost,i,j+1,n,m,dp)\n",
    "        dp[i][j+1]=ans1\n",
    "    else:\n",
    "        ans1=dp[i][j+1]\n",
    "        \n",
    "    if dp[i+1][j]==sys.maxsize:\n",
    "        ans2=minCost(cost,i+1,j,n,m,dp)\n",
    "    else:\n",
    "        ans2=dp[i+1][j]\n",
    "        \n",
    "    if dp[i+1][j+1]==sys.maxsize:\n",
    "        ans3=minCost(cost,i+1,j+1,n,m,dp)\n",
    "    else:\n",
    "        ans3=dp[i+1][j+1]\n",
    "    ans=cost[i][j]+min(ans1,ans2,ans3)\n",
    "    \n",
    "    \n",
    "    return ans\n",
    "\n",
    "cost=[[1,5,11],[8,13,12],[2,3,7],[15,16,18]]\n",
    "n=4\n",
    "m=3\n",
    "dp=[[sys.maxsize for j in range(m+1)]for i in range(n+1)]\n",
    "ans=minCost(cost,0,0,4,3,dp)\n",
    "print(ans)\n",
    "    "
   ]
  }
 ],
 "metadata": {
  "kernelspec": {
   "display_name": "Python 3 (ipykernel)",
   "language": "python",
   "name": "python3"
  },
  "language_info": {
   "codemirror_mode": {
    "name": "ipython",
    "version": 3
   },
   "file_extension": ".py",
   "mimetype": "text/x-python",
   "name": "python",
   "nbconvert_exporter": "python",
   "pygments_lexer": "ipython3",
   "version": "3.9.12"
  }
 },
 "nbformat": 4,
 "nbformat_minor": 5
}
