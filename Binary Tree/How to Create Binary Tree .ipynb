{
 "cells": [
  {
   "cell_type": "code",
   "execution_count": 1,
   "id": "c4cb9e9f",
   "metadata": {},
   "outputs": [],
   "source": [
    "class BinaryTree:\n",
    "    def __init__(self,data):\n",
    "        self.data = data\n",
    "        self.left = None\n",
    "        self.right = None"
   ]
  },
  {
   "cell_type": "code",
   "execution_count": 2,
   "id": "48aaf164",
   "metadata": {},
   "outputs": [],
   "source": [
    "btn1 = BinaryTree(1)\n",
    "btn2 = BinaryTree(2)\n",
    "btn3 = BinaryTree(3)"
   ]
  },
  {
   "cell_type": "code",
   "execution_count": 3,
   "id": "216de0e8",
   "metadata": {},
   "outputs": [],
   "source": [
    "btn1.left = btn2\n",
    "btn2.right = btn3"
   ]
  },
  {
   "cell_type": "code",
   "execution_count": null,
   "id": "38fea50a",
   "metadata": {},
   "outputs": [],
   "source": []
  }
 ],
 "metadata": {
  "kernelspec": {
   "display_name": "Python 3 (ipykernel)",
   "language": "python",
   "name": "python3"
  },
  "language_info": {
   "codemirror_mode": {
    "name": "ipython",
    "version": 3
   },
   "file_extension": ".py",
   "mimetype": "text/x-python",
   "name": "python",
   "nbconvert_exporter": "python",
   "pygments_lexer": "ipython3",
   "version": "3.9.12"
  }
 },
 "nbformat": 4,
 "nbformat_minor": 5
}
