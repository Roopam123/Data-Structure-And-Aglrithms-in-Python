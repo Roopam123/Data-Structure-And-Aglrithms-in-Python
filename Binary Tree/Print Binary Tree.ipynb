{
 "cells": [
  {
   "cell_type": "markdown",
   "id": "90799cc3",
   "metadata": {},
   "source": [
    "# Print Binary Tree"
   ]
  },
  {
   "cell_type": "code",
   "execution_count": 18,
   "id": "bf71be3d",
   "metadata": {},
   "outputs": [],
   "source": [
    "class BinaryTree:\n",
    "    def __init__(self,data):\n",
    "        self.data = data\n",
    "        self.left = None\n",
    "        self.right = None"
   ]
  },
  {
   "cell_type": "code",
   "execution_count": 19,
   "id": "5998203b",
   "metadata": {},
   "outputs": [],
   "source": [
    "def printTree(root):\n",
    "    if root is None:\n",
    "        return \n",
    "    print(root.data)\n",
    "    printTree(root.left)\n",
    "    printTree(root.right)"
   ]
  },
  {
   "cell_type": "code",
   "execution_count": 48,
   "id": "3d6c8f9a",
   "metadata": {},
   "outputs": [],
   "source": [
    "def printTreeDetails(root):\n",
    "    if root is None:\n",
    "        return \n",
    "    print(root.data,end = \":\")\n",
    "    if root.left is not None:\n",
    "        print(\"Lelf Child:-\",root.left.data,end=',')\n",
    "    if root.right is not None:\n",
    "        print(\"Right Child:-\",root.left.data,end=\"\")\n",
    "    print()\n",
    "    printTreeDetails(root.left)\n",
    "    printTreeDetails(root.right)"
   ]
  },
  {
   "cell_type": "code",
   "execution_count": 52,
   "id": "a61a3de2",
   "metadata": {},
   "outputs": [],
   "source": [
    "btn1 = BinaryTree(1)\n",
    "btn2 = BinaryTree(4)\n",
    "btn3 = BinaryTree(5)"
   ]
  },
  {
   "cell_type": "code",
   "execution_count": 53,
   "id": "9dec1a6b",
   "metadata": {},
   "outputs": [],
   "source": [
    "btn1.left = btn2\n",
    "btn1.right = btn3"
   ]
  },
  {
   "cell_type": "code",
   "execution_count": 55,
   "id": "337078de",
   "metadata": {},
   "outputs": [
    {
     "name": "stdout",
     "output_type": "stream",
     "text": [
      "1:Lelf Child:- 4,Right Child:- 4\n",
      "4:\n",
      "5:\n"
     ]
    }
   ],
   "source": [
    "printTreeDetails(btn1)"
   ]
  },
  {
   "cell_type": "markdown",
   "id": "617abe30",
   "metadata": {},
   "source": [
    "# Another Tree"
   ]
  },
  {
   "cell_type": "code",
   "execution_count": 56,
   "id": "fdc06279",
   "metadata": {},
   "outputs": [],
   "source": [
    "class BinaryTree:\n",
    "    def __init__(self,data):\n",
    "        self.data = data\n",
    "        self.left = None\n",
    "        self.right = None"
   ]
  },
  {
   "cell_type": "code",
   "execution_count": 57,
   "id": "c3dc95be",
   "metadata": {},
   "outputs": [],
   "source": [
    "def printBinaryTree(root):\n",
    "    if root is None:\n",
    "        return \n",
    "    print(root.data,end=\":\")\n",
    "    if root.left is not None:\n",
    "        print(\"Left Child:-\",root.left.data,end=\",\")\n",
    "    if root.right is not None:\n",
    "        print(\"Right Child\",root.right.data,end=\"\")\n",
    "    print()\n",
    "    printBinaryTree(root.left)\n",
    "    printBinaryTree(root.right)"
   ]
  },
  {
   "cell_type": "code",
   "execution_count": 62,
   "id": "7ca7d0d6",
   "metadata": {},
   "outputs": [],
   "source": [
    "a = BinaryTree(1)\n",
    "b = BinaryTree(2)\n",
    "c = BinaryTree(3)\n",
    "d = BinaryTree(4)\n",
    "e = BinaryTree(5)\n",
    "f = BinaryTree(6)\n",
    "g = BinaryTree(7)\n",
    "h = BinaryTree(8)\n",
    "i = BinaryTree(9)\n",
    "j = BinaryTree(10)\n",
    "k = BinaryTree(11)"
   ]
  },
  {
   "cell_type": "code",
   "execution_count": 63,
   "id": "f33be9e5",
   "metadata": {},
   "outputs": [],
   "source": [
    "a.left = b\n",
    "a.right = c\n",
    "b.left = d\n",
    "b.right = e\n",
    "d.left = h\n",
    "e.left = i\n",
    "c.left = f\n",
    "c.right = g\n",
    "f.left = j\n",
    "g.lelt = k"
   ]
  },
  {
   "cell_type": "code",
   "execution_count": 65,
   "id": "f039e970",
   "metadata": {},
   "outputs": [
    {
     "name": "stdout",
     "output_type": "stream",
     "text": [
      "1:Left Child:- 2,Right Child 3\n",
      "2:Left Child:- 4,Right Child 5\n",
      "4:Left Child:- 8,\n",
      "8:\n",
      "5:Left Child:- 9,\n",
      "9:\n",
      "3:Left Child:- 6,Right Child 7\n",
      "6:Left Child:- 10,\n",
      "10:\n",
      "7:\n"
     ]
    }
   ],
   "source": [
    "printBinaryTree(a)"
   ]
  },
  {
   "cell_type": "code",
   "execution_count": null,
   "id": "cda671f9",
   "metadata": {},
   "outputs": [],
   "source": []
  }
 ],
 "metadata": {
  "kernelspec": {
   "display_name": "Python 3 (ipykernel)",
   "language": "python",
   "name": "python3"
  },
  "language_info": {
   "codemirror_mode": {
    "name": "ipython",
    "version": 3
   },
   "file_extension": ".py",
   "mimetype": "text/x-python",
   "name": "python",
   "nbconvert_exporter": "python",
   "pygments_lexer": "ipython3",
   "version": "3.9.12"
  }
 },
 "nbformat": 4,
 "nbformat_minor": 5
}
