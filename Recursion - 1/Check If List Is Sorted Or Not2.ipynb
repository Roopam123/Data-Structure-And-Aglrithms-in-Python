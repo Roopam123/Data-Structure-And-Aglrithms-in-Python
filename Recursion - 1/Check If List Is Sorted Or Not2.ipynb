{
 "cells": [
  {
   "cell_type": "markdown",
   "id": "508da240",
   "metadata": {},
   "source": [
    "# Check If List Is Sorted Or Not? -2"
   ]
  },
  {
   "cell_type": "code",
   "execution_count": 21,
   "id": "7e1a95cf",
   "metadata": {},
   "outputs": [],
   "source": [
    "def isSorted(arr,n):\n",
    "    l = len(arr)\n",
    "    if n==l-1 or n== l:\n",
    "        return True\n",
    "    if arr[n]==arr[n+1]:\n",
    "        return arr[n]\n",
    "    else:\n",
    "        return -1\n",
    "    sorte = isSorted(arr,n+1)\n",
    "    return sorte"
   ]
  },
  {
   "cell_type": "code",
   "execution_count": 24,
   "id": "bb3b1594",
   "metadata": {},
   "outputs": [
    {
     "data": {
      "text/plain": [
       "-1"
      ]
     },
     "execution_count": 24,
     "metadata": {},
     "output_type": "execute_result"
    }
   ],
   "source": [
    "li = [1,2,30,4,5]\n",
    "isSorted(li,2)"
   ]
  },
  {
   "cell_type": "code",
   "execution_count": 20,
   "id": "f2cf321c",
   "metadata": {},
   "outputs": [
    {
     "name": "stdout",
     "output_type": "stream",
     "text": [
      "-1\n",
      "1\n"
     ]
    }
   ],
   "source": []
  }
 ],
 "metadata": {
  "kernelspec": {
   "display_name": "Python 3 (ipykernel)",
   "language": "python",
   "name": "python3"
  },
  "language_info": {
   "codemirror_mode": {
    "name": "ipython",
    "version": 3
   },
   "file_extension": ".py",
   "mimetype": "text/x-python",
   "name": "python",
   "nbconvert_exporter": "python",
   "pygments_lexer": "ipython3",
   "version": "3.9.12"
  }
 },
 "nbformat": 4,
 "nbformat_minor": 5
}
