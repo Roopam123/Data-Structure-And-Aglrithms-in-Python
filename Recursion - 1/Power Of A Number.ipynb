{
 "cells": [
  {
   "cell_type": "markdown",
   "id": "1ec891b7",
   "metadata": {},
   "source": [
    "Write a program to find x to the power n (i.e. x^n). Take x and n from the user. You need to print the answer."
   ]
  },
  {
   "cell_type": "code",
   "execution_count": 2,
   "id": "5273ff1d",
   "metadata": {},
   "outputs": [],
   "source": [
    "def power(x,n):\n",
    "    ans = x**n\n",
    "    return ans"
   ]
  },
  {
   "cell_type": "code",
   "execution_count": 4,
   "id": "b1fb98eb",
   "metadata": {},
   "outputs": [
    {
     "name": "stdout",
     "output_type": "stream",
     "text": [
      "3 4\n",
      "81\n"
     ]
    }
   ],
   "source": [
    "x,n = input().split()\n",
    "x = int(x)\n",
    "n = int(n)\n",
    "print(power(x,n))"
   ]
  },
  {
   "cell_type": "code",
   "execution_count": null,
   "id": "0b088e68",
   "metadata": {},
   "outputs": [],
   "source": [
    "def func(num):\n",
    "    return func(num-1)\n",
    "num = 5\n",
    "ans = func(num-1)\n",
    "print(ans)"
   ]
  },
  {
   "cell_type": "code",
   "execution_count": null,
   "id": "0068e889",
   "metadata": {},
   "outputs": [],
   "source": [
    "def f(n):\n",
    "    return f(n-1)\n",
    "n = 5\n",
    "ans = f(n-1)\n",
    "print(ans)"
   ]
  }
 ],
 "metadata": {
  "kernelspec": {
   "display_name": "Python 3 (ipykernel)",
   "language": "python",
   "name": "python3"
  },
  "language_info": {
   "codemirror_mode": {
    "name": "ipython",
    "version": 3
   },
   "file_extension": ".py",
   "mimetype": "text/x-python",
   "name": "python",
   "nbconvert_exporter": "python",
   "pygments_lexer": "ipython3",
   "version": "3.9.12"
  }
 },
 "nbformat": 4,
 "nbformat_minor": 5
}
