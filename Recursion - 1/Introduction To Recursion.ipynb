{
 "cells": [
  {
   "cell_type": "markdown",
   "id": "a7981662",
   "metadata": {},
   "source": [
    "# Introduction To Recursion\n"
   ]
  },
  {
   "cell_type": "code",
   "execution_count": 9,
   "id": "99a5ec60",
   "metadata": {},
   "outputs": [],
   "source": [
    "# find the fect. of n\n",
    "def fact(n):\n",
    "    if n==0:\n",
    "        return 1\n",
    "    return n*fact(n-1)"
   ]
  },
  {
   "cell_type": "code",
   "execution_count": 10,
   "id": "918e32df",
   "metadata": {},
   "outputs": [
    {
     "name": "stdout",
     "output_type": "stream",
     "text": [
      "5\n"
     ]
    },
    {
     "data": {
      "text/plain": [
       "120"
      ]
     },
     "execution_count": 10,
     "metadata": {},
     "output_type": "execute_result"
    }
   ],
   "source": [
    "n = int(input())\n",
    "fact(n)"
   ]
  },
  {
   "cell_type": "code",
   "execution_count": null,
   "id": "2829a068",
   "metadata": {},
   "outputs": [],
   "source": [
    "def fact(n):\n",
    "    if n==0:\n",
    "        return 1\n",
    "    ans = fact(n-1)\n",
    "    return n*ans"
   ]
  },
  {
   "cell_type": "code",
   "execution_count": null,
   "id": "648d785f",
   "metadata": {},
   "outputs": [],
   "source": [
    "n = int(input())\n",
    "fact(n)"
   ]
  }
 ],
 "metadata": {
  "kernelspec": {
   "display_name": "Python 3 (ipykernel)",
   "language": "python",
   "name": "python3"
  },
  "language_info": {
   "codemirror_mode": {
    "name": "ipython",
    "version": 3
   },
   "file_extension": ".py",
   "mimetype": "text/x-python",
   "name": "python",
   "nbconvert_exporter": "python",
   "pygments_lexer": "ipython3",
   "version": "3.9.12"
  }
 },
 "nbformat": 4,
 "nbformat_minor": 5
}
