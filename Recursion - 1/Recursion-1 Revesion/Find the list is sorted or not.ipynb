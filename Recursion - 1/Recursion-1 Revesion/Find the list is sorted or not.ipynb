{
 "cells": [
  {
   "cell_type": "markdown",
   "id": "cb0fbe7f",
   "metadata": {},
   "source": [
    "Find the List is Sorted or not"
   ]
  },
  {
   "cell_type": "code",
   "execution_count": 6,
   "id": "76c85e89",
   "metadata": {},
   "outputs": [],
   "source": [
    "def sort_list(li):\n",
    "    # Base Case , in this Condition on function will stop\n",
    "    if len(li)==0 or len(li)==1:\n",
    "        return 'This list is sorted'\n",
    "    if li[0]>li[1]:\n",
    "        return 'This list is not sorted'\n",
    "    # Function call\n",
    "    funCall = sort_list(li[1:])\n",
    "    if funCall:\n",
    "        return 'This list is sorted'\n",
    "    else:\n",
    "        return 'This list is not Sorted'"
   ]
  },
  {
   "cell_type": "code",
   "execution_count": 7,
   "id": "1535b9c9",
   "metadata": {},
   "outputs": [
    {
     "name": "stdout",
     "output_type": "stream",
     "text": [
      "2 1 3 4\n"
     ]
    },
    {
     "data": {
      "text/plain": [
       "'This list is not sorted'"
      ]
     },
     "execution_count": 7,
     "metadata": {},
     "output_type": "execute_result"
    }
   ],
   "source": [
    "li = [int(i) for i in input().split()]\n",
    "sort_list(li)"
   ]
  }
 ],
 "metadata": {
  "kernelspec": {
   "display_name": "Python 3 (ipykernel)",
   "language": "python",
   "name": "python3"
  },
  "language_info": {
   "codemirror_mode": {
    "name": "ipython",
    "version": 3
   },
   "file_extension": ".py",
   "mimetype": "text/x-python",
   "name": "python",
   "nbconvert_exporter": "python",
   "pygments_lexer": "ipython3",
   "version": "3.9.12"
  }
 },
 "nbformat": 4,
 "nbformat_minor": 5
}
