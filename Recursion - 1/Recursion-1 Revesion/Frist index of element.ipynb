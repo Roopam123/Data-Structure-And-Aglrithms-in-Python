{
 "cells": [
  {
   "cell_type": "code",
   "execution_count": 15,
   "id": "9862abce",
   "metadata": {},
   "outputs": [],
   "source": [
    "def firstIndex(a,x):\n",
    "    l=len(a)\n",
    "    if l==0:\n",
    "        return -1\n",
    "    if a[0]==x:\n",
    "        return 0\n",
    "    smallerList=a[1:]\n",
    "    smallerListOutput=firstIndex(smallerList,x)\n",
    "    \n",
    "    if smallerListOutput==-1:\n",
    "        return -1\n",
    "    else:\n",
    "        return smallerListOutput+1"
   ]
  },
  {
   "cell_type": "code",
   "execution_count": 16,
   "id": "d6be2020",
   "metadata": {},
   "outputs": [
    {
     "data": {
      "text/plain": [
       "4"
      ]
     },
     "execution_count": 16,
     "metadata": {},
     "output_type": "execute_result"
    }
   ],
   "source": [
    "li = [1,2,3,4,5]\n",
    "x = 5\n",
    "firstIndex(li,x)"
   ]
  }
 ],
 "metadata": {
  "kernelspec": {
   "display_name": "Python 3 (ipykernel)",
   "language": "python",
   "name": "python3"
  },
  "language_info": {
   "codemirror_mode": {
    "name": "ipython",
    "version": 3
   },
   "file_extension": ".py",
   "mimetype": "text/x-python",
   "name": "python",
   "nbconvert_exporter": "python",
   "pygments_lexer": "ipython3",
   "version": "3.9.12"
  }
 },
 "nbformat": 4,
 "nbformat_minor": 5
}
