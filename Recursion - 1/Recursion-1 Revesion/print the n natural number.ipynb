{
 "cells": [
  {
   "cell_type": "markdown",
   "id": "68a77db4",
   "metadata": {},
   "source": [
    "Find the n natural number"
   ]
  },
  {
   "cell_type": "code",
   "execution_count": 3,
   "id": "5a604fb2",
   "metadata": {},
   "outputs": [],
   "source": [
    "def n_natural_number(n):\n",
    "    # base case\n",
    "    if n==0:\n",
    "        return 1\n",
    "    # Function Call\n",
    "    funCall = n_natural_number(n-1)\n",
    "    ans = print(n)\n",
    "    return ans"
   ]
  },
  {
   "cell_type": "code",
   "execution_count": 6,
   "id": "c78e010f",
   "metadata": {
    "scrolled": true
   },
   "outputs": [
    {
     "name": "stdout",
     "output_type": "stream",
     "text": [
      "10\n",
      "1\n",
      "2\n",
      "3\n",
      "4\n",
      "5\n",
      "6\n",
      "7\n",
      "8\n",
      "9\n",
      "10\n"
     ]
    }
   ],
   "source": [
    "n = int(input())\n",
    "n_natural_number(n)"
   ]
  },
  {
   "cell_type": "markdown",
   "id": "c490f079",
   "metadata": {},
   "source": [
    "find the n to 1 number"
   ]
  },
  {
   "cell_type": "code",
   "execution_count": 7,
   "id": "e79ef842",
   "metadata": {},
   "outputs": [],
   "source": [
    "def n_to_1(n):\n",
    "    if n==0:\n",
    "        return \n",
    "    ans = print(n)\n",
    "    function_call = n_to_1(n-1)\n",
    "    return function_call\n"
   ]
  },
  {
   "cell_type": "code",
   "execution_count": 8,
   "id": "2094ffe5",
   "metadata": {},
   "outputs": [
    {
     "name": "stdout",
     "output_type": "stream",
     "text": [
      "10\n",
      "10\n",
      "9\n",
      "8\n",
      "7\n",
      "6\n",
      "5\n",
      "4\n",
      "3\n",
      "2\n",
      "1\n"
     ]
    }
   ],
   "source": [
    "n = int(input())\n",
    "n_to_1(n)"
   ]
  }
 ],
 "metadata": {
  "kernelspec": {
   "display_name": "Python 3 (ipykernel)",
   "language": "python",
   "name": "python3"
  },
  "language_info": {
   "codemirror_mode": {
    "name": "ipython",
    "version": 3
   },
   "file_extension": ".py",
   "mimetype": "text/x-python",
   "name": "python",
   "nbconvert_exporter": "python",
   "pygments_lexer": "ipython3",
   "version": "3.9.12"
  }
 },
 "nbformat": 4,
 "nbformat_minor": 5
}
