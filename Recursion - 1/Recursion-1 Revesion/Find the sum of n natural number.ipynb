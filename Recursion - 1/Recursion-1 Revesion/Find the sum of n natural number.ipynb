{
 "cells": [
  {
   "cell_type": "markdown",
   "id": "ccc24c7e",
   "metadata": {},
   "source": [
    "Find the sum of n natural number"
   ]
  },
  {
   "cell_type": "code",
   "execution_count": 1,
   "id": "12dfeca1",
   "metadata": {},
   "outputs": [],
   "source": [
    "def sum_of_natural(n):\n",
    "    if n==0:\n",
    "        return 0\n",
    "    return n + sum_of_natural(n-1)"
   ]
  },
  {
   "cell_type": "code",
   "execution_count": 3,
   "id": "bc92a97e",
   "metadata": {},
   "outputs": [
    {
     "name": "stdout",
     "output_type": "stream",
     "text": [
      "5\n",
      "15\n"
     ]
    }
   ],
   "source": [
    "n = int(input())\n",
    "print(sum_of_natural(n))"
   ]
  }
 ],
 "metadata": {
  "kernelspec": {
   "display_name": "Python 3 (ipykernel)",
   "language": "python",
   "name": "python3"
  },
  "language_info": {
   "codemirror_mode": {
    "name": "ipython",
    "version": 3
   },
   "file_extension": ".py",
   "mimetype": "text/x-python",
   "name": "python",
   "nbconvert_exporter": "python",
   "pygments_lexer": "ipython3",
   "version": "3.9.12"
  }
 },
 "nbformat": 4,
 "nbformat_minor": 5
}
