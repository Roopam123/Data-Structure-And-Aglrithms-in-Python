{
 "cells": [
  {
   "cell_type": "markdown",
   "id": "6115d9e4",
   "metadata": {},
   "source": [
    "Given an array of length N, you need to find and return the sum of all elements of the array.  "
   ]
  },
  {
   "cell_type": "code",
   "execution_count": 11,
   "id": "c8a42773",
   "metadata": {},
   "outputs": [],
   "source": [
    "def _findSum(arr, N):\n",
    "    if N <= 0:\n",
    "        return 0\n",
    "    else:\n",
    "        return _findSum(arr, N - 1) + arr[N - 1]"
   ]
  },
  {
   "cell_type": "code",
   "execution_count": 12,
   "id": "a3960c20",
   "metadata": {},
   "outputs": [
    {
     "name": "stdout",
     "output_type": "stream",
     "text": [
      "1 2 3\n"
     ]
    },
    {
     "data": {
      "text/plain": [
       "6"
      ]
     },
     "execution_count": 12,
     "metadata": {},
     "output_type": "execute_result"
    }
   ],
   "source": [
    "li = [int(i) for i in input().split()]\n",
    "_findSum(li,len(li))"
   ]
  }
 ],
 "metadata": {
  "kernelspec": {
   "display_name": "Python 3 (ipykernel)",
   "language": "python",
   "name": "python3"
  },
  "language_info": {
   "codemirror_mode": {
    "name": "ipython",
    "version": 3
   },
   "file_extension": ".py",
   "mimetype": "text/x-python",
   "name": "python",
   "nbconvert_exporter": "python",
   "pygments_lexer": "ipython3",
   "version": "3.9.12"
  }
 },
 "nbformat": 4,
 "nbformat_minor": 5
}
