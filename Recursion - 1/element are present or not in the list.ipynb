{
 "cells": [
  {
   "cell_type": "code",
   "execution_count": 9,
   "id": "24483bc5",
   "metadata": {},
   "outputs": [],
   "source": [
    "def cheakElement(li,x):\n",
    "    if len(li)==1:\n",
    "        return 'element is present on list'\n",
    "    if li[0] !=x:\n",
    "        return \"Element is not present on list\"\n",
    "    funCall = cheakElement(li[1:],x)\n",
    "    if funCall:\n",
    "        return 'Element is present on list'\n",
    "    else:\n",
    "        return 'Element is not present on list'"
   ]
  },
  {
   "cell_type": "code",
   "execution_count": 12,
   "id": "95fcf1aa",
   "metadata": {},
   "outputs": [
    {
     "name": "stdout",
     "output_type": "stream",
     "text": [
      "1\n",
      "1\n"
     ]
    },
    {
     "data": {
      "text/plain": [
       "'element is present on list'"
      ]
     },
     "execution_count": 12,
     "metadata": {},
     "output_type": "execute_result"
    }
   ],
   "source": [
    "li = [int(i) for i in input().split()]\n",
    "x = int(input())\n",
    "cheakElement(li,x)"
   ]
  }
 ],
 "metadata": {
  "kernelspec": {
   "display_name": "Python 3 (ipykernel)",
   "language": "python",
   "name": "python3"
  },
  "language_info": {
   "codemirror_mode": {
    "name": "ipython",
    "version": 3
   },
   "file_extension": ".py",
   "mimetype": "text/x-python",
   "name": "python",
   "nbconvert_exporter": "python",
   "pygments_lexer": "ipython3",
   "version": "3.9.12"
  }
 },
 "nbformat": 4,
 "nbformat_minor": 5
}
