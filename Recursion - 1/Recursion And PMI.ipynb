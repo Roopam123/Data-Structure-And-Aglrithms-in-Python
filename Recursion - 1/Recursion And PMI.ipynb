{
 "cells": [
  {
   "cell_type": "markdown",
   "id": "0317325d",
   "metadata": {},
   "source": [
    "# Recursion And PMI"
   ]
  },
  {
   "cell_type": "code",
   "execution_count": 1,
   "id": "0d8b7901",
   "metadata": {},
   "outputs": [],
   "source": [
    "def sum_n(n):\n",
    "    if (n==0):\n",
    "        return 0\n",
    "    smalloutput = sum_n(n-1)\n",
    "    output = smalloutput + n\n",
    "    return output"
   ]
  },
  {
   "cell_type": "code",
   "execution_count": 2,
   "id": "bb73c29e",
   "metadata": {},
   "outputs": [
    {
     "name": "stdout",
     "output_type": "stream",
     "text": [
      "5\n"
     ]
    },
    {
     "data": {
      "text/plain": [
       "15"
      ]
     },
     "execution_count": 2,
     "metadata": {},
     "output_type": "execute_result"
    }
   ],
   "source": [
    "n = int(input())\n",
    "sum_n(n)"
   ]
  }
 ],
 "metadata": {
  "kernelspec": {
   "display_name": "Python 3 (ipykernel)",
   "language": "python",
   "name": "python3"
  },
  "language_info": {
   "codemirror_mode": {
    "name": "ipython",
    "version": 3
   },
   "file_extension": ".py",
   "mimetype": "text/x-python",
   "name": "python",
   "nbconvert_exporter": "python",
   "pygments_lexer": "ipython3",
   "version": "3.9.12"
  }
 },
 "nbformat": 4,
 "nbformat_minor": 5
}
