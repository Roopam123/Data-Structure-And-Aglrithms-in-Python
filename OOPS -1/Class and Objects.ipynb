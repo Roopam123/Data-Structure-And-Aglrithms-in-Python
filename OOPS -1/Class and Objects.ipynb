{
 "cells": [
  {
   "cell_type": "markdown",
   "id": "982559c0",
   "metadata": {},
   "source": [
    "Class - Class is a blueprint that define the variable and method"
   ]
  },
  {
   "cell_type": "code",
   "execution_count": 22,
   "id": "5a95166c",
   "metadata": {},
   "outputs": [],
   "source": [
    "class Car:\n",
    "    def _init_(self):\n",
    "        pass"
   ]
  },
  {
   "cell_type": "code",
   "execution_count": 23,
   "id": "c9b07275",
   "metadata": {},
   "outputs": [],
   "source": [
    "obj1 = Car()"
   ]
  },
  {
   "cell_type": "code",
   "execution_count": 39,
   "id": "d9c9a12c",
   "metadata": {},
   "outputs": [],
   "source": [
    "class ExpenseTracker:\n",
    "    \"\"\"this is a class to do expense tracking\"\"\"\n",
    "    def __init__(self,date,description,transaction_type,amount):\n",
    "        self.date=date\n",
    "        self.description=description\n",
    "        self.transaction_type=transaction_type\n",
    "        self.amount=amount"
   ]
  },
  {
   "cell_type": "code",
   "execution_count": 40,
   "id": "728125b2",
   "metadata": {},
   "outputs": [],
   "source": [
    "obj2=ExpenseTracker(\"12Jan\",\"Dinner with Friends\",\"Debit\",\"500\")\n",
    "obj3=ExpenseTracker(\"1Jan\",\"Salary Credited\",\"Credit\",\"30000\")"
   ]
  },
  {
   "cell_type": "code",
   "execution_count": 2,
   "id": "49b1f987",
   "metadata": {},
   "outputs": [],
   "source": [
    "class Car:\n",
    "    def _init_(self,model,price,color):\n",
    "        self.model = model\n",
    "        self.price = price\n",
    "        self.color = color"
   ]
  },
  {
   "cell_type": "code",
   "execution_count": 3,
   "id": "a0489c40",
   "metadata": {},
   "outputs": [
    {
     "ename": "TypeError",
     "evalue": "Car() takes no arguments",
     "output_type": "error",
     "traceback": [
      "\u001b[1;31m---------------------------------------------------------------------------\u001b[0m",
      "\u001b[1;31mTypeError\u001b[0m                                 Traceback (most recent call last)",
      "Input \u001b[1;32mIn [3]\u001b[0m, in \u001b[0;36m<cell line: 1>\u001b[1;34m()\u001b[0m\n\u001b[1;32m----> 1\u001b[0m obj\u001b[38;5;241m=\u001b[39m\u001b[43mCar\u001b[49m\u001b[43m(\u001b[49m\u001b[38;5;124;43m\"\u001b[39;49m\u001b[38;5;124;43m2022\u001b[39;49m\u001b[38;5;124;43m\"\u001b[39;49m\u001b[43m,\u001b[49m\u001b[38;5;124;43m\"\u001b[39;49m\u001b[38;5;124;43m40000\u001b[39;49m\u001b[38;5;124;43m\"\u001b[39;49m\u001b[43m,\u001b[49m\u001b[38;5;124;43m\"\u001b[39;49m\u001b[38;5;124;43mRed\u001b[39;49m\u001b[38;5;124;43m\"\u001b[39;49m\u001b[43m)\u001b[49m\n",
      "\u001b[1;31mTypeError\u001b[0m: Car() takes no arguments"
     ]
    }
   ],
   "source": [
    "obj=Car(\"2022\",\"40000\",\"Red\")"
   ]
  },
  {
   "cell_type": "code",
   "execution_count": null,
   "id": "53c6b3cb",
   "metadata": {},
   "outputs": [],
   "source": []
  }
 ],
 "metadata": {
  "kernelspec": {
   "display_name": "Python 3 (ipykernel)",
   "language": "python",
   "name": "python3"
  },
  "language_info": {
   "codemirror_mode": {
    "name": "ipython",
    "version": 3
   },
   "file_extension": ".py",
   "mimetype": "text/x-python",
   "name": "python",
   "nbconvert_exporter": "python",
   "pygments_lexer": "ipython3",
   "version": "3.9.12"
  }
 },
 "nbformat": 4,
 "nbformat_minor": 5
}
