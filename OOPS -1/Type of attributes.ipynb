{
 "cells": [
  {
   "cell_type": "markdown",
   "id": "640525c5",
   "metadata": {},
   "source": [
    "Type of attributes"
   ]
  },
  {
   "cell_type": "code",
   "execution_count": 9,
   "id": "62972475",
   "metadata": {},
   "outputs": [],
   "source": [
    "class Car:\n",
    "    version = 1.2\n",
    "    def __init__(self,model,color):\n",
    "        self.model = model \n",
    "        self.color = color"
   ]
  },
  {
   "cell_type": "code",
   "execution_count": 14,
   "id": "7fa7ec97",
   "metadata": {},
   "outputs": [],
   "source": [
    "obj = Car(\"2022\",\"Red\")"
   ]
  },
  {
   "cell_type": "code",
   "execution_count": 15,
   "id": "824df365",
   "metadata": {},
   "outputs": [
    {
     "data": {
      "text/plain": [
       "'2022'"
      ]
     },
     "execution_count": 15,
     "metadata": {},
     "output_type": "execute_result"
    }
   ],
   "source": [
    "obj.model"
   ]
  },
  {
   "cell_type": "code",
   "execution_count": 16,
   "id": "b4147317",
   "metadata": {},
   "outputs": [],
   "source": [
    "ram = Car(300,\"blue\")"
   ]
  },
  {
   "cell_type": "code",
   "execution_count": 17,
   "id": "c199e405",
   "metadata": {},
   "outputs": [
    {
     "data": {
      "text/plain": [
       "'blue'"
      ]
     },
     "execution_count": 17,
     "metadata": {},
     "output_type": "execute_result"
    }
   ],
   "source": [
    "ram.color"
   ]
  },
  {
   "cell_type": "code",
   "execution_count": 18,
   "id": "dbb73957",
   "metadata": {},
   "outputs": [],
   "source": [
    "obj.version = 2.7"
   ]
  },
  {
   "cell_type": "code",
   "execution_count": 19,
   "id": "58616f7d",
   "metadata": {},
   "outputs": [
    {
     "data": {
      "text/plain": [
       "2.7"
      ]
     },
     "execution_count": 19,
     "metadata": {},
     "output_type": "execute_result"
    }
   ],
   "source": [
    "obj.version"
   ]
  },
  {
   "cell_type": "code",
   "execution_count": 21,
   "id": "18cb8ae0",
   "metadata": {},
   "outputs": [
    {
     "ename": "SyntaxError",
     "evalue": "invalid character '”' (U+201D) (1730086658.py, line 6)",
     "output_type": "error",
     "traceback": [
      "\u001b[1;36m  Input \u001b[1;32mIn [21]\u001b[1;36m\u001b[0m\n\u001b[1;33m    print(s1.name,end=” “)\u001b[0m\n\u001b[1;37m                      ^\u001b[0m\n\u001b[1;31mSyntaxError\u001b[0m\u001b[1;31m:\u001b[0m invalid character '”' (U+201D)\n"
     ]
    }
   ],
   "source": [
    "class Student:\n",
    "     name = \"Rohan\"\n",
    "     age = 16\n",
    "s1 = Student()\n",
    "s2 = Student()\n",
    "print(s1.name,end=” “)\n",
    "print(s2.name,end=” “)"
   ]
  },
  {
   "cell_type": "code",
   "execution_count": 24,
   "id": "19e0f072",
   "metadata": {},
   "outputs": [
    {
     "name": "stdout",
     "output_type": "stream",
     "text": [
      "Roopam 60\n"
     ]
    }
   ],
   "source": [
    "class Student:\n",
    "    name = 'Roopam'\n",
    "    def store_details(self):\n",
    "        self.age = 60\n",
    "    def print_details(self):\n",
    "        print(self.name, end=' ')\n",
    "        print(self.age)\n",
    "s = Student()\n",
    "s.store_details()\n",
    "s.print_details()"
   ]
  },
  {
   "cell_type": "code",
   "execution_count": 25,
   "id": "c549f52f",
   "metadata": {},
   "outputs": [
    {
     "ename": "AttributeError",
     "evalue": "'Student' object has no attribute 'age'",
     "output_type": "error",
     "traceback": [
      "\u001b[1;31m---------------------------------------------------------------------------\u001b[0m",
      "\u001b[1;31mAttributeError\u001b[0m                            Traceback (most recent call last)",
      "Input \u001b[1;32mIn [25]\u001b[0m, in \u001b[0;36m<cell line: 10>\u001b[1;34m()\u001b[0m\n\u001b[0;32m      8\u001b[0m s\u001b[38;5;241m.\u001b[39mstore_details()\n\u001b[0;32m      9\u001b[0m s1 \u001b[38;5;241m=\u001b[39m Student()\n\u001b[1;32m---> 10\u001b[0m \u001b[43ms1\u001b[49m\u001b[38;5;241;43m.\u001b[39;49m\u001b[43mprint_age\u001b[49m\u001b[43m(\u001b[49m\u001b[43m)\u001b[49m\n",
      "Input \u001b[1;32mIn [25]\u001b[0m, in \u001b[0;36mStudent.print_age\u001b[1;34m(self)\u001b[0m\n\u001b[0;32m      5\u001b[0m \u001b[38;5;28;01mdef\u001b[39;00m \u001b[38;5;21mprint_age\u001b[39m(\u001b[38;5;28mself\u001b[39m):\n\u001b[1;32m----> 6\u001b[0m     \u001b[38;5;28mprint\u001b[39m(\u001b[38;5;28;43mself\u001b[39;49m\u001b[38;5;241;43m.\u001b[39;49m\u001b[43mage\u001b[49m)\n",
      "\u001b[1;31mAttributeError\u001b[0m: 'Student' object has no attribute 'age'"
     ]
    }
   ],
   "source": [
    "class Student:\n",
    "    name = \"Parikh\"\n",
    "    def store_details(self):\n",
    "        self.age = 60\n",
    "    def print_age(self):\n",
    "        print(self.age)\n",
    "s = Student()\n",
    "s.store_details()\n",
    "s1 = Student()\n",
    "s1.print_age()"
   ]
  }
 ],
 "metadata": {
  "kernelspec": {
   "display_name": "Python 3 (ipykernel)",
   "language": "python",
   "name": "python3"
  },
  "language_info": {
   "codemirror_mode": {
    "name": "ipython",
    "version": 3
   },
   "file_extension": ".py",
   "mimetype": "text/x-python",
   "name": "python",
   "nbconvert_exporter": "python",
   "pygments_lexer": "ipython3",
   "version": "3.9.12"
  }
 },
 "nbformat": 4,
 "nbformat_minor": 5
}
