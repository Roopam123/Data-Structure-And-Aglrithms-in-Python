{
 "cells": [
  {
   "cell_type": "code",
   "execution_count": 35,
   "id": "2decef45",
   "metadata": {},
   "outputs": [],
   "source": [
    "class Car:\n",
    "    def __init__(self,model,color):\n",
    "        self.model = model\n",
    "        self.color = color\n",
    "    #Function \n",
    "    def car_func(self):\n",
    "        return self.model\n",
    "    # instance attribute\n",
    "    def car_color(self,color):\n",
    "        if color==\"red\":\n",
    "            return self.color\n",
    "        else:\n",
    "            return \"Color was Change\"\n",
    "    @classmethod\n",
    "    def Car_class(a,b:str):\n",
    "        model,color = b.split('')\n",
    "        return Car(model, color.capitalize())\n",
    "    "
   ]
  },
  {
   "cell_type": "code",
   "execution_count": 37,
   "id": "7ced7560",
   "metadata": {},
   "outputs": [
    {
     "ename": "ValueError",
     "evalue": "empty separator",
     "output_type": "error",
     "traceback": [
      "\u001b[1;31m---------------------------------------------------------------------------\u001b[0m",
      "\u001b[1;31mValueError\u001b[0m                                Traceback (most recent call last)",
      "Input \u001b[1;32mIn [37]\u001b[0m, in \u001b[0;36m<cell line: 1>\u001b[1;34m()\u001b[0m\n\u001b[1;32m----> 1\u001b[0m obj \u001b[38;5;241m=\u001b[39m \u001b[43mCar\u001b[49m\u001b[38;5;241;43m.\u001b[39;49m\u001b[43mCar_class\u001b[49m\u001b[43m(\u001b[49m\u001b[38;5;124;43m\"\u001b[39;49m\u001b[38;5;124;43m2020 red\u001b[39;49m\u001b[38;5;124;43m\"\u001b[39;49m\u001b[43m)\u001b[49m\n",
      "Input \u001b[1;32mIn [35]\u001b[0m, in \u001b[0;36mCar.Car_class\u001b[1;34m(a, b)\u001b[0m\n\u001b[0;32m     14\u001b[0m \u001b[38;5;129m@classmethod\u001b[39m\n\u001b[0;32m     15\u001b[0m \u001b[38;5;28;01mdef\u001b[39;00m \u001b[38;5;21mCar_class\u001b[39m(a,b:\u001b[38;5;28mstr\u001b[39m):\n\u001b[1;32m---> 16\u001b[0m     model,color \u001b[38;5;241m=\u001b[39m \u001b[43mb\u001b[49m\u001b[38;5;241;43m.\u001b[39;49m\u001b[43msplit\u001b[49m\u001b[43m(\u001b[49m\u001b[38;5;124;43m'\u001b[39;49m\u001b[38;5;124;43m'\u001b[39;49m\u001b[43m)\u001b[49m\n\u001b[0;32m     17\u001b[0m     \u001b[38;5;28;01mreturn\u001b[39;00m Car(model, color\u001b[38;5;241m.\u001b[39mcapitalize())\n",
      "\u001b[1;31mValueError\u001b[0m: empty separator"
     ]
    }
   ],
   "source": [
    "obj = Car.Car_class(\"2020 red\")"
   ]
  },
  {
   "cell_type": "code",
   "execution_count": 41,
   "id": "1c1d1ff6",
   "metadata": {},
   "outputs": [
    {
     "name": "stdout",
     "output_type": "stream",
     "text": [
      "True\n"
     ]
    }
   ],
   "source": [
    "  class Student:\n",
    "        def __init__(self,name,age):\n",
    "            self.name = name\n",
    "            self.age = age\n",
    "        def print_student_details():\n",
    "            print(self.name, end=\" \" )\n",
    "            print(self.age)\n",
    "        @staticmethod\n",
    "        def isTeen(age):\n",
    "            return age>16\n",
    "\n",
    "a = Student.isTeen(18)\n",
    "print(a)"
   ]
  },
  {
   "cell_type": "markdown",
   "id": "41ee608b",
   "metadata": {},
   "source": [
    "# Access Attribute"
   ]
  },
  {
   "cell_type": "code",
   "execution_count": 69,
   "id": "aa341bad",
   "metadata": {},
   "outputs": [],
   "source": [
    "class Car:\n",
    "    def __init__(self,model,color):\n",
    "        #public Access\n",
    "        self.model = model\n",
    "        #private\n",
    "        self.price = color"
   ]
  },
  {
   "cell_type": "code",
   "execution_count": 70,
   "id": "bb58d89c",
   "metadata": {},
   "outputs": [],
   "source": [
    "obj = Car(2022,\"red\")"
   ]
  },
  {
   "cell_type": "code",
   "execution_count": 71,
   "id": "dc497d5e",
   "metadata": {},
   "outputs": [
    {
     "data": {
      "text/plain": [
       "2022"
      ]
     },
     "execution_count": 71,
     "metadata": {},
     "output_type": "execute_result"
    }
   ],
   "source": [
    "obj.model"
   ]
  },
  {
   "cell_type": "code",
   "execution_count": 72,
   "id": "7b0a1d9a",
   "metadata": {},
   "outputs": [
    {
     "data": {
      "text/plain": [
       "'red'"
      ]
     },
     "execution_count": 72,
     "metadata": {},
     "output_type": "execute_result"
    }
   ],
   "source": [
    "obj.price"
   ]
  },
  {
   "cell_type": "code",
   "execution_count": 84,
   "id": "d7e74610",
   "metadata": {},
   "outputs": [
    {
     "ename": "IndentationError",
     "evalue": "unindent does not match any outer indentation level (<tokenize>, line 5)",
     "output_type": "error",
     "traceback": [
      "\u001b[1;36m  File \u001b[1;32m<tokenize>:5\u001b[1;36m\u001b[0m\n\u001b[1;33m    def print_student_details(self):\u001b[0m\n\u001b[1;37m    ^\u001b[0m\n\u001b[1;31mIndentationError\u001b[0m\u001b[1;31m:\u001b[0m unindent does not match any outer indentation level\n"
     ]
    }
   ],
   "source": [
    "class Student:\n",
    "     def __init__(self,name,age):\n",
    "        self.__name = name\n",
    "        self.age = age\n",
    "    def print_student_details(self):\n",
    "        print(self.__name, end= ' ')\n",
    "        print(self.age)\n",
    "s = Student('rohan',20)\n",
    "s.print_student_details()"
   ]
  }
 ],
 "metadata": {
  "kernelspec": {
   "display_name": "Python 3 (ipykernel)",
   "language": "python",
   "name": "python3"
  },
  "language_info": {
   "codemirror_mode": {
    "name": "ipython",
    "version": 3
   },
   "file_extension": ".py",
   "mimetype": "text/x-python",
   "name": "python",
   "nbconvert_exporter": "python",
   "pygments_lexer": "ipython3",
   "version": "3.9.12"
  }
 },
 "nbformat": 4,
 "nbformat_minor": 5
}
