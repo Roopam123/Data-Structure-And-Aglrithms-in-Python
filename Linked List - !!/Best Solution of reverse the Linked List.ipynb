{
 "cells": [
  {
   "cell_type": "code",
   "execution_count": 2,
   "id": "fbc03e67",
   "metadata": {},
   "outputs": [
    {
     "name": "stdout",
     "output_type": "stream",
     "text": [
      "1 2 3 4 5 -1\n",
      "1->2->3->4->5->None\n",
      "5->4->3->2->1->None\n"
     ]
    }
   ],
   "source": [
    "class Node:\n",
    "    def __init__(self,data):\n",
    "        self.data=data\n",
    "        self.next=None\n",
    "def printLL(head):\n",
    "    while head is not None:\n",
    "        print(str(head.data)+\"->\",end='')\n",
    "        head=head.next\n",
    "    print(\"None\")\n",
    "    return\n",
    "def takeInput():\n",
    "    inputList=[int (ele) for ele in input().split()]\n",
    "    head=None\n",
    "    tail=None\n",
    "    for currData in inputList:\n",
    "        if currData==-1:\n",
    "            break\n",
    "        newNode=Node(currData)\n",
    "        if head is None:\n",
    "            head=newNode\n",
    "            tail=newNode\n",
    "        else:\n",
    "            tail.next=newNode\n",
    "            tail=newNode\n",
    "    return head\n",
    "\n",
    "def reverse3(head):\n",
    "    if head is None or head.next is None:\n",
    "        return head,head\n",
    "    funCall=reverse3(head.next)\n",
    "    tail = head.next\n",
    "    tail.next = head\n",
    "    head.next = None\n",
    "    return funCall\n",
    "head=takeInput()\n",
    "printLL(head)\n",
    "head,tail=reverse3(head)\n",
    "printLL(head)"
   ]
  }
 ],
 "metadata": {
  "kernelspec": {
   "display_name": "Python 3 (ipykernel)",
   "language": "python",
   "name": "python3"
  },
  "language_info": {
   "codemirror_mode": {
    "name": "ipython",
    "version": 3
   },
   "file_extension": ".py",
   "mimetype": "text/x-python",
   "name": "python",
   "nbconvert_exporter": "python",
   "pygments_lexer": "ipython3",
   "version": "3.9.12"
  }
 },
 "nbformat": 4,
 "nbformat_minor": 5
}
