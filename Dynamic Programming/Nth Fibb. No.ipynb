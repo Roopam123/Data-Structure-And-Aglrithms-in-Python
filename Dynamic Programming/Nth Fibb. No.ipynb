{
 "cells": [
  {
   "cell_type": "markdown",
   "id": "c6d90285",
   "metadata": {},
   "source": [
    "# DP Using Recursive Mathod"
   ]
  },
  {
   "cell_type": "code",
   "execution_count": 6,
   "id": "5a4cf9d0",
   "metadata": {},
   "outputs": [],
   "source": [
    "def fibbDP(n,dp):\n",
    "    if n==0 or n==1:\n",
    "        return n\n",
    "    if dp[n-1] == -1:\n",
    "        ans1 = fibbDP(n-1,dp)\n",
    "        dp[n-1] = ans1\n",
    "    else:\n",
    "        ans1 = dp[n-1]\n",
    "    if dp[n-2] == -1:\n",
    "        ans2 = fibbDP(n-2,dp)\n",
    "        dp[n-2] = ans2\n",
    "    else:\n",
    "        ans2 = dp[n-2]\n",
    "    \n",
    "    myAns = ans1 + ans2\n",
    "    return myAns"
   ]
  },
  {
   "cell_type": "code",
   "execution_count": 9,
   "id": "4fdb208f",
   "metadata": {},
   "outputs": [
    {
     "name": "stdout",
     "output_type": "stream",
     "text": [
      "7\n",
      "Ans:- 13\n"
     ]
    }
   ],
   "source": [
    "n = int(input())\n",
    "dp = [int(-1) for i in range(n+1)]\n",
    "print(\"Ans:-\",fibbDP(n,dp))"
   ]
  },
  {
   "cell_type": "markdown",
   "id": "18dfd6cc",
   "metadata": {},
   "source": [
    "# DP in a Itrative Mathod"
   ]
  },
  {
   "cell_type": "code",
   "execution_count": 10,
   "id": "b554d8d6",
   "metadata": {},
   "outputs": [],
   "source": [
    "def fibbI(n):\n",
    "    dp = [0 for i in range(n+1)]\n",
    "    dp[0] = 0\n",
    "    dp[1] = 1\n",
    "    i = 2\n",
    "    while i<=n:\n",
    "        dp[i] = dp[i-1] + dp[i-2]\n",
    "        i = i+1\n",
    "    return dp[n]"
   ]
  },
  {
   "cell_type": "code",
   "execution_count": 11,
   "id": "2d172386",
   "metadata": {},
   "outputs": [
    {
     "name": "stdout",
     "output_type": "stream",
     "text": [
      "7\n"
     ]
    },
    {
     "data": {
      "text/plain": [
       "13"
      ]
     },
     "execution_count": 11,
     "metadata": {},
     "output_type": "execute_result"
    }
   ],
   "source": [
    "n = int(input())\n",
    "fibbI(n)"
   ]
  }
 ],
 "metadata": {
  "kernelspec": {
   "display_name": "Python 3 (ipykernel)",
   "language": "python",
   "name": "python3"
  },
  "language_info": {
   "codemirror_mode": {
    "name": "ipython",
    "version": 3
   },
   "file_extension": ".py",
   "mimetype": "text/x-python",
   "name": "python",
   "nbconvert_exporter": "python",
   "pygments_lexer": "ipython3",
   "version": "3.9.12"
  }
 },
 "nbformat": 4,
 "nbformat_minor": 5
}
