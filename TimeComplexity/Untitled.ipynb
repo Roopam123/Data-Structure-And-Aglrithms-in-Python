{
 "cells": [
  {
   "cell_type": "code",
   "execution_count": 14,
   "id": "a1bc4fee",
   "metadata": {},
   "outputs": [],
   "source": [
    "def de(li):\n",
    "    if len(li)==0:\n",
    "        return \n",
    "    funCall = de(li[1:])\n",
    "    if li[0] !=li[1]:\n",
    "        return li[0]"
   ]
  },
  {
   "cell_type": "code",
   "execution_count": 15,
   "id": "c8685a59",
   "metadata": {},
   "outputs": [
    {
     "ename": "IndexError",
     "evalue": "list index out of range",
     "output_type": "error",
     "traceback": [
      "\u001b[1;31m---------------------------------------------------------------------------\u001b[0m",
      "\u001b[1;31mIndexError\u001b[0m                                Traceback (most recent call last)",
      "Input \u001b[1;32mIn [15]\u001b[0m, in \u001b[0;36m<cell line: 2>\u001b[1;34m()\u001b[0m\n\u001b[0;32m      1\u001b[0m li \u001b[38;5;241m=\u001b[39m [\u001b[38;5;241m2\u001b[39m,\u001b[38;5;241m3\u001b[39m,\u001b[38;5;241m1\u001b[39m,\u001b[38;5;241m6\u001b[39m,\u001b[38;5;241m3\u001b[39m,\u001b[38;5;241m6\u001b[39m]\n\u001b[1;32m----> 2\u001b[0m \u001b[43mde\u001b[49m\u001b[43m(\u001b[49m\u001b[43mli\u001b[49m\u001b[43m)\u001b[49m\n",
      "Input \u001b[1;32mIn [14]\u001b[0m, in \u001b[0;36mde\u001b[1;34m(li)\u001b[0m\n\u001b[0;32m      2\u001b[0m \u001b[38;5;28;01mif\u001b[39;00m \u001b[38;5;28mlen\u001b[39m(li)\u001b[38;5;241m==\u001b[39m\u001b[38;5;241m0\u001b[39m:\n\u001b[0;32m      3\u001b[0m     \u001b[38;5;28;01mreturn\u001b[39;00m \n\u001b[1;32m----> 4\u001b[0m funCall \u001b[38;5;241m=\u001b[39m \u001b[43mde\u001b[49m\u001b[43m(\u001b[49m\u001b[43mli\u001b[49m\u001b[43m[\u001b[49m\u001b[38;5;241;43m1\u001b[39;49m\u001b[43m:\u001b[49m\u001b[43m]\u001b[49m\u001b[43m)\u001b[49m\n\u001b[0;32m      5\u001b[0m \u001b[38;5;28;01mif\u001b[39;00m li[\u001b[38;5;241m0\u001b[39m] \u001b[38;5;241m!=\u001b[39mli[\u001b[38;5;241m1\u001b[39m]:\n\u001b[0;32m      6\u001b[0m     \u001b[38;5;28;01mreturn\u001b[39;00m li[\u001b[38;5;241m0\u001b[39m]\n",
      "Input \u001b[1;32mIn [14]\u001b[0m, in \u001b[0;36mde\u001b[1;34m(li)\u001b[0m\n\u001b[0;32m      2\u001b[0m \u001b[38;5;28;01mif\u001b[39;00m \u001b[38;5;28mlen\u001b[39m(li)\u001b[38;5;241m==\u001b[39m\u001b[38;5;241m0\u001b[39m:\n\u001b[0;32m      3\u001b[0m     \u001b[38;5;28;01mreturn\u001b[39;00m \n\u001b[1;32m----> 4\u001b[0m funCall \u001b[38;5;241m=\u001b[39m \u001b[43mde\u001b[49m\u001b[43m(\u001b[49m\u001b[43mli\u001b[49m\u001b[43m[\u001b[49m\u001b[38;5;241;43m1\u001b[39;49m\u001b[43m:\u001b[49m\u001b[43m]\u001b[49m\u001b[43m)\u001b[49m\n\u001b[0;32m      5\u001b[0m \u001b[38;5;28;01mif\u001b[39;00m li[\u001b[38;5;241m0\u001b[39m] \u001b[38;5;241m!=\u001b[39mli[\u001b[38;5;241m1\u001b[39m]:\n\u001b[0;32m      6\u001b[0m     \u001b[38;5;28;01mreturn\u001b[39;00m li[\u001b[38;5;241m0\u001b[39m]\n",
      "    \u001b[1;31m[... skipping similar frames: de at line 4 (2 times)]\u001b[0m\n",
      "Input \u001b[1;32mIn [14]\u001b[0m, in \u001b[0;36mde\u001b[1;34m(li)\u001b[0m\n\u001b[0;32m      2\u001b[0m \u001b[38;5;28;01mif\u001b[39;00m \u001b[38;5;28mlen\u001b[39m(li)\u001b[38;5;241m==\u001b[39m\u001b[38;5;241m0\u001b[39m:\n\u001b[0;32m      3\u001b[0m     \u001b[38;5;28;01mreturn\u001b[39;00m \n\u001b[1;32m----> 4\u001b[0m funCall \u001b[38;5;241m=\u001b[39m \u001b[43mde\u001b[49m\u001b[43m(\u001b[49m\u001b[43mli\u001b[49m\u001b[43m[\u001b[49m\u001b[38;5;241;43m1\u001b[39;49m\u001b[43m:\u001b[49m\u001b[43m]\u001b[49m\u001b[43m)\u001b[49m\n\u001b[0;32m      5\u001b[0m \u001b[38;5;28;01mif\u001b[39;00m li[\u001b[38;5;241m0\u001b[39m] \u001b[38;5;241m!=\u001b[39mli[\u001b[38;5;241m1\u001b[39m]:\n\u001b[0;32m      6\u001b[0m     \u001b[38;5;28;01mreturn\u001b[39;00m li[\u001b[38;5;241m0\u001b[39m]\n",
      "Input \u001b[1;32mIn [14]\u001b[0m, in \u001b[0;36mde\u001b[1;34m(li)\u001b[0m\n\u001b[0;32m      3\u001b[0m     \u001b[38;5;28;01mreturn\u001b[39;00m \n\u001b[0;32m      4\u001b[0m funCall \u001b[38;5;241m=\u001b[39m de(li[\u001b[38;5;241m1\u001b[39m:])\n\u001b[1;32m----> 5\u001b[0m \u001b[38;5;28;01mif\u001b[39;00m li[\u001b[38;5;241m0\u001b[39m] \u001b[38;5;241m!=\u001b[39m\u001b[43mli\u001b[49m\u001b[43m[\u001b[49m\u001b[38;5;241;43m1\u001b[39;49m\u001b[43m]\u001b[49m:\n\u001b[0;32m      6\u001b[0m     \u001b[38;5;28;01mreturn\u001b[39;00m li[\u001b[38;5;241m0\u001b[39m]\n",
      "\u001b[1;31mIndexError\u001b[0m: list index out of range"
     ]
    }
   ],
   "source": [
    "li = [2,3,1,6,3,6]\n",
    "de(li)"
   ]
  }
 ],
 "metadata": {
  "kernelspec": {
   "display_name": "Python 3 (ipykernel)",
   "language": "python",
   "name": "python3"
  },
  "language_info": {
   "codemirror_mode": {
    "name": "ipython",
    "version": 3
   },
   "file_extension": ".py",
   "mimetype": "text/x-python",
   "name": "python",
   "nbconvert_exporter": "python",
   "pygments_lexer": "ipython3",
   "version": "3.9.12"
  }
 },
 "nbformat": 4,
 "nbformat_minor": 5
}
