{
 "cells": [
  {
   "cell_type": "code",
   "execution_count": 1,
   "id": "fa2b58d6",
   "metadata": {},
   "outputs": [],
   "source": [
    "# Code for merge Sort\n",
    "def merge(a1,a2,a):\n",
    "    i=0\n",
    "    j=0\n",
    "    k=0\n",
    "    while i<len(a1) and j<len(a2):\n",
    "        if(a1[i]<a2[j]):\n",
    "            a[k]=a1[i]\n",
    "            k=k+1\n",
    "            i=i+1\n",
    "        else:\n",
    "            a[k]=a2[j]\n",
    "            k=k+1\n",
    "            j=j+1\n",
    "    while i<len(a1):\n",
    "        a[k]=a1[i]\n",
    "        k=k+1\n",
    "        i=i+1\n",
    "    while j<len(a2):\n",
    "        a2[k]=a2[j]\n",
    "        k=k+1\n",
    "        j=j+1\n",
    "def merge_sort(a):\n",
    "    if len(a)==0 or len(a)==1:\n",
    "        return\n",
    "    mid=len(a)//2\n",
    "    a1=a[0:mid]\n",
    "    a2=a[mid:]\n",
    "    \n",
    "    merge_sort(a1)\n",
    "    merge_sort(a2)\n",
    "    merge(a1,a2,a)"
   ]
  },
  {
   "cell_type": "code",
   "execution_count": 2,
   "id": "b8aab412",
   "metadata": {},
   "outputs": [],
   "source": [
    "# Selection Sort\n",
    "def selection_sort(a):\n",
    "    for i in range(len(a)):\n",
    "        min_idx=i\n",
    "        for j in range(i+1,len(a)):\n",
    "            if a[min_idx]>a[j]:\n",
    "                min_idx=j\n",
    "                a[i],a[min_idx]=a[min_idx],a[i]\n",
    "\n",
    "def create_rev_array(n):\n",
    "    a=[]\n",
    "    for i in range(n,0,-1):\n",
    "        a.append(i)\n",
    "    return a"
   ]
  },
  {
   "cell_type": "code",
   "execution_count": 3,
   "id": "d87716d8",
   "metadata": {},
   "outputs": [],
   "source": [
    "import time"
   ]
  },
  {
   "cell_type": "code",
   "execution_count": 23,
   "id": "916f3c44",
   "metadata": {},
   "outputs": [],
   "source": [
    "n = 100000"
   ]
  },
  {
   "cell_type": "code",
   "execution_count": 24,
   "id": "3969d259",
   "metadata": {},
   "outputs": [
    {
     "name": "stdout",
     "output_type": "stream",
     "text": [
      "100000 0.4532041549682617\n"
     ]
    }
   ],
   "source": [
    "a=create_rev_array(n)\n",
    "start=time.time()\n",
    "merge_sort(a)\n",
    "end=time.time()\n",
    "print(n,end-start)"
   ]
  },
  {
   "cell_type": "code",
   "execution_count": 25,
   "id": "ddedd2be",
   "metadata": {},
   "outputs": [
    {
     "ename": "KeyboardInterrupt",
     "evalue": "",
     "output_type": "error",
     "traceback": [
      "\u001b[1;31m---------------------------------------------------------------------------\u001b[0m",
      "\u001b[1;31mKeyboardInterrupt\u001b[0m                         Traceback (most recent call last)",
      "Input \u001b[1;32mIn [25]\u001b[0m, in \u001b[0;36m<cell line: 3>\u001b[1;34m()\u001b[0m\n\u001b[0;32m      1\u001b[0m a\u001b[38;5;241m=\u001b[39mcreate_rev_array(n)\n\u001b[0;32m      2\u001b[0m start\u001b[38;5;241m=\u001b[39mtime\u001b[38;5;241m.\u001b[39mtime()\n\u001b[1;32m----> 3\u001b[0m \u001b[43mselection_sort\u001b[49m\u001b[43m(\u001b[49m\u001b[43ma\u001b[49m\u001b[43m)\u001b[49m\n\u001b[0;32m      4\u001b[0m end\u001b[38;5;241m=\u001b[39mtime\u001b[38;5;241m.\u001b[39mtime()\n\u001b[0;32m      5\u001b[0m \u001b[38;5;28mprint\u001b[39m(n,end\u001b[38;5;241m-\u001b[39mstart)\n",
      "Input \u001b[1;32mIn [2]\u001b[0m, in \u001b[0;36mselection_sort\u001b[1;34m(a)\u001b[0m\n\u001b[0;32m      6\u001b[0m \u001b[38;5;28;01mif\u001b[39;00m a[min_idx]\u001b[38;5;241m>\u001b[39ma[j]:\n\u001b[0;32m      7\u001b[0m     min_idx\u001b[38;5;241m=\u001b[39mj\n\u001b[1;32m----> 8\u001b[0m     a[i],a[min_idx]\u001b[38;5;241m=\u001b[39ma[min_idx],a[i]\n",
      "\u001b[1;31mKeyboardInterrupt\u001b[0m: "
     ]
    }
   ],
   "source": [
    "a=create_rev_array(n)\n",
    "start=time.time()\n",
    "selection_sort(a)\n",
    "end=time.time()\n",
    "print(n,end-start)"
   ]
  }
 ],
 "metadata": {
  "kernelspec": {
   "display_name": "Python 3 (ipykernel)",
   "language": "python",
   "name": "python3"
  },
  "language_info": {
   "codemirror_mode": {
    "name": "ipython",
    "version": 3
   },
   "file_extension": ".py",
   "mimetype": "text/x-python",
   "name": "python",
   "nbconvert_exporter": "python",
   "pygments_lexer": "ipython3",
   "version": "3.9.12"
  }
 },
 "nbformat": 4,
 "nbformat_minor": 5
}
