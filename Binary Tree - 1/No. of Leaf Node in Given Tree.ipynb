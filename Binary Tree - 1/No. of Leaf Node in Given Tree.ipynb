{
 "cells": [
  {
   "cell_type": "code",
   "execution_count": 5,
   "id": "fe8097aa",
   "metadata": {},
   "outputs": [],
   "source": [
    "class BinaryTree:\n",
    "    def __init__(self,data):\n",
    "        self.data =data\n",
    "        self.left = None\n",
    "        self.right = None"
   ]
  },
  {
   "cell_type": "code",
   "execution_count": 6,
   "id": "2887a632",
   "metadata": {},
   "outputs": [],
   "source": [
    "def takeInput():\n",
    "    rootData = int(input())\n",
    "    if rootData==-1:\n",
    "        return \n",
    "    root = BinaryTree(rootData)\n",
    "    leftTree = takeInput()\n",
    "    rightTree = takeInput()\n",
    "    root.left = leftTree\n",
    "    root.right = rightTree\n",
    "    return root"
   ]
  },
  {
   "cell_type": "code",
   "execution_count": 7,
   "id": "6cd44da1",
   "metadata": {},
   "outputs": [],
   "source": [
    "def printBinaryTree(root):\n",
    "    if root is None:\n",
    "        return \n",
    "    print(root.data,end=\":\")\n",
    "    if root.left is not None:\n",
    "        print(\"L\",root.left.data,end=\",\")\n",
    "    if root.right is not None:\n",
    "        print(\"R\",root.right.data,end=\"\")\n",
    "    print()\n",
    "    printBinaryTree(root.left)\n",
    "    printBinaryTree(root.right)"
   ]
  },
  {
   "cell_type": "code",
   "execution_count": 12,
   "id": "a71e6687",
   "metadata": {},
   "outputs": [],
   "source": [
    "def countLeafNode(root):\n",
    "    if root==None:\n",
    "        return 0\n",
    "    if root.left ==None and root.right==None:\n",
    "        return 1\n",
    "    leftCount = countLeafNode(root.left)\n",
    "    rightCount = countLeafNode(root.right)\n",
    "    return leftCount+rightCount"
   ]
  },
  {
   "cell_type": "code",
   "execution_count": 16,
   "id": "92fbd3fe",
   "metadata": {},
   "outputs": [
    {
     "name": "stdout",
     "output_type": "stream",
     "text": [
      "1\n",
      "2\n",
      "-1\n",
      "-1\n",
      "-1\n",
      "1:L 2,\n",
      "2:\n",
      "No. of leaf Node 1\n"
     ]
    }
   ],
   "source": [
    "root = takeInput()\n",
    "printBinaryTree(root)\n",
    "print(\"No. of leaf Node\",countLeafNode(root))"
   ]
  }
 ],
 "metadata": {
  "kernelspec": {
   "display_name": "Python 3 (ipykernel)",
   "language": "python",
   "name": "python3"
  },
  "language_info": {
   "codemirror_mode": {
    "name": "ipython",
    "version": 3
   },
   "file_extension": ".py",
   "mimetype": "text/x-python",
   "name": "python",
   "nbconvert_exporter": "python",
   "pygments_lexer": "ipython3",
   "version": "3.9.12"
  }
 },
 "nbformat": 4,
 "nbformat_minor": 5
}
