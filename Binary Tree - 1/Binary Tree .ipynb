{
 "cells": [
  {
   "cell_type": "code",
   "execution_count": 80,
   "id": "cc909ee0",
   "metadata": {},
   "outputs": [],
   "source": [
    "class BinaryTree:\n",
    "    def __init__(self,data):\n",
    "        self.data =data\n",
    "        self.left = None\n",
    "        self.right = None"
   ]
  },
  {
   "cell_type": "code",
   "execution_count": 81,
   "id": "f2b026f3",
   "metadata": {},
   "outputs": [],
   "source": [
    "def takeInput():\n",
    "    rootData = int(input())\n",
    "    if rootData==-1:\n",
    "        return \n",
    "    root = BinaryTree(rootData)\n",
    "    leftTree = takeInput()\n",
    "    rightTree = takeInput()\n",
    "    root.left = leftTree\n",
    "    root.right = rightTree\n",
    "    return root"
   ]
  },
  {
   "cell_type": "code",
   "execution_count": 82,
   "id": "aa7f77e7",
   "metadata": {},
   "outputs": [],
   "source": [
    "def printBinaryTree(root):\n",
    "    if root is None:\n",
    "        return \n",
    "    print(root.data,end=\":\")\n",
    "    if root.left is not None:\n",
    "        print(\"L\",root.left.data,end=\",\")\n",
    "    if root.right is not None:\n",
    "        print(\"R\",root.right.data,end=\"\")\n",
    "    print()\n",
    "    printBinaryTree(root.left)\n",
    "    printBinaryTree(root.right)"
   ]
  },
  {
   "cell_type": "code",
   "execution_count": 83,
   "id": "c5295bf5",
   "metadata": {},
   "outputs": [],
   "source": [
    "def numCount(root):\n",
    "    if root==None:\n",
    "        return 0\n",
    "    leftCount = numCount(root.left)\n",
    "    rightCount = numCount(root.right)\n",
    "    return leftCount+rightCount+1"
   ]
  },
  {
   "cell_type": "code",
   "execution_count": 84,
   "id": "f4ac1be6",
   "metadata": {},
   "outputs": [],
   "source": [
    "# Find the left node of the given node\n",
    "def leftCount(root):\n",
    "    if root==None:\n",
    "        return 0\n",
    "    leftCount = leftCount(root.left)\n",
    "    return 1+leftCount"
   ]
  },
  {
   "cell_type": "code",
   "execution_count": 85,
   "id": "4b174259",
   "metadata": {},
   "outputs": [],
   "source": [
    "# Find the left node of the given node\n",
    "def rightCount(root):\n",
    "    if root==None:\n",
    "        return 0\n",
    "    leftCount = rightCount(root.left)\n",
    "    return 1+rightCount"
   ]
  },
  {
   "cell_type": "code",
   "execution_count": 86,
   "id": "2cbb7343",
   "metadata": {},
   "outputs": [],
   "source": [
    "a = BinaryTree(1)\n",
    "b = BinaryTree(2)\n",
    "c = BinaryTree(3)\n",
    "d = BinaryTree(4)\n",
    "e = BinaryTree(5)\n",
    "f = BinaryTree(6)\n",
    "g = BinaryTree(7)\n",
    "h = BinaryTree(8)"
   ]
  },
  {
   "cell_type": "code",
   "execution_count": 87,
   "id": "6c7cbcd9",
   "metadata": {},
   "outputs": [],
   "source": [
    "a.left = b\n",
    "a.right = c\n",
    "b.left = g\n",
    "c.left = d\n",
    "c.right = e\n",
    "d.left = h"
   ]
  },
  {
   "cell_type": "code",
   "execution_count": 90,
   "id": "216194e7",
   "metadata": {},
   "outputs": [
    {
     "name": "stdout",
     "output_type": "stream",
     "text": [
      "1\n",
      "2\n",
      "-1\n",
      "-1\n",
      "3\n",
      "4\n",
      "6\n",
      "-1\n",
      "-1\n",
      "-1\n",
      "5\n",
      "-1\n",
      "-1\n",
      "1:L 2,R 3\n",
      "2:\n",
      "3:L 4,R 5\n",
      "4:L 6,\n",
      "6:\n",
      "5:\n",
      "Sum of the All Nodes 6\n"
     ]
    }
   ],
   "source": [
    "root = takeInput()\n",
    "printBinaryTree(root)\n",
    "print(\"Sum of the All Nodes\",numCount(root))"
   ]
  }
 ],
 "metadata": {
  "kernelspec": {
   "display_name": "Python 3 (ipykernel)",
   "language": "python",
   "name": "python3"
  },
  "language_info": {
   "codemirror_mode": {
    "name": "ipython",
    "version": 3
   },
   "file_extension": ".py",
   "mimetype": "text/x-python",
   "name": "python",
   "nbconvert_exporter": "python",
   "pygments_lexer": "ipython3",
   "version": "3.9.12"
  }
 },
 "nbformat": 4,
 "nbformat_minor": 5
}
