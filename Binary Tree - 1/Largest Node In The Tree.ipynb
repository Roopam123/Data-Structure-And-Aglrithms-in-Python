{
 "cells": [
  {
   "cell_type": "code",
   "execution_count": 10,
   "id": "26d2ae33",
   "metadata": {},
   "outputs": [],
   "source": [
    "class BinaryTree:\n",
    "    def __init__(self,data):\n",
    "        self.data =data\n",
    "        self.left = None\n",
    "        self.right = None"
   ]
  },
  {
   "cell_type": "code",
   "execution_count": 11,
   "id": "d11fb88d",
   "metadata": {},
   "outputs": [],
   "source": [
    "def takeInput():\n",
    "    rootData = int(input())\n",
    "    if rootData==-1:\n",
    "        return \n",
    "    root = BinaryTree(rootData)\n",
    "    leftTree = takeInput()\n",
    "    rightTree = takeInput()\n",
    "    root.left = leftTree\n",
    "    root.right = rightTree\n",
    "    return root"
   ]
  },
  {
   "cell_type": "code",
   "execution_count": 12,
   "id": "af491745",
   "metadata": {},
   "outputs": [],
   "source": [
    "def printBinaryTree(root):\n",
    "    if root is None:\n",
    "        return \n",
    "    print(root.data,end=\":\")\n",
    "    if root.left is not None:\n",
    "        print(\"L\",root.left.data,end=\",\")\n",
    "    if root.right is not None:\n",
    "        print(\"R\",root.right.data,end=\"\")\n",
    "    print()\n",
    "    printBinaryTree(root.left)\n",
    "    printBinaryTree(root.right)"
   ]
  },
  {
   "cell_type": "code",
   "execution_count": 13,
   "id": "529b4975",
   "metadata": {},
   "outputs": [],
   "source": [
    "def largeNode(root):\n",
    "    if root is None:\n",
    "        return -1\n",
    "    leftLarge = largeNode(root.left)\n",
    "    rightLarge = largeNode(root.right)\n",
    "    return max(leftLarge,rightLarge,root.data)"
   ]
  },
  {
   "cell_type": "code",
   "execution_count": 15,
   "id": "388589d7",
   "metadata": {},
   "outputs": [
    {
     "name": "stdout",
     "output_type": "stream",
     "text": [
      "10\n",
      "20\n",
      "9\n",
      "-1\n",
      "-1\n",
      "3\n",
      "-1\n",
      "-1\n",
      "5\n",
      "-1\n",
      "-1\n",
      "10:L 20,R 5\n",
      "20:L 9,R 3\n",
      "9:\n",
      "3:\n",
      "5:\n",
      "Large Node 20\n"
     ]
    }
   ],
   "source": [
    "root = takeInput()\n",
    "printBinaryTree(root)\n",
    "print(\"Large Node\",largeNode(root))"
   ]
  }
 ],
 "metadata": {
  "kernelspec": {
   "display_name": "Python 3 (ipykernel)",
   "language": "python",
   "name": "python3"
  },
  "language_info": {
   "codemirror_mode": {
    "name": "ipython",
    "version": 3
   },
   "file_extension": ".py",
   "mimetype": "text/x-python",
   "name": "python",
   "nbconvert_exporter": "python",
   "pygments_lexer": "ipython3",
   "version": "3.9.12"
  }
 },
 "nbformat": 4,
 "nbformat_minor": 5
}
