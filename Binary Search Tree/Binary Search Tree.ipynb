{
 "cells": [
  {
   "cell_type": "code",
   "execution_count": 16,
   "id": "59a22979",
   "metadata": {},
   "outputs": [],
   "source": [
    "class BinarySearchTree:\n",
    "    def __init__(self,data):\n",
    "        self.data = data\n",
    "        self.left = None\n",
    "        self.right = None"
   ]
  },
  {
   "cell_type": "code",
   "execution_count": 17,
   "id": "e0dded82",
   "metadata": {},
   "outputs": [],
   "source": [
    "def printSearchTree(root):\n",
    "    if root is None:\n",
    "        return\n",
    "    print(root.data,end=\":\")\n",
    "    if root.left is not None:\n",
    "        print(\"L\",root.left.data,end=\",\")\n",
    "    if root.right is not None:\n",
    "        print(\"R\",root.right.data,end=\"\")\n",
    "    print()\n",
    "    printSearchTree(root.left)\n",
    "    printSearchTree(root.right)"
   ]
  },
  {
   "cell_type": "code",
   "execution_count": 18,
   "id": "4560b625",
   "metadata": {},
   "outputs": [],
   "source": [
    "import queue"
   ]
  },
  {
   "cell_type": "code",
   "execution_count": 19,
   "id": "5a7376cc",
   "metadata": {},
   "outputs": [],
   "source": [
    "def takeInputLevelWise():\n",
    "    q = queue.Queue()\n",
    "    print(\"Enter Your Root\")\n",
    "    rootData = int(input())\n",
    "    root = BinarySearchTree(rootData)\n",
    "    if rootData ==-1:\n",
    "        return None\n",
    "    q.put(root)\n",
    "    while (not(q.empty())):\n",
    "        current_node = q.get()\n",
    "        print(\"Enter the left Child of \",current_node.data)\n",
    "        leftChildData = int(input())\n",
    "        if leftChildData != -1:\n",
    "            leftChild = BinarySearchTree(leftChildData)\n",
    "            current_node.left = leftChild\n",
    "            q.put(leftChild)\n",
    "        print(\"Enter Right Child Of\",current_node.data)\n",
    "        rightChildData = int(input())\n",
    "        if rightChildData != -1:\n",
    "            rightChild = BinarySearchTree(rightChildData)\n",
    "            current_node.right = rightChild\n",
    "            q.put(rightChild)\n",
    "    return root"
   ]
  },
  {
   "cell_type": "code",
   "execution_count": 20,
   "id": "255f8907",
   "metadata": {},
   "outputs": [],
   "source": [
    "def search(root,x):\n",
    "    if root==None:\n",
    "        return False\n",
    "    if root.data==x:\n",
    "        return True\n",
    "    elif root.data>x:\n",
    "        return search(root.left,x)\n",
    "    else:\n",
    "        return search(root.left,x)"
   ]
  },
  {
   "cell_type": "code",
   "execution_count": 22,
   "id": "6e8a5f40",
   "metadata": {
    "scrolled": true
   },
   "outputs": [
    {
     "name": "stdout",
     "output_type": "stream",
     "text": [
      "Enter Your Root\n",
      "1\n",
      "Enter the left Child of  1\n",
      "2\n",
      "Enter Right Child Of 1\n",
      "3\n",
      "Enter the left Child of  2\n",
      "-1\n",
      "Enter Right Child Of 2\n",
      "-1\n",
      "Enter the left Child of  3\n",
      "-1\n",
      "Enter Right Child Of 3\n",
      "-1\n",
      "1:L 2,R 3\n",
      "2:\n",
      "3:\n"
     ]
    },
    {
     "data": {
      "text/plain": [
       "False"
      ]
     },
     "execution_count": 22,
     "metadata": {},
     "output_type": "execute_result"
    }
   ],
   "source": [
    "root = takeInputLevelWise()\n",
    "printSearchTree(root)\n",
    "search(root,5)"
   ]
  }
 ],
 "metadata": {
  "kernelspec": {
   "display_name": "Python 3 (ipykernel)",
   "language": "python",
   "name": "python3"
  },
  "language_info": {
   "codemirror_mode": {
    "name": "ipython",
    "version": 3
   },
   "file_extension": ".py",
   "mimetype": "text/x-python",
   "name": "python",
   "nbconvert_exporter": "python",
   "pygments_lexer": "ipython3",
   "version": "3.9.12"
  }
 },
 "nbformat": 4,
 "nbformat_minor": 5
}
