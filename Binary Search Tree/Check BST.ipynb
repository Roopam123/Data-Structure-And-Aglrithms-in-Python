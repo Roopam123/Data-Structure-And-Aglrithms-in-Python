{
 "cells": [
  {
   "cell_type": "code",
   "execution_count": 63,
   "id": "dd7ff34e",
   "metadata": {},
   "outputs": [],
   "source": [
    "class BinarySearchTree:\n",
    "    def __init__(self,data):\n",
    "        self.data = data\n",
    "        self.left = None\n",
    "        self.right = None"
   ]
  },
  {
   "cell_type": "code",
   "execution_count": 64,
   "id": "b0af8e44",
   "metadata": {},
   "outputs": [],
   "source": [
    "def printSearchTree(root):\n",
    "    if root is None:\n",
    "        return\n",
    "    print(root.data,end=\":\")\n",
    "    if root.left is not None:\n",
    "        print(\"L\",root.left.data,end=\",\")\n",
    "    if root.right is not None:\n",
    "        print(\"R\",root.right.data,end=\"\")\n",
    "    print()\n",
    "    printSearchTree(root.left)\n",
    "    printSearchTree(root.right)"
   ]
  },
  {
   "cell_type": "code",
   "execution_count": 65,
   "id": "35e177bf",
   "metadata": {},
   "outputs": [],
   "source": [
    "import queue"
   ]
  },
  {
   "cell_type": "code",
   "execution_count": 66,
   "id": "aa73ed0c",
   "metadata": {},
   "outputs": [],
   "source": [
    "def takeInputLevelWise():\n",
    "    q = queue.Queue()\n",
    "    print(\"Enter Your Root\")\n",
    "    rootData = int(input())\n",
    "    root = BinarySearchTree(rootData)\n",
    "    if rootData ==-1:\n",
    "        return None\n",
    "    q.put(root)\n",
    "    while (not(q.empty())):\n",
    "        current_node = q.get()\n",
    "        print(\"Enter the left Child of \",current_node.data)\n",
    "        leftChildData = int(input())\n",
    "        if leftChildData != -1:\n",
    "            leftChild = BinarySearchTree(leftChildData)\n",
    "            current_node.left = leftChild\n",
    "            q.put(leftChild)\n",
    "        print(\"Enter Right Child Of\",current_node.data)\n",
    "        rightChildData = int(input())\n",
    "        if rightChildData != -1:\n",
    "            rightChild = BinarySearchTree(rightChildData)\n",
    "            current_node.right = rightChild\n",
    "            q.put(rightChild)\n",
    "    return root"
   ]
  },
  {
   "cell_type": "code",
   "execution_count": 67,
   "id": "6c0ffa26",
   "metadata": {},
   "outputs": [],
   "source": [
    "def minTree(root):\n",
    "    if root==None:\n",
    "        return 100000\n",
    "    leftMin=minTree(root.left)\n",
    "    rightMin=minTree(root.right)\n",
    "    return min(leftMin,rightMin,root.data)"
   ]
  },
  {
   "cell_type": "code",
   "execution_count": 68,
   "id": "43d8a82f",
   "metadata": {},
   "outputs": [],
   "source": [
    "def maxTree(root):\n",
    "    if root==None:\n",
    "        return -100000\n",
    "    leftMax=maxTree(root.left)\n",
    "    rightMax=maxTree(root.right)\n",
    "    return max(leftMax,rightMax,root.data)"
   ]
  },
  {
   "cell_type": "code",
   "execution_count": 69,
   "id": "295049c1",
   "metadata": {},
   "outputs": [],
   "source": [
    "def isBST(root):\n",
    "    if root==None:\n",
    "        return True\n",
    "    leftMax=maxTree(root.left)\n",
    "    rightMin=minTree(root.right)\n",
    "    if root.data>rightMin or root.data<=leftMax:\n",
    "        return False\n",
    "    isLeftBST=isBST(root.left)\n",
    "    isRightBST=isBST(root.right)\n",
    "    return isLeftBST and isRightBST"
   ]
  },
  {
   "cell_type": "code",
   "execution_count": 70,
   "id": "33aed03d",
   "metadata": {},
   "outputs": [],
   "source": [
    "def isBST2(root):\n",
    "    if root==None:\n",
    "        return 100000,-100000,True\n",
    "    leftMin,leftMax,isLeftBST=isBST2(root.left)\n",
    "    rightMin,rightMax,isRightBST=isBST2(root.right)\n",
    "    \n",
    "    minimum=min(leftMin,rightMin,root.data)\n",
    "    maximum=max(leftMax,rightMax,root.data)\n",
    "    isTreeBST=True\n",
    "    if root.data<=leftMax or root.data>rightMin:\n",
    "        isTreeBST=False\n",
    "    if not(isLeftBST) or not(isRightBST):\n",
    "        isTreeBST=False\n",
    "        \n",
    "    return minimum,maximum,isTreeBST"
   ]
  },
  {
   "cell_type": "code",
   "execution_count": 71,
   "id": "99a3a38a",
   "metadata": {},
   "outputs": [],
   "source": [
    "def isBST3(root,min_range,max_range):\n",
    "    if root==None:\n",
    "        return True\n",
    "    if root.data<min_range or root.data>max_range:\n",
    "        return False\n",
    "    \n",
    "    isLeftWithinConstraints=isBST3(root.left,min_range,root.data-1)\n",
    "    isRightWithinConstraints=isBST3(root.right,root.data,max_range)\n",
    "    \n",
    "    return isLeftWithinConstraints and isRightWithinConstraints"
   ]
  },
  {
   "cell_type": "code",
   "execution_count": 74,
   "id": "6ab3fb9e",
   "metadata": {},
   "outputs": [
    {
     "name": "stdout",
     "output_type": "stream",
     "text": [
      "Enter Your Root\n",
      "4\n",
      "Enter the left Child of  4\n",
      "2\n",
      "Enter Right Child Of 4\n",
      "6\n",
      "Enter the left Child of  2\n",
      "1\n",
      "Enter Right Child Of 2\n",
      "3\n",
      "Enter the left Child of  6\n",
      "5\n",
      "Enter Right Child Of 6\n",
      "7\n",
      "Enter the left Child of  1\n",
      "-1\n",
      "Enter Right Child Of 1\n",
      "-1\n",
      "Enter the left Child of  3\n",
      "-1\n",
      "Enter Right Child Of 3\n",
      "-1\n",
      "Enter the left Child of  5\n",
      "-1\n",
      "Enter Right Child Of 5\n",
      "-1\n",
      "Enter the left Child of  7\n",
      "-1\n",
      "Enter Right Child Of 7\n",
      "-1\n",
      "4:L 2,R 6\n",
      "2:L 1,R 3\n",
      "1:\n",
      "3:\n",
      "6:L 5,R 7\n",
      "5:\n",
      "7:\n"
     ]
    },
    {
     "ename": "TypeError",
     "evalue": "isBST3() missing 2 required positional arguments: 'min_range' and 'max_range'",
     "output_type": "error",
     "traceback": [
      "\u001b[1;31m---------------------------------------------------------------------------\u001b[0m",
      "\u001b[1;31mTypeError\u001b[0m                                 Traceback (most recent call last)",
      "Input \u001b[1;32mIn [74]\u001b[0m, in \u001b[0;36m<cell line: 3>\u001b[1;34m()\u001b[0m\n\u001b[0;32m      1\u001b[0m root \u001b[38;5;241m=\u001b[39m takeInputLevelWise()\n\u001b[0;32m      2\u001b[0m printSearchTree(root)\n\u001b[1;32m----> 3\u001b[0m \u001b[43misBST3\u001b[49m\u001b[43m(\u001b[49m\u001b[43mroot\u001b[49m\u001b[43m)\u001b[49m\n",
      "\u001b[1;31mTypeError\u001b[0m: isBST3() missing 2 required positional arguments: 'min_range' and 'max_range'"
     ]
    }
   ],
   "source": [
    "root = takeInputLevelWise()\n",
    "printSearchTree(root)\n",
    "isBST3(root,-100000)"
   ]
  },
  {
   "cell_type": "code",
   "execution_count": null,
   "id": "a48d14db",
   "metadata": {},
   "outputs": [],
   "source": []
  }
 ],
 "metadata": {
  "kernelspec": {
   "display_name": "Python 3 (ipykernel)",
   "language": "python",
   "name": "python3"
  },
  "language_info": {
   "codemirror_mode": {
    "name": "ipython",
    "version": 3
   },
   "file_extension": ".py",
   "mimetype": "text/x-python",
   "name": "python",
   "nbconvert_exporter": "python",
   "pygments_lexer": "ipython3",
   "version": "3.9.12"
  }
 },
 "nbformat": 4,
 "nbformat_minor": 5
}
