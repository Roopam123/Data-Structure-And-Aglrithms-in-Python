{
 "cells": [
  {
   "cell_type": "code",
   "execution_count": 6,
   "id": "1afdb0c4",
   "metadata": {},
   "outputs": [
    {
     "name": "stdout",
     "output_type": "stream",
     "text": [
      "15\n",
      "13\n",
      "12\n",
      "Hey! Stack is Empty!\n"
     ]
    }
   ],
   "source": [
    "class Node:\n",
    "    def __init__(self,initData):\n",
    "        self.data=initData\n",
    "        self.next=None\n",
    "\n",
    "class Stack:\n",
    "    def __init__(self):\n",
    "        self.__head=None\n",
    "        self.__count=0\n",
    "    def push(self,element):\n",
    "        newNode=Node(element)\n",
    "        newNode.next=self.__head\n",
    "        self.__head=newNode \n",
    "        self.__count=self.__count+1\n",
    "    \n",
    "    def pop(self):\n",
    "        if self.isEmpty() is True:\n",
    "            print(\"Hey!Stack is Empty!\")\n",
    "            return\n",
    "        data=self.__head.data\n",
    "        self.__head=self.__head.next\n",
    "        self.__count=self.__count-1\n",
    "        return data\n",
    "        \n",
    "    def top(self):\n",
    "        if self.isEmpty() is True:\n",
    "            print(\"Hey! Stack is Empty!\")\n",
    "            return\n",
    "        data=self.__head.data\n",
    "        return data\n",
    "    \n",
    "    def size(self):\n",
    "        return self.__count\n",
    "    \n",
    "    def isEmpty(self):\n",
    "        return self.size()==0\n",
    "\n",
    "s=Stack()\n",
    "s.push(12)\n",
    "s.push(13)\n",
    "s.push(15)\n",
    "while s.isEmpty() is False:\n",
    "    print(s.pop())\n",
    "s.top()"
   ]
  },
  {
   "cell_type": "code",
   "execution_count": null,
   "id": "7de979ba",
   "metadata": {},
   "outputs": [],
   "source": [
    "class Node:\n",
    "    def __init__(self,data):\n",
    "        self.data = data\n",
    "        self.next = None\n",
    "        \n",
    "class Stack:\n",
    "    def __init__(self):\n",
    "        self.__head = None\n",
    "        self.__count = 0\n",
    "    def push(self,item):\n",
    "        newNode = Node(item)\n",
    "        newNode.next = self.__head\n",
    "        self.__head = newNode\n",
    "        self.__count = self.__count + 1\n",
    "    def pop(self):\n",
    "        if self.__head is None:\n",
    "            return -1\n",
    "        data = self.__head.data\n",
    "        self.__head = self.__head.next\n",
    "        self.__count = self.__count -1\n",
    "        return data\n",
    "    def "
   ]
  }
 ],
 "metadata": {
  "kernelspec": {
   "display_name": "Python 3 (ipykernel)",
   "language": "python",
   "name": "python3"
  },
  "language_info": {
   "codemirror_mode": {
    "name": "ipython",
    "version": 3
   },
   "file_extension": ".py",
   "mimetype": "text/x-python",
   "name": "python",
   "nbconvert_exporter": "python",
   "pygments_lexer": "ipython3",
   "version": "3.9.12"
  }
 },
 "nbformat": 4,
 "nbformat_minor": 5
}
