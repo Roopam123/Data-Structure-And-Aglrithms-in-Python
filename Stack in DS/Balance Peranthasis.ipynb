{
 "cells": [
  {
   "cell_type": "code",
   "execution_count": null,
   "id": "d0eea410",
   "metadata": {},
   "outputs": [],
   "source": [
    "def isBalanced(string):\n",
    "    s = []\n",
    "    for chr i in string:\n",
    "        if chr in \"({[\":\n",
    "            s.append(chr)\n",
    "        elif chr in \")\":\n",
    "        elif chr in \"}\":\n",
    "        elif chr in \"]\":\n",
    "            \n",
    "            "
   ]
  },
  {
   "cell_type": "code",
   "execution_count": null,
   "id": "82172e21",
   "metadata": {},
   "outputs": [],
   "source": [
    "string = input()\n",
    "ans = isBalanced()\n",
    "print(ans)"
   ]
  },
  {
   "cell_type": "code",
   "execution_count": null,
   "id": "ebfbd2f8",
   "metadata": {},
   "outputs": [],
   "source": []
  }
 ],
 "metadata": {
  "kernelspec": {
   "display_name": "Python 3 (ipykernel)",
   "language": "python",
   "name": "python3"
  },
  "language_info": {
   "codemirror_mode": {
    "name": "ipython",
    "version": 3
   },
   "file_extension": ".py",
   "mimetype": "text/x-python",
   "name": "python",
   "nbconvert_exporter": "python",
   "pygments_lexer": "ipython3",
   "version": "3.9.12"
  }
 },
 "nbformat": 4,
 "nbformat_minor": 5
}
