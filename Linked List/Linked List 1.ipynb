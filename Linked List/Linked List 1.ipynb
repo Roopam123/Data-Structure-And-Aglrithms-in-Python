{
 "cells": [
  {
   "cell_type": "markdown",
   "id": "ca976ae5",
   "metadata": {},
   "source": [
    "Intro"
   ]
  },
  {
   "cell_type": "code",
   "execution_count": 11,
   "id": "68a9de94",
   "metadata": {},
   "outputs": [
    {
     "name": "stdout",
     "output_type": "stream",
     "text": [
      "1 2 3 4 5 -1\n",
      "1->2->3->4->5->None\n"
     ]
    }
   ],
   "source": [
    "class Node:\n",
    "    def __init__(self,data):\n",
    "        self.data = data\n",
    "        self.next = None\n",
    "def printLL(head):\n",
    "    while head is not None:\n",
    "        print(str(head.data)+ \"->\", end='')\n",
    "        head = head.next\n",
    "    print(\"None\")\n",
    "    return \n",
    "def takInput():\n",
    "    li = [int(i) for i in input().split()]\n",
    "    head = None\n",
    "    for j in li:\n",
    "        if j==-1:\n",
    "            break\n",
    "        newNode = Node(j)\n",
    "        if head is None:\n",
    "            head = newNode\n",
    "        else:\n",
    "            curr = head\n",
    "            while curr.next is not None:\n",
    "                curr = curr.next  \n",
    "            curr.next = newNode\n",
    "    return head\n",
    "head = takInput()\n",
    "printLL(head)"
   ]
  },
  {
   "cell_type": "code",
   "execution_count": 14,
   "id": "a7403bb8",
   "metadata": {},
   "outputs": [
    {
     "name": "stdout",
     "output_type": "stream",
     "text": [
      "1 2 3 4 5 6 -1\n",
      "1->2->3->4->5->6->None\n"
     ]
    }
   ],
   "source": [
    "class Node:\n",
    "    def __init__(self,data):\n",
    "        self.data = data\n",
    "        self.next = None\n",
    "def printLL(head):\n",
    "    while head is not None:\n",
    "        print(str(head.data)+ \"->\", end='')\n",
    "        head = head.next\n",
    "    print(\"None\")\n",
    "    return \n",
    "def takInput():\n",
    "    li = [int(i) for i in input().split()]\n",
    "    head = None\n",
    "    tail = None\n",
    "    for j in li:\n",
    "        if j==-1:\n",
    "            break\n",
    "        newNode = Node(j)\n",
    "        if head is None:\n",
    "            head = newNode\n",
    "            tail = newNode\n",
    "        else:\n",
    "            tail.next = newNode\n",
    "            tail = newNode\n",
    "    return head\n",
    "head = takInput()\n",
    "printLL(head)"
   ]
  },
  {
   "cell_type": "markdown",
   "id": "d1227afc",
   "metadata": {},
   "source": [
    "insert at ith position"
   ]
  },
  {
   "cell_type": "code",
   "execution_count": 1,
   "id": "22bd67a4",
   "metadata": {},
   "outputs": [
    {
     "name": "stdout",
     "output_type": "stream",
     "text": [
      "1 2 3 4 5 -1\n",
      "1->2->3->4->5->None\n",
      "1->2->6->3->4->5->None\n",
      "9->1->2->6->3->4->5->None\n",
      "9->1->2->6->3->4->5->10->None\n"
     ]
    }
   ],
   "source": [
    "class Node:\n",
    "    def __init__(self,data):\n",
    "        self.data=data\n",
    "        self.next=None\n",
    "def printLL(head):\n",
    "    while head is not None:\n",
    "        print(str(head.data)+\"->\",end='')\n",
    "        head=head.next\n",
    "    print(\"None\")\n",
    "    return\n",
    "def length(head):\n",
    "    count=0\n",
    "    while head is not None:\n",
    "        count=count+1\n",
    "        head=head.next\n",
    "    return count\n",
    "def insertAtI(head,i,data):\n",
    "    if i<0 or i>length(head):\n",
    "        return head\n",
    "    count=0\n",
    "    prev=None\n",
    "    curr=head\n",
    "    while count<i:\n",
    "        \n",
    "        \n",
    "        prev=curr\n",
    "        curr=curr.next\n",
    "        count=count+1\n",
    "    newNode=Node(data)\n",
    "    if prev is not None:\n",
    "        prev.next=newNode\n",
    "    else:\n",
    "        head=newNode\n",
    "    \n",
    "    newNode.next=curr\n",
    "    return head\n",
    "def takeInput():\n",
    "    inputList=[int (ele) for ele in input().split()]\n",
    "    head=None\n",
    "    tail=None\n",
    "    for currData in inputList:\n",
    "        if currData==-1:\n",
    "            break\n",
    "        newNode=Node(currData)\n",
    "        if head is None:\n",
    "            head=newNode\n",
    "            tail=newNode\n",
    "        else:\n",
    "            tail.next=newNode\n",
    "            tail=newNode\n",
    "    return head\n",
    "head=takeInput()\n",
    "printLL(head)\n",
    "head=insertAtI(head,2,6)\n",
    "printLL(head)\n",
    "head=insertAtI(head,0,9)\n",
    "printLL(head)\n",
    "head=insertAtI(head,7,10)\n",
    "printLL(head)"
   ]
  },
  {
   "cell_type": "code",
   "execution_count": 4,
   "id": "2f1ccb07",
   "metadata": {},
   "outputs": [
    {
     "name": "stdout",
     "output_type": "stream",
     "text": [
      "1 2 3 4 5 -1\n",
      "1->2->3->4->5->None\n"
     ]
    },
    {
     "data": {
      "text/plain": [
       "5"
      ]
     },
     "execution_count": 4,
     "metadata": {},
     "output_type": "execute_result"
    }
   ],
   "source": [
    "class Node:\n",
    "    def __init__(self,data):\n",
    "        self.data=data\n",
    "        self.next=None\n",
    "def printLL(head):\n",
    "    while head is not None:\n",
    "        print(str(head.data)+\"->\",end='')\n",
    "        head=head.next\n",
    "    print(\"None\")\n",
    "    return\n",
    "def length(head):\n",
    "    count=0\n",
    "    while head is not None:\n",
    "        count=count+1\n",
    "        head=head.next\n",
    "    return count\n",
    "def takeInput():\n",
    "    inputList=[int (ele) for ele in input().split()]\n",
    "    head=None\n",
    "    tail=None\n",
    "    for currData in inputList:\n",
    "        if currData==-1:\n",
    "            break\n",
    "        newNode=Node(currData)\n",
    "        if head is None:\n",
    "            head=newNode\n",
    "            tail=newNode\n",
    "        else:\n",
    "            tail.next=newNode\n",
    "            tail=newNode\n",
    "    return head\n",
    "head = takeInput()\n",
    "printLL(head)\n",
    "length(head)"
   ]
  }
 ],
 "metadata": {
  "kernelspec": {
   "display_name": "Python 3 (ipykernel)",
   "language": "python",
   "name": "python3"
  },
  "language_info": {
   "codemirror_mode": {
    "name": "ipython",
    "version": 3
   },
   "file_extension": ".py",
   "mimetype": "text/x-python",
   "name": "python",
   "nbconvert_exporter": "python",
   "pygments_lexer": "ipython3",
   "version": "3.9.12"
  }
 },
 "nbformat": 4,
 "nbformat_minor": 5
}
