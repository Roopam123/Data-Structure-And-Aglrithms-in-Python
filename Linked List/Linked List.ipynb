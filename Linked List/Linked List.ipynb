{
 "cells": [
  {
   "cell_type": "markdown",
   "id": "af151ddb",
   "metadata": {},
   "source": [
    "# Intro. of a Link List"
   ]
  },
  {
   "cell_type": "code",
   "execution_count": 22,
   "id": "be4c1b27",
   "metadata": {},
   "outputs": [
    {
     "name": "stdout",
     "output_type": "stream",
     "text": [
      "Data of the a obj:- 12\n",
      "Refrence of the b element:- <__main__.Node object at 0x0000026BE1F3A4F0>\n",
      "Data of the b obj:- 13\n",
      "Data of the b obj:- 13\n",
      "Refrene of the b:- <__main__.Node object at 0x0000026BE1F3A760>\n",
      "print of a obj <__main__.Node object at 0x0000026BE1F3A760>\n",
      "print of b obj <__main__.Node object at 0x0000026BE1F3A4F0>\n"
     ]
    }
   ],
   "source": [
    "class Node:\n",
    "    def __init__(self,data):\n",
    "        self.data = data\n",
    "        self.next = None\n",
    "a = Node(12)\n",
    "b = Node(13)\n",
    "a.next = b\n",
    "print(\"Data of the a obj:-\",a.data)\n",
    "print(\"Refrence of the b element:-\",a.next)\n",
    "print(\"Data of the b obj:-\",b.data)\n",
    "print(\"Data of the b obj:-\",a.next.data)\n",
    "b.next = a\n",
    "print(\"Refrene of the b:-\",b.next)\n",
    "print(\"print of a obj\",a)\n",
    "print(\"print of b obj\",b)"
   ]
  },
  {
   "cell_type": "markdown",
   "id": "966b0a96",
   "metadata": {},
   "source": [
    "# Taking Input in and create a Link List"
   ]
  },
  {
   "cell_type": "code",
   "execution_count": null,
   "id": "0b76c1c4",
   "metadata": {},
   "outputs": [],
   "source": [
    "class Node:\n",
    "    def __init__(self,data):\n",
    "        self.data = data\n",
    "        self.next = None\n",
    "head = None\n",
    "def takeInput():\n",
    "    li = [int(i) for i in input().split()]\n",
    "    for j in li:\n",
    "        if j==-1:\n",
    "            break\n",
    "    newList = Node(j)\n",
    "    if head is None:\n",
    "        head = newList\n",
    "    else:\n",
    "        curr = head\n",
    "        if curr!= None:\n",
    "            curr = curr.next\n",
    "        curr.next = newList\n",
    "    return head\n",
    "head = takeInput()\n",
    "printLL(head)"
   ]
  },
  {
   "cell_type": "markdown",
   "id": "f4bf058e",
   "metadata": {},
   "source": [
    "# Print the Linked List "
   ]
  },
  {
   "cell_type": "code",
   "execution_count": 45,
   "id": "b4bc615b",
   "metadata": {},
   "outputs": [
    {
     "name": "stdout",
     "output_type": "stream",
     "text": [
      "1 2 3 4 5\n",
      "1->2->3->4->5->None\n"
     ]
    }
   ],
   "source": [
    "class Node:\n",
    "    def __init__(self,data):\n",
    "        self.data = data\n",
    "        self.next = None\n",
    "def printLL(head):\n",
    "    while head is not None:\n",
    "        print(str(head.data)+\"->\",end='')\n",
    "        head=head.next\n",
    "    print(\"None\")\n",
    "    return \n",
    "def takInput():\n",
    "    li = [int(i) for i in input().split()]\n",
    "    head = None\n",
    "    for j in li:\n",
    "        if j == -1:\n",
    "            break \n",
    "    newNode = Node(j)\n",
    "    if head is None:\n",
    "        head = newNode\n",
    "    else:\n",
    "        curr = head\n",
    "        while curr.next is not None:\n",
    "            curr = curr.next \n",
    "        curr.next = newnode\n",
    "    return head\n",
    "head = takeInput()\n",
    "printLL(head)"
   ]
  },
  {
   "cell_type": "markdown",
   "id": "9cfb9c00",
   "metadata": {},
   "source": [
    "# Optimization Time Complexity of the Linked List"
   ]
  },
  {
   "cell_type": "code",
   "execution_count": 27,
   "id": "d52c28b9",
   "metadata": {},
   "outputs": [
    {
     "ename": "ValueError",
     "evalue": "invalid literal for int() with base 10: ''",
     "output_type": "error",
     "traceback": [
      "\u001b[1;31m---------------------------------------------------------------------------\u001b[0m",
      "\u001b[1;31mValueError\u001b[0m                                Traceback (most recent call last)",
      "Input \u001b[1;32mIn [27]\u001b[0m, in \u001b[0;36m<cell line: 26>\u001b[1;34m()\u001b[0m\n\u001b[0;32m     24\u001b[0m         tail \u001b[38;5;241m=\u001b[39m newNone\n\u001b[0;32m     25\u001b[0m     \u001b[38;5;28;01mreturn\u001b[39;00m head\n\u001b[1;32m---> 26\u001b[0m head \u001b[38;5;241m=\u001b[39m \u001b[43mtakeInput\u001b[49m\u001b[43m(\u001b[49m\u001b[43m)\u001b[49m\n\u001b[0;32m     27\u001b[0m printLL(head)\n",
      "Input \u001b[1;32mIn [15]\u001b[0m, in \u001b[0;36mtakeInput\u001b[1;34m()\u001b[0m\n\u001b[0;32m     15\u001b[0m head \u001b[38;5;241m=\u001b[39m \u001b[38;5;28;01mNone\u001b[39;00m\n\u001b[0;32m     16\u001b[0m tail \u001b[38;5;241m=\u001b[39m \u001b[38;5;28;01mNone\u001b[39;00m\n\u001b[1;32m---> 17\u001b[0m datas \u001b[38;5;241m=\u001b[39m \u001b[38;5;28;43mlist\u001b[39;49m\u001b[43m(\u001b[49m\u001b[38;5;28;43mmap\u001b[39;49m\u001b[43m(\u001b[49m\u001b[38;5;28;43mint\u001b[39;49m\u001b[43m,\u001b[49m\u001b[43m \u001b[49m\u001b[43mstdin\u001b[49m\u001b[38;5;241;43m.\u001b[39;49m\u001b[43mreadline\u001b[49m\u001b[43m(\u001b[49m\u001b[43m)\u001b[49m\u001b[38;5;241;43m.\u001b[39;49m\u001b[43mrstrip\u001b[49m\u001b[43m(\u001b[49m\u001b[43m)\u001b[49m\u001b[38;5;241;43m.\u001b[39;49m\u001b[43msplit\u001b[49m\u001b[43m(\u001b[49m\u001b[38;5;124;43m\"\u001b[39;49m\u001b[38;5;124;43m \u001b[39;49m\u001b[38;5;124;43m\"\u001b[39;49m\u001b[43m)\u001b[49m\u001b[43m)\u001b[49m\u001b[43m)\u001b[49m\n\u001b[0;32m     18\u001b[0m i \u001b[38;5;241m=\u001b[39m \u001b[38;5;241m0\u001b[39m\n\u001b[0;32m     19\u001b[0m \u001b[38;5;28;01mwhile\u001b[39;00m (i \u001b[38;5;241m<\u001b[39m \u001b[38;5;28mlen\u001b[39m(datas)) \u001b[38;5;129;01mand\u001b[39;00m (datas[i] \u001b[38;5;241m!=\u001b[39m \u001b[38;5;241m-\u001b[39m\u001b[38;5;241m1\u001b[39m) :\n",
      "\u001b[1;31mValueError\u001b[0m: invalid literal for int() with base 10: ''"
     ]
    }
   ],
   "source": [
    "class Node:\n",
    "    def __init__(self,data):\n",
    "        self.data = data\n",
    "        self.next = None\n",
    "def printLL(head):\n",
    "    while head is not None:\n",
    "        print(str(head.data)+\"->\",end='')\n",
    "        head=head.next\n",
    "    print(\"None\")\n",
    "    return \n",
    "def takInput():\n",
    "    li = [int(i) for i in input().split()]\n",
    "    head = None\n",
    "    tail = None\n",
    "    for j in li:\n",
    "        if j == -1:\n",
    "            break \n",
    "    newNode = Node(j)\n",
    "    if head is None:\n",
    "        head = newNode\n",
    "        tail = newNode\n",
    "    else:\n",
    "        tail.next = newNode\n",
    "        tail = newNone\n",
    "    return head\n",
    "head = takeInput()\n",
    "printLL(head)"
   ]
  },
  {
   "cell_type": "code",
   "execution_count": 16,
   "id": "2e14346e",
   "metadata": {},
   "outputs": [
    {
     "name": "stdout",
     "output_type": "stream",
     "text": [
      "1 2 3 4 5\n",
      "1->2->3->4->5->None\n"
     ]
    },
    {
     "ename": "KeyboardInterrupt",
     "evalue": "",
     "output_type": "error",
     "traceback": [
      "\u001b[1;31m---------------------------------------------------------------------------\u001b[0m",
      "\u001b[1;31mKeyboardInterrupt\u001b[0m                         Traceback (most recent call last)",
      "Input \u001b[1;32mIn [16]\u001b[0m, in \u001b[0;36m<cell line: 33>\u001b[1;34m()\u001b[0m\n\u001b[0;32m     31\u001b[0m         \u001b[38;5;28msum\u001b[39m \u001b[38;5;241m=\u001b[39m \u001b[38;5;28msum\u001b[39m \u001b[38;5;241m+\u001b[39m\u001b[38;5;241m1\u001b[39m\n\u001b[0;32m     32\u001b[0m     \u001b[38;5;28;01mreturn\u001b[39;00m \u001b[38;5;28msum\u001b[39m \n\u001b[1;32m---> 33\u001b[0m \u001b[43mlen1\u001b[49m\u001b[43m(\u001b[49m\u001b[43mhead\u001b[49m\u001b[43m)\u001b[49m\n",
      "Input \u001b[1;32mIn [16]\u001b[0m, in \u001b[0;36mlen1\u001b[1;34m(head)\u001b[0m\n\u001b[0;32m     29\u001b[0m \u001b[38;5;28msum\u001b[39m \u001b[38;5;241m=\u001b[39m \u001b[38;5;241m1\u001b[39m \n\u001b[0;32m     30\u001b[0m \u001b[38;5;28;01mwhile\u001b[39;00m head \u001b[38;5;129;01mis\u001b[39;00m \u001b[38;5;129;01mnot\u001b[39;00m \u001b[38;5;28;01mNone\u001b[39;00m:\n\u001b[1;32m---> 31\u001b[0m     \u001b[38;5;28msum\u001b[39m \u001b[38;5;241m=\u001b[39m \u001b[38;5;28msum\u001b[39m \u001b[38;5;241m+\u001b[39m\u001b[38;5;241m1\u001b[39m\n\u001b[0;32m     32\u001b[0m \u001b[38;5;28;01mreturn\u001b[39;00m \u001b[38;5;28msum\u001b[39m\n",
      "\u001b[1;31mKeyboardInterrupt\u001b[0m: "
     ]
    }
   ],
   "source": [
    "class Node:\n",
    "    def __init__(self,data):\n",
    "        self.data=data\n",
    "        self.next=None\n",
    "def printLL(head):\n",
    "    while head is not None:\n",
    "        print(str(head.data)+\"->\",end='')\n",
    "        head=head.next\n",
    "    print(\"None\")\n",
    "    return\n",
    "def takeInput():\n",
    "    inputList=[int (ele) for ele in input().split()]\n",
    "    head=None\n",
    "    tail=None\n",
    "    for currData in inputList:\n",
    "        if currData==-1:\n",
    "            break\n",
    "        newNode=Node(currData)\n",
    "        if head is None:\n",
    "            head=newNode\n",
    "            tail=newNode\n",
    "        else:\n",
    "            tail.next=newNode\n",
    "            tail=newNode\n",
    "    return head\n",
    "head=takeInput()\n",
    "printLL(head)\n",
    "def len1(head):\n",
    "    sum = 1 \n",
    "    while head is not None:\n",
    "        sum = sum +1\n",
    "    return sum \n",
    "len1(head)"
   ]
  }
 ],
 "metadata": {
  "kernelspec": {
   "display_name": "Python 3 (ipykernel)",
   "language": "python",
   "name": "python3"
  },
  "language_info": {
   "codemirror_mode": {
    "name": "ipython",
    "version": 3
   },
   "file_extension": ".py",
   "mimetype": "text/x-python",
   "name": "python",
   "nbconvert_exporter": "python",
   "pygments_lexer": "ipython3",
   "version": "3.9.12"
  }
 },
 "nbformat": 4,
 "nbformat_minor": 5
}
