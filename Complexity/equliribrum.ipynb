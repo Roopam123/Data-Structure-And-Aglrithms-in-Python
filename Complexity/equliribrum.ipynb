{
 "cells": [
  {
   "cell_type": "code",
   "execution_count": 3,
   "id": "d9906cc0",
   "metadata": {},
   "outputs": [],
   "source": [
    "def eq(arr):\n",
    "    ls = 0\n",
    "    rs = 0\n",
    "    for i in range(len(arr)):\n",
    "        ls = 0\n",
    "        rs = 0\n",
    "        for j in range(i):\n",
    "            ls = ls + arr[j]\n",
    "        for k in range(i+1,len(arr)):\n",
    "            rs = rs + arr[k]\n",
    "        if ls == rs:\n",
    "            return i\n",
    "    return -1"
   ]
  },
  {
   "cell_type": "code",
   "execution_count": 4,
   "id": "a6857532",
   "metadata": {},
   "outputs": [
    {
     "data": {
      "text/plain": [
       "2"
      ]
     },
     "execution_count": 4,
     "metadata": {},
     "output_type": "execute_result"
    }
   ],
   "source": [
    "arr = 1,4,9,3,2\n",
    "eq(arr)"
   ]
  }
 ],
 "metadata": {
  "kernelspec": {
   "display_name": "Python 3 (ipykernel)",
   "language": "python",
   "name": "python3"
  },
  "language_info": {
   "codemirror_mode": {
    "name": "ipython",
    "version": 3
   },
   "file_extension": ".py",
   "mimetype": "text/x-python",
   "name": "python",
   "nbconvert_exporter": "python",
   "pygments_lexer": "ipython3",
   "version": "3.9.12"
  }
 },
 "nbformat": 4,
 "nbformat_minor": 5
}
