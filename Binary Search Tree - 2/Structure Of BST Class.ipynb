{
 "cells": [
  {
   "cell_type": "code",
   "execution_count": 1,
   "id": "69ee1f8b",
   "metadata": {},
   "outputs": [],
   "source": [
    "class BinaryTree:\n",
    "    def __init__(self,data):\n",
    "        self.data = data\n",
    "        self.left = None\n",
    "        self.right = None"
   ]
  },
  {
   "cell_type": "code",
   "execution_count": 3,
   "id": "8376e30b",
   "metadata": {},
   "outputs": [],
   "source": [
    "class BST:\n",
    "    def __init__(self):\n",
    "        self.root = None\n",
    "        self.numNode = None\n",
    "    def printTreeHelper(self,root):\n",
    "        if root is None:\n",
    "            return \n",
    "        print(root.data,end=\"\")\n",
    "        if root.left is not None:\n",
    "            print(\"L\",root.left.data,end=\",\")\n",
    "        if root.right is not None:\n",
    "            print(\"R\",root.right.data,end=\" \")\n",
    "        print()\n",
    "        printTreeHelper(root.left)\n",
    "        printTreeHelper(root.right)\n",
    "    def printTree(self):\n",
    "        printTreeHelper(self.root)\n",
    "    def isPresentHelper(self,root,data):\n",
    "        if root is None:\n",
    "            return False\n",
    "        if root.data == data:\n",
    "            return True\n",
    "        if root.data>data:\n",
    "            # Call on left \n",
    "            return isPresentHelper(root.left,data)\n",
    "        else:\n",
    "            #Call on right\n",
    "            return isPresentHelper(root.right,data)            \n",
    "    def isPresent(self,data):\n",
    "        return isPresent(self.root,data)\n",
    "    def insert(self):\n",
    "        return \n",
    "    def deleteData(self):\n",
    "        return False\n",
    "    def count(self):\n",
    "        return 0"
   ]
  },
  {
   "cell_type": "code",
   "execution_count": 5,
   "id": "8540b2d9",
   "metadata": {},
   "outputs": [
    {
     "ename": "TypeError",
     "evalue": "insert() takes 1 positional argument but 2 were given",
     "output_type": "error",
     "traceback": [
      "\u001b[1;31m---------------------------------------------------------------------------\u001b[0m",
      "\u001b[1;31mTypeError\u001b[0m                                 Traceback (most recent call last)",
      "Input \u001b[1;32mIn [5]\u001b[0m, in \u001b[0;36m<cell line: 2>\u001b[1;34m()\u001b[0m\n\u001b[0;32m      1\u001b[0m b\u001b[38;5;241m=\u001b[39mBST()\n\u001b[1;32m----> 2\u001b[0m \u001b[43mb\u001b[49m\u001b[38;5;241;43m.\u001b[39;49m\u001b[43minsert\u001b[49m\u001b[43m(\u001b[49m\u001b[38;5;241;43m10\u001b[39;49m\u001b[43m)\u001b[49m\n\u001b[0;32m      3\u001b[0m b\u001b[38;5;241m.\u001b[39minsert(\u001b[38;5;241m5\u001b[39m)\n\u001b[0;32m      4\u001b[0m b\u001b[38;5;241m.\u001b[39minsert(\u001b[38;5;241m12\u001b[39m)\n",
      "\u001b[1;31mTypeError\u001b[0m: insert() takes 1 positional argument but 2 were given"
     ]
    }
   ],
   "source": [
    "b=BST()\n",
    "b.insert(10)\n",
    "b.insert(5)\n",
    "b.insert(12)\n",
    "print(b.isPresent(10))\n",
    "print(b.isPresent(7))\n",
    "print(b.isPresent(4))\n",
    "print(b.isPresent(10))\n",
    "print(b.count())\n",
    "b.printTree()\n"
   ]
  },
  {
   "cell_type": "code",
   "execution_count": null,
   "id": "30f98820",
   "metadata": {},
   "outputs": [],
   "source": []
  }
 ],
 "metadata": {
  "kernelspec": {
   "display_name": "Python 3 (ipykernel)",
   "language": "python",
   "name": "python3"
  },
  "language_info": {
   "codemirror_mode": {
    "name": "ipython",
    "version": 3
   },
   "file_extension": ".py",
   "mimetype": "text/x-python",
   "name": "python",
   "nbconvert_exporter": "python",
   "pygments_lexer": "ipython3",
   "version": "3.9.12"
  }
 },
 "nbformat": 4,
 "nbformat_minor": 5
}
