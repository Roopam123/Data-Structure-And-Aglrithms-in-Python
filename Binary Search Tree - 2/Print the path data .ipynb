{
 "cells": [
  {
   "cell_type": "code",
   "execution_count": 32,
   "id": "b73d1b25",
   "metadata": {},
   "outputs": [],
   "source": [
    "class BinaryTreeNode:\n",
    "    def __init__(self,data):\n",
    "        self.data=data;\n",
    "        self.left=None\n",
    "        self.right=None"
   ]
  },
  {
   "cell_type": "code",
   "execution_count": 33,
   "id": "fae35038",
   "metadata": {},
   "outputs": [],
   "source": [
    "def printTreeDetailed(root):\n",
    "    if root==None:\n",
    "        return\n",
    "    print(root.data,end=\":\")\n",
    "    if root.left!=None:\n",
    "        print(\"L\",root.left.data,end=\",\")\n",
    "    if root.right!=None:\n",
    "        print(\"R\",root.right.data,end=\"\")\n",
    "    print()\n",
    "    printTreeDetailed(root.left)\n",
    "    printTreeDetailed(root.right)"
   ]
  },
  {
   "cell_type": "code",
   "execution_count": 34,
   "id": "dbec740e",
   "metadata": {},
   "outputs": [],
   "source": [
    "import queue\n",
    "def takeTreeInputLevelWise():\n",
    "    q=queue.Queue()\n",
    "    print(\"Enter root\")\n",
    "    rootData=int(input())\n",
    "    if rootData==-1:\n",
    "        return None\n",
    "    root=BinaryTreeNode(rootData)\n",
    "    q.put(root)\n",
    "    while(not(q.empty())):\n",
    "        current_node=q.get()\n",
    "        print(\"Enter left child of\",current_node.data)\n",
    "        leftChildData=int(input())\n",
    "        if leftChildData!=-1:\n",
    "            leftChild=BinaryTreeNode(leftChildData)\n",
    "            current_node.left=leftChild\n",
    "            q.put(leftChild)\n",
    "        print(\"Enter right child of\",current_node.data)\n",
    "        rightChildData=int(input())\n",
    "        if rightChildData!=-1:\n",
    "            rightChild=BinaryTreeNode(rightChildData)\n",
    "            current_node.right=rightChild\n",
    "            q.put(rightChild)\n",
    "    return root"
   ]
  },
  {
   "cell_type": "code",
   "execution_count": 35,
   "id": "915017e6",
   "metadata": {},
   "outputs": [],
   "source": [
    "def findRootPath(root,s):\n",
    "    if root is None:\n",
    "        return None\n",
    "    if root.data == s:\n",
    "        li = []\n",
    "        li.append(root.data)\n",
    "        return li\n",
    "    leftOutput = findRootPath(root.left,s)\n",
    "    if leftOutput != None:\n",
    "        leftOutput.append(root.data)\n",
    "        return leftOutput\n",
    "    rightOutput = findRootPath(root.right,s)\n",
    "    if rightOutput != None:\n",
    "        rightOutput.append(root.data)\n",
    "        return rightOutput\n",
    "    else:\n",
    "        return None"
   ]
  },
  {
   "cell_type": "code",
   "execution_count": 36,
   "id": "0c17d697",
   "metadata": {},
   "outputs": [],
   "source": [
    "def nodeToRootPath(root,s):\n",
    "    if root is None:\n",
    "        return None\n",
    "    if root.data ==s:\n",
    "        li = list()\n",
    "        li.append(root.data)\n",
    "        return li\n",
    "    leftOutput = nodeToRootPath(root.left,s)\n",
    "    if leftOutput != None:\n",
    "        leftOutput.append(root.data)\n",
    "        return leftOutput\n",
    "    rightOutput = nodeToRootPath(root.right,s)\n",
    "    if rightOutput != None:\n",
    "        rightOutput.append(root.data)\n",
    "        return rightOutput\n",
    "    else:\n",
    "        return None"
   ]
  },
  {
   "cell_type": "code",
   "execution_count": 37,
   "id": "3f56e74d",
   "metadata": {},
   "outputs": [
    {
     "name": "stdout",
     "output_type": "stream",
     "text": [
      "Enter root\n",
      "1\n",
      "Enter left child of 1\n",
      "2\n",
      "Enter right child of 1\n",
      "3\n",
      "Enter left child of 2\n",
      "-1\n",
      "Enter right child of 2\n",
      "-1\n",
      "Enter left child of 3\n",
      "-1\n",
      "Enter right child of 3\n",
      "-1\n",
      "1:L 2,R 3\n",
      "2:\n",
      "3:\n"
     ]
    },
    {
     "data": {
      "text/plain": [
       "[2, 1]"
      ]
     },
     "execution_count": 37,
     "metadata": {},
     "output_type": "execute_result"
    }
   ],
   "source": [
    "root = takeTreeInputLevelWise()\n",
    "printTreeDetailed(root)\n",
    "findRootPath(root,2)"
   ]
  }
 ],
 "metadata": {
  "kernelspec": {
   "display_name": "Python 3 (ipykernel)",
   "language": "python",
   "name": "python3"
  },
  "language_info": {
   "codemirror_mode": {
    "name": "ipython",
    "version": 3
   },
   "file_extension": ".py",
   "mimetype": "text/x-python",
   "name": "python",
   "nbconvert_exporter": "python",
   "pygments_lexer": "ipython3",
   "version": "3.9.12"
  }
 },
 "nbformat": 4,
 "nbformat_minor": 5
}
