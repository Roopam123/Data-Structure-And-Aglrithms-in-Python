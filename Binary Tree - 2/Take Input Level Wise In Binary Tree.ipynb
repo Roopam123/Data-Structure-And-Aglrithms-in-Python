{
 "cells": [
  {
   "cell_type": "code",
   "execution_count": 7,
   "id": "8f3763da",
   "metadata": {},
   "outputs": [],
   "source": [
    "class BinaryTreeNode:\n",
    "    def __init__(self,data):\n",
    "        self.data=data;\n",
    "        self.left=None\n",
    "        self.right=None"
   ]
  },
  {
   "cell_type": "code",
   "execution_count": 8,
   "id": "58052dff",
   "metadata": {},
   "outputs": [],
   "source": [
    "def printTreeDetailed(root):\n",
    "    if root==None:\n",
    "        return\n",
    "    print(root.data,end=\":\")\n",
    "    if root.left!=None:\n",
    "        print(\"L\",root.left.data,end=\",\")\n",
    "    if root.right!=None:\n",
    "        print(\"R\",root.right.data,end=\"\")\n",
    "    print()\n",
    "    printTreeDetailed(root.left)\n",
    "    printTreeDetailed(root.right)"
   ]
  },
  {
   "cell_type": "code",
   "execution_count": 9,
   "id": "76ed1c12",
   "metadata": {},
   "outputs": [],
   "source": [
    "import queue"
   ]
  },
  {
   "cell_type": "code",
   "execution_count": 10,
   "id": "70c18627",
   "metadata": {},
   "outputs": [],
   "source": [
    "import queue\n",
    "def takeTreeInputLevelWise():\n",
    "    q=queue.Queue()\n",
    "    print(\"Enter root\")\n",
    "    rootData=int(input())\n",
    "    if rootData==-1:\n",
    "        return None\n",
    "    root=BinaryTreeNode(rootData)\n",
    "    q.put(root)\n",
    "    while(not(q.empty())):\n",
    "        current_node=q.get()\n",
    "        print(\"Enter left child of\",current_node.data)\n",
    "        leftChildData=int(input())\n",
    "        if leftChildData!=-1:\n",
    "            leftChild=BinaryTreeNode(leftChildData)\n",
    "            current_node.left=leftChild\n",
    "            q.put(leftChild)\n",
    "        \n",
    "        print(\"Enter right child of\",current_node.data)\n",
    "        rightChildData=int(input())\n",
    "        if rightChildData!=-1:\n",
    "            rightChild=BinaryTreeNode(rightChildData)\n",
    "            current_node.right=rightChild\n",
    "            q.put(rightChild)\n",
    "    return root"
   ]
  },
  {
   "cell_type": "code",
   "execution_count": 12,
   "id": "2b1ec418",
   "metadata": {},
   "outputs": [
    {
     "name": "stdout",
     "output_type": "stream",
     "text": [
      "Enter root\n",
      "1\n",
      "Enter left child of 1\n",
      "2\n",
      "Enter right child of 1\n",
      "3\n",
      "Enter left child of 2\n",
      "-1\n",
      "Enter right child of 2\n",
      "-1\n",
      "Enter left child of 3\n",
      "-1\n",
      "Enter right child of 3\n",
      "-1\n",
      "1:L 2,R 3\n",
      "2:\n",
      "3:\n"
     ]
    }
   ],
   "source": [
    "root=takeTreeInputLevelWise()\n",
    "printTreeDetailed(root)"
   ]
  }
 ],
 "metadata": {
  "kernelspec": {
   "display_name": "Python 3 (ipykernel)",
   "language": "python",
   "name": "python3"
  },
  "language_info": {
   "codemirror_mode": {
    "name": "ipython",
    "version": 3
   },
   "file_extension": ".py",
   "mimetype": "text/x-python",
   "name": "python",
   "nbconvert_exporter": "python",
   "pygments_lexer": "ipython3",
   "version": "3.9.12"
  }
 },
 "nbformat": 4,
 "nbformat_minor": 5
}
