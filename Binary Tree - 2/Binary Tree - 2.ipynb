{
 "cells": [
  {
   "cell_type": "code",
   "execution_count": 36,
   "id": "b5f6e7be",
   "metadata": {},
   "outputs": [],
   "source": [
    "class BinaryTree:\n",
    "    def __init__(self,data):\n",
    "        self.data = data\n",
    "        self.left = None\n",
    "        self.right = None"
   ]
  },
  {
   "cell_type": "code",
   "execution_count": 37,
   "id": "34d57c71",
   "metadata": {},
   "outputs": [],
   "source": [
    "def TakeInput():\n",
    "    rootData = int(input())\n",
    "    if rootData == -1:\n",
    "        return \n",
    "    root = BinaryTree(rootData)\n",
    "    leftTree = TakeInput()\n",
    "    rightTree = TakeInput()\n",
    "    root.left = leftTree\n",
    "    root.right = rightTree\n",
    "    return root"
   ]
  },
  {
   "cell_type": "code",
   "execution_count": 38,
   "id": "5fed4aae",
   "metadata": {},
   "outputs": [],
   "source": [
    "def printBinaryTree(root):\n",
    "    if root is None:\n",
    "        return\n",
    "    print(root.data,end=\":\")\n",
    "    if root.left is not None:\n",
    "        print(\"Left\",root.left.data,end=\",\")\n",
    "    if root.right is not None:\n",
    "        print(\"Right\",root.right.data,end=\"\")\n",
    "    print()\n",
    "    printBinaryTree(root.left)\n",
    "    printBinaryTree(root.right)"
   ]
  },
  {
   "cell_type": "code",
   "execution_count": 39,
   "id": "38d0ef5f",
   "metadata": {},
   "outputs": [],
   "source": [
    "def removeLeafNode(root):\n",
    "    if root is None:\n",
    "        return \n",
    "    if root.left is None and root.right is None:\n",
    "        return None\n",
    "    root.left = removeLeafNode(root.left)\n",
    "    root.right = removeLeafNode(root.right)\n",
    "    return root"
   ]
  },
  {
   "cell_type": "code",
   "execution_count": 47,
   "id": "114d15cb",
   "metadata": {},
   "outputs": [
    {
     "name": "stdout",
     "output_type": "stream",
     "text": [
      "1\n",
      "2\n",
      "4\n",
      "-1\n",
      "-1\n",
      "5\n",
      "-1\n",
      "-1\n",
      "3\n",
      "6\n",
      "-1\n",
      "-1\n",
      "7\n",
      "-1\n",
      "-1\n",
      "1:Left 2,Right 3\n",
      "2:Left 4,Right 5\n",
      "4:\n",
      "5:\n",
      "3:Left 6,Right 7\n",
      "6:\n",
      "7:\n",
      "1:Left 2,Right 3\n",
      "2:\n",
      "3:\n"
     ]
    }
   ],
   "source": [
    "root = takeInput()\n",
    "printBinaryTree(root)\n",
    "root = removeLeafNode(root)\n",
    "printBinaryTree(root)"
   ]
  }
 ],
 "metadata": {
  "kernelspec": {
   "display_name": "Python 3 (ipykernel)",
   "language": "python",
   "name": "python3"
  },
  "language_info": {
   "codemirror_mode": {
    "name": "ipython",
    "version": 3
   },
   "file_extension": ".py",
   "mimetype": "text/x-python",
   "name": "python",
   "nbconvert_exporter": "python",
   "pygments_lexer": "ipython3",
   "version": "3.9.12"
  }
 },
 "nbformat": 4,
 "nbformat_minor": 5
}
