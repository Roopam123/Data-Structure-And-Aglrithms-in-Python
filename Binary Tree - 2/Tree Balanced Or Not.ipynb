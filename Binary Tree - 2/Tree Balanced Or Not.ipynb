{
 "cells": [
  {
   "cell_type": "code",
   "execution_count": 41,
   "id": "acbbc113",
   "metadata": {},
   "outputs": [],
   "source": [
    "class BinaryTree:\n",
    "    def __init__(self,data):\n",
    "        self.data = data \n",
    "        self.left = None\n",
    "        self.right = None"
   ]
  },
  {
   "cell_type": "code",
   "execution_count": 42,
   "id": "64622676",
   "metadata": {},
   "outputs": [],
   "source": [
    "def takeInput():\n",
    "    rootData = int(input())\n",
    "    if rootData==-1:\n",
    "        return\n",
    "    root = BinaryTree(rootData)\n",
    "    leftTree = takeInput()\n",
    "    rightTree = takeInput()\n",
    "    root.left = leftTree\n",
    "    root.right = rightTree\n",
    "    return root"
   ]
  },
  {
   "cell_type": "code",
   "execution_count": 43,
   "id": "54e1833a",
   "metadata": {},
   "outputs": [],
   "source": [
    "def printBinaryTree(root):\n",
    "    if root is None:\n",
    "        return\n",
    "    print(root.data,end=\":\")\n",
    "    if root.left is not None:\n",
    "        print(\"Left:-\",root.left.data,end=\",\")\n",
    "    if root.right is not None:\n",
    "        print(\"Right:-\",root.right.data,end=\"\")\n",
    "    print()\n",
    "    printBinaryTree(root.left)\n",
    "    printBinaryTree(root.right)"
   ]
  },
  {
   "cell_type": "code",
   "execution_count": 44,
   "id": "9abb09a6",
   "metadata": {},
   "outputs": [],
   "source": [
    "def hight(root):\n",
    "    if root is None:\n",
    "        return 0\n",
    "    return 1+max(hight(root.left),hight(root.right))"
   ]
  },
  {
   "cell_type": "code",
   "execution_count": 45,
   "id": "fa8e6814",
   "metadata": {},
   "outputs": [],
   "source": [
    "def isBalanced(root):\n",
    "    if root is None:\n",
    "        return True\n",
    "    lh = hight(root.left)\n",
    "    rh = hight(root.right)\n",
    "    if lh-rh>1 or rh-lh>1:\n",
    "        return False\n",
    "    leftBalanced = isBalanced(root.left)\n",
    "    rightBalanced = isBalanced(root.right)\n",
    "    if leftBalanced and rightBalanced:\n",
    "        return True\n",
    "    else:\n",
    "        return False"
   ]
  },
  {
   "cell_type": "code",
   "execution_count": 46,
   "id": "9ad585ca",
   "metadata": {},
   "outputs": [
    {
     "name": "stdout",
     "output_type": "stream",
     "text": [
      "1\n",
      "2\n",
      "-1\n",
      "-1\n",
      "3\n",
      "-1\n",
      "-1\n",
      "1:Left:- 2,Right:- 3\n",
      "2:\n",
      "3:\n",
      "True\n"
     ]
    }
   ],
   "source": [
    "root = takeInput()\n",
    "printBinaryTree(root)\n",
    "print(isBalanced(root))"
   ]
  }
 ],
 "metadata": {
  "kernelspec": {
   "display_name": "Python 3 (ipykernel)",
   "language": "python",
   "name": "python3"
  },
  "language_info": {
   "codemirror_mode": {
    "name": "ipython",
    "version": 3
   },
   "file_extension": ".py",
   "mimetype": "text/x-python",
   "name": "python",
   "nbconvert_exporter": "python",
   "pygments_lexer": "ipython3",
   "version": "3.9.12"
  }
 },
 "nbformat": 4,
 "nbformat_minor": 5
}
