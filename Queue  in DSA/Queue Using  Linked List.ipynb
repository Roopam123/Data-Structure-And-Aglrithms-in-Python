{
 "cells": [
  {
   "cell_type": "code",
   "execution_count": 2,
   "id": "6238a2bd",
   "metadata": {},
   "outputs": [
    {
     "name": "stdout",
     "output_type": "stream",
     "text": [
      "1\n",
      "2\n",
      "3\n",
      "Hey! List is Empty\n"
     ]
    }
   ],
   "source": [
    "class Node:\n",
    "    def __init__(self,data):\n",
    "        self.data = data\n",
    "        self.next = None\n",
    "class QueueLL:\n",
    "    def __init__(self):\n",
    "        self.__head = None\n",
    "        self.__tail = None\n",
    "        self.__count = 0\n",
    "    def enqueue(self,element):\n",
    "        newNode = Node(element)\n",
    "        if self.__head is None:\n",
    "            self.__head = newNode\n",
    "        else:\n",
    "            self.__tail.next = newNode\n",
    "        self.__tail = newNode\n",
    "        self.__count += 1\n",
    "    def dequeue(self):\n",
    "        if self.__head is None:\n",
    "            print(\"Hey! List is Empty\")\n",
    "            return \n",
    "        data = self.__head.data\n",
    "        self.__head = self.__head.next\n",
    "        self.__count -= 1\n",
    "        return data\n",
    "    def front(self):\n",
    "        if self.__head is None:\n",
    "            print(\"Hey! List is Empty\")\n",
    "            return \n",
    "        data = self.__head.data\n",
    "        return data        \n",
    "    def size(self):\n",
    "        return self.__count\n",
    "    def isEmpty(self):\n",
    "        return self.size()==0\n",
    "q = QueueLL()\n",
    "q.enqueue(1)\n",
    "q.enqueue(2)\n",
    "q.enqueue(3)\n",
    "while q.isEmpty() is False:\n",
    "    print(q.dequeue())\n",
    "q.front()"
   ]
  }
 ],
 "metadata": {
  "kernelspec": {
   "display_name": "Python 3 (ipykernel)",
   "language": "python",
   "name": "python3"
  },
  "language_info": {
   "codemirror_mode": {
    "name": "ipython",
    "version": 3
   },
   "file_extension": ".py",
   "mimetype": "text/x-python",
   "name": "python",
   "nbconvert_exporter": "python",
   "pygments_lexer": "ipython3",
   "version": "3.9.12"
  }
 },
 "nbformat": 4,
 "nbformat_minor": 5
}
