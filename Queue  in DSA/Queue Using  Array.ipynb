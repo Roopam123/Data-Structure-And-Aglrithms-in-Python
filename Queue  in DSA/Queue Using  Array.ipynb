{
 "cells": [
  {
   "cell_type": "code",
   "execution_count": 11,
   "id": "9b71ee28",
   "metadata": {},
   "outputs": [
    {
     "name": "stdout",
     "output_type": "stream",
     "text": [
      "1\n",
      "2\n",
      "3\n",
      "4\n",
      "-1\n"
     ]
    }
   ],
   "source": [
    "class QueueUsingArray:\n",
    "    def __init__(self):\n",
    "        self.__arr=[]\n",
    "        self.__count=0\n",
    "        self.__front=0\n",
    "    def enqueue(self,data):\n",
    "        self.__arr.append(data)\n",
    "        self.__count+=1\n",
    "    def dequeue(self):\n",
    "        if self.__count==0:\n",
    "            return -1\n",
    "        element=self.__arr[self.__front]\n",
    "        self.__count-=1\n",
    "        self.__front+=1\n",
    "        return element\n",
    "    def front(self):\n",
    "        if self.__count==0:\n",
    "            return -1\n",
    "        return self.__arr[self.__front]\n",
    "    def size(self):\n",
    "        return self.__count\n",
    "        \n",
    "    def isEmpty(self):\n",
    "        return self.size()==0\n",
    "q=QueueUsingArray()\n",
    "q.enqueue(1)\n",
    "q.enqueue(2)\n",
    "q.enqueue(3)\n",
    "q.enqueue(4)\n",
    "while(q.isEmpty()is False):\n",
    "    print(q.front())\n",
    "    q.dequeue()\n",
    "print(q.dequeue())\n",
    "    "
   ]
  },
  {
   "cell_type": "code",
   "execution_count": 12,
   "id": "3e144e04",
   "metadata": {},
   "outputs": [
    {
     "name": "stdout",
     "output_type": "stream",
     "text": [
      "1\n",
      "2\n",
      "3\n",
      "4\n",
      "-1\n"
     ]
    }
   ],
   "source": [
    "class Queue:\n",
    "    def __init__(self):\n",
    "        self.__arr = []\n",
    "        self.__count = 0 \n",
    "        self.__front = 0\n",
    "    def enqueue(self,data):\n",
    "        self.__arr.append(data)\n",
    "        self.__count += 1\n",
    "    def dequeue(self):\n",
    "        if self.__count==0:\n",
    "            return -1\n",
    "        element = self.__arr[self.__front]\n",
    "        self.__front +=1\n",
    "        self.__count -=1\n",
    "        return element\n",
    "    def front(self):\n",
    "        if self.__count==0:\n",
    "            return -1\n",
    "        return self.__arr[self.__front]\n",
    "    def size(self):\n",
    "        return self.__count\n",
    "    def isEmpty(self):\n",
    "        return self.size()==0\n",
    "q=QueueUsingArray()\n",
    "q.enqueue(1)\n",
    "q.enqueue(2)\n",
    "q.enqueue(3)\n",
    "q.enqueue(4)\n",
    "while(q.isEmpty()is False):\n",
    "    print(q.front())\n",
    "    q.dequeue()\n",
    "print(q.dequeue())"
   ]
  }
 ],
 "metadata": {
  "kernelspec": {
   "display_name": "Python 3 (ipykernel)",
   "language": "python",
   "name": "python3"
  },
  "language_info": {
   "codemirror_mode": {
    "name": "ipython",
    "version": 3
   },
   "file_extension": ".py",
   "mimetype": "text/x-python",
   "name": "python",
   "nbconvert_exporter": "python",
   "pygments_lexer": "ipython3",
   "version": "3.9.12"
  }
 },
 "nbformat": 4,
 "nbformat_minor": 5
}
