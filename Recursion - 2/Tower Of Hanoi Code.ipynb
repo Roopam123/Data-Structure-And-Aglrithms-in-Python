{
 "cells": [
  {
   "cell_type": "code",
   "execution_count": null,
   "id": "d46e3eb9",
   "metadata": {},
   "outputs": [],
   "source": [
    "def de(n,a,b,c):\n",
    "    if n==1:\n",
    "        print('move frist disk from' , a,'to',c)\n",
    "        return\n",
    "    de(n-1,a,c,b)\n",
    "    "
   ]
  }
 ],
 "metadata": {
  "kernelspec": {
   "display_name": "Python 3 (ipykernel)",
   "language": "python",
   "name": "python3"
  },
  "language_info": {
   "codemirror_mode": {
    "name": "ipython",
    "version": 3
   },
   "file_extension": ".py",
   "mimetype": "text/x-python",
   "name": "python",
   "nbconvert_exporter": "python",
   "pygments_lexer": "ipython3",
   "version": "3.9.12"
  }
 },
 "nbformat": 4,
 "nbformat_minor": 5
}
