{
 "cells": [
  {
   "cell_type": "markdown",
   "id": "71ab739d",
   "metadata": {},
   "source": [
    "Chenge the a to b. Ex 'abcd'-> 'bbcd'"
   ]
  },
  {
   "cell_type": "code",
   "execution_count": 17,
   "id": "7a3d80e9",
   "metadata": {},
   "outputs": [
    {
     "name": "stdout",
     "output_type": "stream",
     "text": [
      "abc\n",
      "b\n"
     ]
    },
    {
     "data": {
      "text/plain": [
       "'ac'"
      ]
     },
     "execution_count": 17,
     "metadata": {},
     "output_type": "execute_result"
    }
   ],
   "source": [
    "def replaceChar(str,a):\n",
    "    # Base Case\n",
    "    if len(str)==0:\n",
    "        return str\n",
    "    slicePart = replaceChar(str[1:],a)\n",
    "    if str[0]==a:\n",
    "        return slicePart\n",
    "    else:\n",
    "        return str[0]+slicePart\n",
    "str = input()\n",
    "n = input()\n",
    "replaceChar(str,n)"
   ]
  }
 ],
 "metadata": {
  "kernelspec": {
   "display_name": "Python 3 (ipykernel)",
   "language": "python",
   "name": "python3"
  },
  "language_info": {
   "codemirror_mode": {
    "name": "ipython",
    "version": 3
   },
   "file_extension": ".py",
   "mimetype": "text/x-python",
   "name": "python",
   "nbconvert_exporter": "python",
   "pygments_lexer": "ipython3",
   "version": "3.9.12"
  }
 },
 "nbformat": 4,
 "nbformat_minor": 5
}
