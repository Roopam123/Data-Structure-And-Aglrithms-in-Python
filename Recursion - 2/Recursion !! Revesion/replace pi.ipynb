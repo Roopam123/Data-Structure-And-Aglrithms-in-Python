{
 "cells": [
  {
   "cell_type": "code",
   "execution_count": 21,
   "id": "82a248c4",
   "metadata": {},
   "outputs": [],
   "source": [
    "def pi(s):\n",
    "    if len(s)==0 or len(s)==1:\n",
    "        return s\n",
    "    if s[0]=='p' and s[1]=='i':\n",
    "        funCall = pi(s[2:])\n",
    "        return '3.14'+funCall\n",
    "    else:\n",
    "        funCall = pi(s[1:])\n",
    "        return s[0]+funCall"
   ]
  },
  {
   "cell_type": "code",
   "execution_count": 22,
   "id": "032688ac",
   "metadata": {},
   "outputs": [
    {
     "data": {
      "text/plain": [
       "'a3.14aa'"
      ]
     },
     "execution_count": 22,
     "metadata": {},
     "output_type": "execute_result"
    }
   ],
   "source": [
    "pi('apiaa')"
   ]
  }
 ],
 "metadata": {
  "kernelspec": {
   "display_name": "Python 3 (ipykernel)",
   "language": "python",
   "name": "python3"
  },
  "language_info": {
   "codemirror_mode": {
    "name": "ipython",
    "version": 3
   },
   "file_extension": ".py",
   "mimetype": "text/x-python",
   "name": "python",
   "nbconvert_exporter": "python",
   "pygments_lexer": "ipython3",
   "version": "3.9.12"
  }
 },
 "nbformat": 4,
 "nbformat_minor": 5
}
