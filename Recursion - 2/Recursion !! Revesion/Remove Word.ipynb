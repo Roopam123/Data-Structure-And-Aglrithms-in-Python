{
 "cells": [
  {
   "cell_type": "code",
   "execution_count": 9,
   "id": "b4642328",
   "metadata": {},
   "outputs": [],
   "source": [
    "def remove(s,a):\n",
    "    # Base Case\n",
    "    if len(s)==0:\n",
    "        return s\n",
    "    # Function call \n",
    "    funCall = remove(s[1:],a)\n",
    "    if s[0]==a:\n",
    "        return funCall\n",
    "    else:\n",
    "        return s[0] + funCall"
   ]
  },
  {
   "cell_type": "code",
   "execution_count": 10,
   "id": "cb861e99",
   "metadata": {},
   "outputs": [
    {
     "data": {
      "text/plain": [
       "'bc'"
      ]
     },
     "execution_count": 10,
     "metadata": {},
     "output_type": "execute_result"
    }
   ],
   "source": [
    "remove('abca','a')"
   ]
  }
 ],
 "metadata": {
  "kernelspec": {
   "display_name": "Python 3 (ipykernel)",
   "language": "python",
   "name": "python3"
  },
  "language_info": {
   "codemirror_mode": {
    "name": "ipython",
    "version": 3
   },
   "file_extension": ".py",
   "mimetype": "text/x-python",
   "name": "python",
   "nbconvert_exporter": "python",
   "pygments_lexer": "ipython3",
   "version": "3.9.12"
  }
 },
 "nbformat": 4,
 "nbformat_minor": 5
}
