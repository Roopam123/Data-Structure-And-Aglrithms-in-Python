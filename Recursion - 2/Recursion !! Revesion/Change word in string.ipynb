{
 "cells": [
  {
   "cell_type": "code",
   "execution_count": 3,
   "id": "1cb87ceb",
   "metadata": {},
   "outputs": [],
   "source": [
    "def change(s,a,b):\n",
    "    # Base Case\n",
    "    if len(s)==0:\n",
    "        return s\n",
    "    # Function call \n",
    "    funCall = change(s[1:],a,b)\n",
    "    if s[0]==a:\n",
    "        return b+ funCall\n",
    "    else:\n",
    "        return s[0] + funCall"
   ]
  },
  {
   "cell_type": "code",
   "execution_count": 4,
   "id": "2fe249bc",
   "metadata": {},
   "outputs": [
    {
     "data": {
      "text/plain": [
       "'ccc'"
      ]
     },
     "execution_count": 4,
     "metadata": {},
     "output_type": "execute_result"
    }
   ],
   "source": [
    "change('apia','a','c')"
   ]
  }
 ],
 "metadata": {
  "kernelspec": {
   "display_name": "Python 3 (ipykernel)",
   "language": "python",
   "name": "python3"
  },
  "language_info": {
   "codemirror_mode": {
    "name": "ipython",
    "version": 3
   },
   "file_extension": ".py",
   "mimetype": "text/x-python",
   "name": "python",
   "nbconvert_exporter": "python",
   "pygments_lexer": "ipython3",
   "version": "3.9.12"
  }
 },
 "nbformat": 4,
 "nbformat_minor": 5
}
