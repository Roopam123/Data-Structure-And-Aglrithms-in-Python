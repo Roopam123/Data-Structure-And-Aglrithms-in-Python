{
 "cells": [
  {
   "cell_type": "code",
   "execution_count": 16,
   "id": "2bffcfc5",
   "metadata": {},
   "outputs": [
    {
     "data": {
      "text/plain": [
       "'abc'"
      ]
     },
     "execution_count": 16,
     "metadata": {},
     "output_type": "execute_result"
    }
   ],
   "source": [
    "def replaceDuplicate(s):\n",
    "    if len(s)<2:\n",
    "        return s\n",
    "    if s[0] != s[1]:\n",
    "        return s[0] + replaceDuplicate(s[1:])\n",
    "    else:\n",
    "        return replaceDuplicate(s[1:])\n",
    "replaceDuplicate('aabbccc')"
   ]
  }
 ],
 "metadata": {
  "kernelspec": {
   "display_name": "Python 3 (ipykernel)",
   "language": "python",
   "name": "python3"
  },
  "language_info": {
   "codemirror_mode": {
    "name": "ipython",
    "version": 3
   },
   "file_extension": ".py",
   "mimetype": "text/x-python",
   "name": "python",
   "nbconvert_exporter": "python",
   "pygments_lexer": "ipython3",
   "version": "3.9.12"
  }
 },
 "nbformat": 4,
 "nbformat_minor": 5
}
