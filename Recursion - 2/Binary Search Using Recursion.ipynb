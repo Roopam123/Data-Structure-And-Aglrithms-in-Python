{
 "cells": [
  {
   "cell_type": "code",
   "execution_count": 1,
   "id": "73e0555c",
   "metadata": {},
   "outputs": [],
   "source": [
    "def binarySearch(li,n,start,end):\n",
    "    #base case\n",
    "    if li[0]>li[1]:\n",
    "        return -1\n",
    "    mid = (start + end)//2\n",
    "    if li[mid]==n:\n",
    "        return mid\n",
    "    elif li[mid]>n:\n",
    "        return binarySearch(li,n,start,end-1)\n",
    "    else:\n",
    "        return binarySearch(li,n,start,end+1)"
   ]
  },
  {
   "cell_type": "code",
   "execution_count": 3,
   "id": "616e7865",
   "metadata": {},
   "outputs": [
    {
     "data": {
      "text/plain": [
       "4"
      ]
     },
     "execution_count": 3,
     "metadata": {},
     "output_type": "execute_result"
    }
   ],
   "source": [
    "li = [1,2,3,4,5]\n",
    "binarySearch(li,5,0,len(li))"
   ]
  }
 ],
 "metadata": {
  "kernelspec": {
   "display_name": "Python 3 (ipykernel)",
   "language": "python",
   "name": "python3"
  },
  "language_info": {
   "codemirror_mode": {
    "name": "ipython",
    "version": 3
   },
   "file_extension": ".py",
   "mimetype": "text/x-python",
   "name": "python",
   "nbconvert_exporter": "python",
   "pygments_lexer": "ipython3",
   "version": "3.9.12"
  }
 },
 "nbformat": 4,
 "nbformat_minor": 5
}
