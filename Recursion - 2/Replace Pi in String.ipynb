{
 "cells": [
  {
   "cell_type": "markdown",
   "id": "d51736d1",
   "metadata": {},
   "source": [
    "# Replace Pi"
   ]
  },
  {
   "cell_type": "code",
   "execution_count": 5,
   "id": "5689e19d",
   "metadata": {},
   "outputs": [],
   "source": [
    "def replacePi(s):\n",
    "    #Base Case\n",
    "    if len(s)==0 or len(s)==1:\n",
    "        return s\n",
    "    #Assumption Case\n",
    "    if s[0]=='p' and s[1]=='i':\n",
    "        slicePart = replacePi(s[2:])\n",
    "        return '3.14' + slicePart\n",
    "    else:\n",
    "        slicePart = replacePi(s[1:])\n",
    "        return s[0] + slicePart"
   ]
  },
  {
   "cell_type": "code",
   "execution_count": 7,
   "id": "c00a355e",
   "metadata": {},
   "outputs": [
    {
     "data": {
      "text/plain": [
       "'3.14abc'"
      ]
     },
     "execution_count": 7,
     "metadata": {},
     "output_type": "execute_result"
    }
   ],
   "source": [
    "replacePi('piabc')"
   ]
  }
 ],
 "metadata": {
  "kernelspec": {
   "display_name": "Python 3 (ipykernel)",
   "language": "python",
   "name": "python3"
  },
  "language_info": {
   "codemirror_mode": {
    "name": "ipython",
    "version": 3
   },
   "file_extension": ".py",
   "mimetype": "text/x-python",
   "name": "python",
   "nbconvert_exporter": "python",
   "pygments_lexer": "ipython3",
   "version": "3.9.12"
  }
 },
 "nbformat": 4,
 "nbformat_minor": 5
}
