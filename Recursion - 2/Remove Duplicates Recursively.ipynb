{
 "cells": [
  {
   "cell_type": "markdown",
   "id": "4fa137dd",
   "metadata": {},
   "source": [
    "Given a string S, remove consecutive duplicates from it recursively."
   ]
  },
  {
   "cell_type": "code",
   "execution_count": null,
   "id": "a0ae0025",
   "metadata": {},
   "outputs": [],
   "source": [
    "# Problem ID 91, removeConsecutiveDuplicates\n",
    "def removeConsecutiveDuplicates(s):\n",
    "    if len(s) == 0 or len(s) == 1:\n",
    "        return s\n",
    "    if s[0] == s[1] and s[1] == s[0]:\n",
    "        slicePart = removeConsecutiveDuplicates(s[2:])\n",
    "        \n",
    "    else:\n",
    "        slicePart = removeConsecutiveDuplicates(s[1:])\n",
    "        return s[0] + slicePart\n",
    "\n",
    "\n",
    "# Main\n",
    "string = input().strip()\n",
    "print(removeConsecutiveDuplicates(string))"
   ]
  }
 ],
 "metadata": {
  "kernelspec": {
   "display_name": "Python 3 (ipykernel)",
   "language": "python",
   "name": "python3"
  },
  "language_info": {
   "codemirror_mode": {
    "name": "ipython",
    "version": 3
   },
   "file_extension": ".py",
   "mimetype": "text/x-python",
   "name": "python",
   "nbconvert_exporter": "python",
   "pygments_lexer": "ipython3",
   "version": "3.9.12"
  }
 },
 "nbformat": 4,
 "nbformat_minor": 5
}
