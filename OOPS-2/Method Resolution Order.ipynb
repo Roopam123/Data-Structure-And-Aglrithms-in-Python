{
 "cells": [
  {
   "cell_type": "code",
   "execution_count": 2,
   "id": "500a2eeb",
   "metadata": {},
   "outputs": [],
   "source": [
    "class Car():\n",
    "    def __init__(self,make):\n",
    "        self.make = make\n",
    "    def Car_det(self):\n",
    "        return \"this make by\", self.model"
   ]
  },
  {
   "cell_type": "code",
   "execution_count": 7,
   "id": "2eda48e9",
   "metadata": {},
   "outputs": [],
   "source": [
    "class X: \n",
    "      pass\n",
    "class Y: \n",
    "      pass\n",
    "class Z:\n",
    "      pass\n",
    "class A(X,Y):\n",
    "      pass\n",
    "class B(Y,Z):\n",
    "      pass\n",
    "class C(B,A,Y):\n",
    "      pass"
   ]
  },
  {
   "cell_type": "code",
   "execution_count": null,
   "id": "fbef2334",
   "metadata": {},
   "outputs": [],
   "source": []
  }
 ],
 "metadata": {
  "kernelspec": {
   "display_name": "Python 3 (ipykernel)",
   "language": "python",
   "name": "python3"
  },
  "language_info": {
   "codemirror_mode": {
    "name": "ipython",
    "version": 3
   },
   "file_extension": ".py",
   "mimetype": "text/x-python",
   "name": "python",
   "nbconvert_exporter": "python",
   "pygments_lexer": "ipython3",
   "version": "3.9.12"
  }
 },
 "nbformat": 4,
 "nbformat_minor": 5
}
