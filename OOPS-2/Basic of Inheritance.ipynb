{
 "cells": [
  {
   "cell_type": "markdown",
   "id": "c3653f9d",
   "metadata": {},
   "source": [
    "Basic of Inheritance"
   ]
  },
  {
   "cell_type": "code",
   "execution_count": 77,
   "id": "8c7ee4ba",
   "metadata": {},
   "outputs": [],
   "source": [
    "# Perent Class\n",
    "class Vehical():\n",
    "    def __init__(self,make,model,price):\n",
    "        self.make = make\n",
    "        # Private Attribute\n",
    "        self.__model = model\n",
    "        self.__price = price\n",
    "    # Private Function\n",
    "    def __private_perant_attribute(self):\n",
    "        print(\"This is Private Attribute\")"
   ]
  },
  {
   "cell_type": "code",
   "execution_count": 78,
   "id": "bcee86f3",
   "metadata": {},
   "outputs": [],
   "source": [
    "# Child Class\n",
    "class Car(Vehical):\n",
    "    def __init__(self,make,model,price,ac,fule):\n",
    "        # perent attribute\n",
    "        Vehical.make = make\n",
    "        Vehical.__model = model\n",
    "        Vehical.__price = price\n",
    "        \n",
    "        # Child attribute \n",
    "        self.ac = ac\n",
    "        self.fule = fule\n",
    "    def show_perent_attribute(self):\n",
    "        print(Vehical.make,' ',Vehical.__model,' ',Vehical.__price)\n",
    "    def show_private_perent_attribute(self):\n",
    "        self._Vehical__private_perant_attribute()"
   ]
  },
  {
   "cell_type": "code",
   "execution_count": 54,
   "id": "4ddf89cf",
   "metadata": {},
   "outputs": [],
   "source": [
    "obj = Vehical(\"Honda\",2022,1100000)"
   ]
  },
  {
   "cell_type": "code",
   "execution_count": 55,
   "id": "8146614b",
   "metadata": {},
   "outputs": [
    {
     "data": {
      "text/plain": [
       "{'make': 'Honda', '_Vehical__model': 2022, '_Vehical__price': 1100000}"
      ]
     },
     "execution_count": 55,
     "metadata": {},
     "output_type": "execute_result"
    }
   ],
   "source": [
    "obj.__dict__"
   ]
  },
  {
   "cell_type": "code",
   "execution_count": 56,
   "id": "85983bee",
   "metadata": {},
   "outputs": [],
   "source": [
    "obj1 = Car(\"Honda\",2022,110000,\"Yes\",\"Electric\")"
   ]
  },
  {
   "cell_type": "code",
   "execution_count": 57,
   "id": "913b28ac",
   "metadata": {},
   "outputs": [
    {
     "data": {
      "text/plain": [
       "{'ac': 'Yes', 'fule': 'Electric'}"
      ]
     },
     "execution_count": 57,
     "metadata": {},
     "output_type": "execute_result"
    }
   ],
   "source": [
    "obj1.__dict__"
   ]
  },
  {
   "cell_type": "code",
   "execution_count": 58,
   "id": "13799f8f",
   "metadata": {},
   "outputs": [
    {
     "name": "stdout",
     "output_type": "stream",
     "text": [
      "Honda   2022   110000\n"
     ]
    }
   ],
   "source": [
    "obj1.show_perent_attribute()"
   ]
  },
  {
   "cell_type": "code",
   "execution_count": 26,
   "id": "8c0df1a3",
   "metadata": {},
   "outputs": [
    {
     "data": {
      "text/plain": [
       "110000"
      ]
     },
     "execution_count": 26,
     "metadata": {},
     "output_type": "execute_result"
    }
   ],
   "source": [
    "obj1.price"
   ]
  },
  {
   "cell_type": "markdown",
   "id": "f381dc31",
   "metadata": {},
   "source": [
    "# Inheritance And Private Members"
   ]
  },
  {
   "cell_type": "code",
   "execution_count": 60,
   "id": "deb11eb2",
   "metadata": {},
   "outputs": [
    {
     "data": {
      "text/plain": [
       "'Honda'"
      ]
     },
     "execution_count": 60,
     "metadata": {},
     "output_type": "execute_result"
    }
   ],
   "source": [
    "obj.make"
   ]
  },
  {
   "cell_type": "code",
   "execution_count": 61,
   "id": "2e11e640",
   "metadata": {
    "scrolled": true
   },
   "outputs": [
    {
     "ename": "AttributeError",
     "evalue": "'Vehical' object has no attribute 'price'",
     "output_type": "error",
     "traceback": [
      "\u001b[1;31m---------------------------------------------------------------------------\u001b[0m",
      "\u001b[1;31mAttributeError\u001b[0m                            Traceback (most recent call last)",
      "Input \u001b[1;32mIn [61]\u001b[0m, in \u001b[0;36m<cell line: 1>\u001b[1;34m()\u001b[0m\n\u001b[1;32m----> 1\u001b[0m \u001b[43mobj\u001b[49m\u001b[38;5;241;43m.\u001b[39;49m\u001b[43mprice\u001b[49m\n",
      "\u001b[1;31mAttributeError\u001b[0m: 'Vehical' object has no attribute 'price'"
     ]
    }
   ],
   "source": [
    "obj.price"
   ]
  },
  {
   "cell_type": "code",
   "execution_count": 79,
   "id": "348d3068",
   "metadata": {},
   "outputs": [
    {
     "ename": "AttributeError",
     "evalue": "'Vehical' object has no attribute 'show_private_perent_attribute'",
     "output_type": "error",
     "traceback": [
      "\u001b[1;31m---------------------------------------------------------------------------\u001b[0m",
      "\u001b[1;31mAttributeError\u001b[0m                            Traceback (most recent call last)",
      "Input \u001b[1;32mIn [79]\u001b[0m, in \u001b[0;36m<cell line: 1>\u001b[1;34m()\u001b[0m\n\u001b[1;32m----> 1\u001b[0m \u001b[43mobj\u001b[49m\u001b[38;5;241;43m.\u001b[39;49m\u001b[43mshow_private_perent_attribute\u001b[49m()\n",
      "\u001b[1;31mAttributeError\u001b[0m: 'Vehical' object has no attribute 'show_private_perent_attribute'"
     ]
    }
   ],
   "source": [
    "obj.show_private_perent_attribute()"
   ]
  }
 ],
 "metadata": {
  "kernelspec": {
   "display_name": "Python 3 (ipykernel)",
   "language": "python",
   "name": "python3"
  },
  "language_info": {
   "codemirror_mode": {
    "name": "ipython",
    "version": 3
   },
   "file_extension": ".py",
   "mimetype": "text/x-python",
   "name": "python",
   "nbconvert_exporter": "python",
   "pygments_lexer": "ipython3",
   "version": "3.9.12"
  }
 },
 "nbformat": 4,
 "nbformat_minor": 5
}
