{
 "cells": [
  {
   "cell_type": "code",
   "execution_count": 17,
   "id": "f8cd3dee",
   "metadata": {},
   "outputs": [],
   "source": [
    "# perent Class\n",
    "class Vehical():\n",
    "    def __init__(self,model):\n",
    "        self.model = model"
   ]
  },
  {
   "cell_type": "code",
   "execution_count": 18,
   "id": "3977e62b",
   "metadata": {},
   "outputs": [],
   "source": [
    "class Car(Vehical):\n",
    "    def __init__(self,model,price):\n",
    "        Vehical.model = model\n",
    "        self.price = price"
   ]
  },
  {
   "cell_type": "code",
   "execution_count": 19,
   "id": "0cd7cd1f",
   "metadata": {},
   "outputs": [],
   "source": [
    "class Electric(Car):\n",
    "    def init(self,model,price,color):\n",
    "        Vehical.model = model\n",
    "        Car.price = price\n",
    "        self.color = color"
   ]
  },
  {
   "cell_type": "code",
   "execution_count": 21,
   "id": "f855e2bb",
   "metadata": {},
   "outputs": [
    {
     "ename": "TypeError",
     "evalue": "__init__() takes 3 positional arguments but 4 were given",
     "output_type": "error",
     "traceback": [
      "\u001b[1;31m---------------------------------------------------------------------------\u001b[0m",
      "\u001b[1;31mTypeError\u001b[0m                                 Traceback (most recent call last)",
      "Input \u001b[1;32mIn [21]\u001b[0m, in \u001b[0;36m<cell line: 1>\u001b[1;34m()\u001b[0m\n\u001b[1;32m----> 1\u001b[0m obj \u001b[38;5;241m=\u001b[39m \u001b[43mElectric\u001b[49m\u001b[43m(\u001b[49m\u001b[38;5;241;43m2022\u001b[39;49m\u001b[43m,\u001b[49m\u001b[38;5;241;43m200\u001b[39;49m\u001b[43m,\u001b[49m\u001b[38;5;124;43m\"\u001b[39;49m\u001b[38;5;124;43mred\u001b[39;49m\u001b[38;5;124;43m\"\u001b[39;49m\u001b[43m)\u001b[49m\n",
      "\u001b[1;31mTypeError\u001b[0m: __init__() takes 3 positional arguments but 4 were given"
     ]
    }
   ],
   "source": [
    "obj = Electric(2022,200,\"red\")"
   ]
  },
  {
   "cell_type": "code",
   "execution_count": 24,
   "id": "67dad002",
   "metadata": {},
   "outputs": [
    {
     "name": "stdout",
     "output_type": "stream",
     "text": [
      "init of B called\n"
     ]
    }
   ],
   "source": [
    "class A:\n",
    "\n",
    "    def __init__(self):\n",
    "        print(\"init of A called\")\n",
    "class B:\n",
    "    def __init__(self):\n",
    "        print(\"init of B called\")\n",
    "\n",
    "class C(B,A):\n",
    "    def __init__(self):\n",
    "        super().__init__()\n",
    "\n",
    "c = C()"
   ]
  }
 ],
 "metadata": {
  "kernelspec": {
   "display_name": "Python 3 (ipykernel)",
   "language": "python",
   "name": "python3"
  },
  "language_info": {
   "codemirror_mode": {
    "name": "ipython",
    "version": 3
   },
   "file_extension": ".py",
   "mimetype": "text/x-python",
   "name": "python",
   "nbconvert_exporter": "python",
   "pygments_lexer": "ipython3",
   "version": "3.9.12"
  }
 },
 "nbformat": 4,
 "nbformat_minor": 5
}
