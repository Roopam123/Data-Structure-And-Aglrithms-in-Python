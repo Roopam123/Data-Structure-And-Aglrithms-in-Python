{
 "cells": [
  {
   "cell_type": "markdown",
   "id": "2c19b5b7",
   "metadata": {},
   "source": [
    "# Polymorphism"
   ]
  },
  {
   "cell_type": "code",
   "execution_count": 33,
   "id": "d0931a71",
   "metadata": {},
   "outputs": [],
   "source": [
    "#perent Class\n",
    "class Vehical():\n",
    "    current_year = 2022\n",
    "    base_price = 100\n",
    "    def __init__(self,model,color):\n",
    "        self.model = model \n",
    "        self.color = color\n",
    "    def get_value(self):\n",
    "        age = Vehical.current_year - self.model\n",
    "        return Vehical.base*(1/age)"
   ]
  },
  {
   "cell_type": "code",
   "execution_count": 28,
   "id": "ae3c50f1",
   "metadata": {},
   "outputs": [],
   "source": [
    "# Child Class\n",
    "class Car(Vehical):\n",
    "    def __init__(self,model,color,ac,fule):\n",
    "        # Perent Attribute\n",
    "        # super function\n",
    "        super(Car,self).__init__(model,color)\n",
    "#         Vehical.model = model\n",
    "#         Vehical.color = color\n",
    "        # Child Attribute \n",
    "        self.__ac = ac\n",
    "        self.__fule = fule\n",
    "    def Show_private_attribute(self):\n",
    "        print(_Car__ac)"
   ]
  },
  {
   "cell_type": "code",
   "execution_count": 25,
   "id": "f3a319b5",
   "metadata": {},
   "outputs": [],
   "source": [
    "obj = Car(2022,\"Red\",\"yes\",\"Electric\")"
   ]
  },
  {
   "cell_type": "code",
   "execution_count": 26,
   "id": "f7eb4c8e",
   "metadata": {},
   "outputs": [
    {
     "data": {
      "text/plain": [
       "{'model': 2022, 'color': 'Red', '_Car__ac': 'yes', '_Car__fule': 'Electric'}"
      ]
     },
     "execution_count": 26,
     "metadata": {},
     "output_type": "execute_result"
    }
   ],
   "source": [
    "obj.__dict__"
   ]
  },
  {
   "cell_type": "code",
   "execution_count": 32,
   "id": "3fbea2b1",
   "metadata": {},
   "outputs": [
    {
     "data": {
      "text/plain": [
       "'yes'"
      ]
     },
     "execution_count": 32,
     "metadata": {},
     "output_type": "execute_result"
    }
   ],
   "source": [
    "obj._Car__ac"
   ]
  },
  {
   "cell_type": "code",
   "execution_count": null,
   "id": "7d62bdb2",
   "metadata": {},
   "outputs": [],
   "source": []
  }
 ],
 "metadata": {
  "kernelspec": {
   "display_name": "Python 3 (ipykernel)",
   "language": "python",
   "name": "python3"
  },
  "language_info": {
   "codemirror_mode": {
    "name": "ipython",
    "version": 3
   },
   "file_extension": ".py",
   "mimetype": "text/x-python",
   "name": "python",
   "nbconvert_exporter": "python",
   "pygments_lexer": "ipython3",
   "version": "3.9.12"
  }
 },
 "nbformat": 4,
 "nbformat_minor": 5
}
