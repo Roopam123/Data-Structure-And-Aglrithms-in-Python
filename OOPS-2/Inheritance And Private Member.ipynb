{
 "cells": [
  {
   "cell_type": "code",
   "execution_count": 52,
   "id": "28ba74e6",
   "metadata": {},
   "outputs": [],
   "source": [
    "class Vehical:\n",
    "    def __init__(self,model,price,color,wheel):\n",
    "        self.model = model \n",
    "        self.price = price\n",
    "        # Private attributes\n",
    "        self.__color = color\n",
    "        self.__wheel = wheel "
   ]
  },
  {
   "cell_type": "code",
   "execution_count": 53,
   "id": "13c865b6",
   "metadata": {},
   "outputs": [],
   "source": [
    "obj = Vehical(2022,1100000,\"red\",4)"
   ]
  },
  {
   "cell_type": "code",
   "execution_count": 54,
   "id": "606ce7bb",
   "metadata": {},
   "outputs": [
    {
     "data": {
      "text/plain": [
       "{'model': 2022,\n",
       " 'price': 1100000,\n",
       " '_Vehical__color': 'red',\n",
       " '_Vehical__wheel': 4}"
      ]
     },
     "execution_count": 54,
     "metadata": {},
     "output_type": "execute_result"
    }
   ],
   "source": [
    "obj.__dict__"
   ]
  },
  {
   "cell_type": "code",
   "execution_count": 26,
   "id": "f6ac28a9",
   "metadata": {},
   "outputs": [
    {
     "data": {
      "text/plain": [
       "2022"
      ]
     },
     "execution_count": 26,
     "metadata": {},
     "output_type": "execute_result"
    }
   ],
   "source": [
    "obj.model"
   ]
  },
  {
   "cell_type": "code",
   "execution_count": 20,
   "id": "8a755d2b",
   "metadata": {},
   "outputs": [
    {
     "data": {
      "text/plain": [
       "1100000"
      ]
     },
     "execution_count": 20,
     "metadata": {},
     "output_type": "execute_result"
    }
   ],
   "source": [
    "obj.price"
   ]
  },
  {
   "cell_type": "code",
   "execution_count": 55,
   "id": "0ae68114",
   "metadata": {},
   "outputs": [
    {
     "data": {
      "text/plain": [
       "'red'"
      ]
     },
     "execution_count": 55,
     "metadata": {},
     "output_type": "execute_result"
    }
   ],
   "source": [
    "obj._Vehical__color"
   ]
  },
  {
   "cell_type": "code",
   "execution_count": 57,
   "id": "7631240b",
   "metadata": {},
   "outputs": [
    {
     "data": {
      "text/plain": [
       "4"
      ]
     },
     "execution_count": 57,
     "metadata": {},
     "output_type": "execute_result"
    }
   ],
   "source": [
    "obj._Vehical__wheel"
   ]
  }
 ],
 "metadata": {
  "kernelspec": {
   "display_name": "Python 3 (ipykernel)",
   "language": "python",
   "name": "python3"
  },
  "language_info": {
   "codemirror_mode": {
    "name": "ipython",
    "version": 3
   },
   "file_extension": ".py",
   "mimetype": "text/x-python",
   "name": "python",
   "nbconvert_exporter": "python",
   "pygments_lexer": "ipython3",
   "version": "3.9.12"
  }
 },
 "nbformat": 4,
 "nbformat_minor": 5
}
