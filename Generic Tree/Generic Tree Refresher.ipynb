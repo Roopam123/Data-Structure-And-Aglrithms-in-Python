{
 "cells": [
  {
   "cell_type": "code",
   "execution_count": 4,
   "id": "80e76f64",
   "metadata": {},
   "outputs": [],
   "source": [
    "class GenericTree:\n",
    "    def __init__(self,data):\n",
    "        self.data = data \n",
    "        self.children = list()"
   ]
  },
  {
   "cell_type": "code",
   "execution_count": 5,
   "id": "b0a92096",
   "metadata": {},
   "outputs": [],
   "source": [
    "def takeInput():\n",
    "    print(\"Enter your Root\")\n",
    "    rootData = int(input())\n",
    "    if rootData ==-1:\n",
    "        return None\n",
    "    root = GenericTree(rootData)\n",
    "    print(\"Enter the No of children of\",rootData)\n",
    "    childrenCount = int(input())\n",
    "    for i in range(childrenCount):\n",
    "        child = takeInput()\n",
    "        root.children.append(child)\n",
    "    return root"
   ]
  },
  {
   "cell_type": "code",
   "execution_count": 6,
   "id": "627fc173",
   "metadata": {},
   "outputs": [],
   "source": [
    "def printGenericTree(root):\n",
    "    if root is None:\n",
    "        return None\n",
    "    print(root.data,\":\",end=\"\")\n",
    "    for child in root.children:\n",
    "        print(child.data,\",\",end=\"\")\n",
    "    print()\n",
    "    for child in root.children:\n",
    "        printGenericTree(child)"
   ]
  },
  {
   "cell_type": "code",
   "execution_count": 7,
   "id": "97e8e850",
   "metadata": {},
   "outputs": [],
   "source": [
    "def sumOfNodeData(root):\n",
    "    if root is None:\n",
    "        return None\n",
    "    sumNode = root.data\n",
    "    for i in root.children:\n",
    "        sumNode = sumNode +sumOfNodeData(i)\n",
    "    return sumNode"
   ]
  },
  {
   "cell_type": "code",
   "execution_count": 8,
   "id": "67d17ac0",
   "metadata": {},
   "outputs": [],
   "source": [
    "def noOfNodeInTree(root):\n",
    "    if root is None:\n",
    "        return 0\n",
    "    sumNode = 1\n",
    "    for i in root.children:\n",
    "        sumNode = sumNode + noOfNodeInTree(i)\n",
    "    return sumNode"
   ]
  },
  {
   "cell_type": "code",
   "execution_count": 9,
   "id": "e91c98d8",
   "metadata": {},
   "outputs": [],
   "source": [
    "def findLagre(root):\n",
    "    if root is None:\n",
    "        return None\n",
    "    maxNode = root.data\n",
    "    for child in maxNode.children:\n",
    "        temp = findLagre(child)\n",
    "        if maxNode<temp.data:\n",
    "            maxNode "
   ]
  },
  {
   "cell_type": "code",
   "execution_count": 10,
   "id": "6c757540",
   "metadata": {},
   "outputs": [],
   "source": [
    "import queue\n",
    "def takeInputLevelWise():\n",
    "    q = queue.Queue()\n",
    "    print(\"Enter Your Root\")\n",
    "    rootData = int(input())\n",
    "    if rootData ==-1:\n",
    "        return None\n",
    "    root = GenericTree(rootData)\n",
    "    q.put(root)\n",
    "    while (not(q.empty())):\n",
    "        current_node = q.get()\n",
    "        print(\"Enter the No of Child of \",current_node.data)\n",
    "        numChildren = int(input())\n",
    "        for i in range(numChildren):\n",
    "            print(\"Enter the children of \",current_node.data)\n",
    "            childData = int(input())\n",
    "            child = GenericTree(childData)\n",
    "            current_node.children.append(child)\n",
    "            q.put(child)\n",
    "    return root"
   ]
  },
  {
   "cell_type": "code",
   "execution_count": 11,
   "id": "9e0c8e55",
   "metadata": {},
   "outputs": [
    {
     "name": "stdout",
     "output_type": "stream",
     "text": [
      "Enter Your Root\n",
      "1\n",
      "Enter the No of Child of  1\n",
      "3\n",
      "Enter the children of  1\n",
      "2\n",
      "Enter the children of  1\n",
      "3\n",
      "Enter the children of  1\n",
      "4\n",
      "Enter the No of Child of  2\n",
      "0\n",
      "Enter the No of Child of  3\n",
      "2\n",
      "Enter the children of  3\n",
      "5\n",
      "Enter the children of  3\n",
      "6\n",
      "Enter the No of Child of  4\n",
      "0\n",
      "Enter the No of Child of  5\n",
      "0\n",
      "Enter the No of Child of  6\n",
      "3\n",
      "Enter the children of  6\n",
      "7\n",
      "Enter the children of  6\n",
      "8\n",
      "Enter the children of  6\n",
      "9\n",
      "Enter the No of Child of  7\n",
      "0\n",
      "Enter the No of Child of  8\n",
      "0\n",
      "Enter the No of Child of  9\n",
      "0\n",
      "1 :2 ,3 ,4 ,\n",
      "2 :\n",
      "3 :5 ,6 ,\n",
      "5 :\n",
      "6 :7 ,8 ,9 ,\n",
      "7 :\n",
      "8 :\n",
      "9 :\n",
      "4 :\n"
     ]
    }
   ],
   "source": [
    "root = takeInputLevelWise()\n",
    "printGenericTree(root)"
   ]
  },
  {
   "cell_type": "code",
   "execution_count": null,
   "id": "95183f00",
   "metadata": {},
   "outputs": [],
   "source": []
  }
 ],
 "metadata": {
  "kernelspec": {
   "display_name": "Python 3 (ipykernel)",
   "language": "python",
   "name": "python3"
  },
  "language_info": {
   "codemirror_mode": {
    "name": "ipython",
    "version": 3
   },
   "file_extension": ".py",
   "mimetype": "text/x-python",
   "name": "python",
   "nbconvert_exporter": "python",
   "pygments_lexer": "ipython3",
   "version": "3.9.12"
  }
 },
 "nbformat": 4,
 "nbformat_minor": 5
}
