{
 "cells": [
  {
   "cell_type": "code",
   "execution_count": 55,
   "id": "86afd644",
   "metadata": {},
   "outputs": [],
   "source": [
    "class GenericTree:\n",
    "    def __init__(self,data):\n",
    "        self.data = data\n",
    "        self.children = list()"
   ]
  },
  {
   "cell_type": "code",
   "execution_count": 56,
   "id": "b398e49c",
   "metadata": {},
   "outputs": [],
   "source": [
    "# Input For the create a node for this\n",
    "n1 = GenericTree(5)\n",
    "n2 = GenericTree(2)\n",
    "n3 = GenericTree(9)\n",
    "n4 = GenericTree(8)\n",
    "n5 = GenericTree(7)\n",
    "n6 = GenericTree(15)\n",
    "n7 = GenericTree(1)\n",
    "# Connect for bulid the Tree\n",
    "n1.children.append(n2)\n",
    "n1.children.append(n3)\n",
    "n1.children.append(n4)\n",
    "n1.children.append(n5)\n",
    "n3.children.append(n6)\n",
    "n3.children.append(n7)"
   ]
  },
  {
   "cell_type": "code",
   "execution_count": 57,
   "id": "cb79495e",
   "metadata": {},
   "outputs": [],
   "source": [
    "def takeInput():\n",
    "    print(\"Enter Root Data\")\n",
    "    rootData = int(input())\n",
    "    if rootData ==-1:\n",
    "        return None\n",
    "    root = GenericTree(rootData)\n",
    "    print(\"Enter the Children of \",rootData)\n",
    "    childrenCount = int(input())\n",
    "    for i in range(childrenCount):\n",
    "        child = takeInput()\n",
    "        root.children.append(child)\n",
    "        "
   ]
  },
  {
   "cell_type": "code",
   "execution_count": 58,
   "id": "256bc897",
   "metadata": {},
   "outputs": [],
   "source": [
    "def printTree(root):\n",
    "    if root is None:\n",
    "        return \n",
    "    print(root.data)\n",
    "    for i in root.children:\n",
    "        printTree(i)"
   ]
  },
  {
   "cell_type": "code",
   "execution_count": 59,
   "id": "4390d9ea",
   "metadata": {},
   "outputs": [],
   "source": [
    "def printTreeDetailed(root):\n",
    "    if root is None:\n",
    "        return \n",
    "    print(root.data,\": \",end=\"\")\n",
    "    for child in root.children:\n",
    "        print(child.data,\",\",end=\"\")\n",
    "    print()\n",
    "    for child in root.children:\n",
    "        printTreeDetailed(child)"
   ]
  },
  {
   "cell_type": "code",
   "execution_count": 60,
   "id": "21b8751f",
   "metadata": {},
   "outputs": [],
   "source": [
    "def findTheNoOfNodeInTree(root):\n",
    "    if root is None:\n",
    "        return 0    \n",
    "    count = 1\n",
    "    for i in root.children:\n",
    "        count = count + findTheNoOfNodeInTree(i)\n",
    "    return count"
   ]
  },
  {
   "cell_type": "code",
   "execution_count": 61,
   "id": "7348bb88",
   "metadata": {},
   "outputs": [],
   "source": [
    "def takeInput():\n",
    "    print(\"Enter your root\")\n",
    "    rootData = int(input())\n",
    "    if rootData ==-1:\n",
    "        return None\n",
    "    root = GenericTree(rootData)\n",
    "    print(\"Enter the No. of the Child of \",rootData)\n",
    "    childrenCount = int(input())\n",
    "    for i in range(childrenCount):\n",
    "        child = takeInput()\n",
    "        root.children.append(child)\n",
    "    return root"
   ]
  },
  {
   "cell_type": "code",
   "execution_count": 62,
   "id": "27448de8",
   "metadata": {},
   "outputs": [
    {
     "name": "stdout",
     "output_type": "stream",
     "text": [
      "Enter your root\n",
      "1\n",
      "Enter the No. of the Child of  1\n",
      "2\n",
      "Enter your root\n",
      "2\n",
      "Enter the No. of the Child of  2\n",
      "0\n",
      "Enter your root\n",
      "3\n",
      "Enter the No. of the Child of  3\n",
      "2\n",
      "Enter your root\n",
      "5\n",
      "Enter the No. of the Child of  5\n",
      "0\n",
      "Enter your root\n",
      "6\n",
      "Enter the No. of the Child of  6\n",
      "3\n",
      "Enter your root\n",
      "7\n",
      "Enter the No. of the Child of  7\n",
      "0\n",
      "Enter your root\n",
      "8\n",
      "Enter the No. of the Child of  8\n",
      "0\n",
      "Enter your root\n",
      "9\n",
      "Enter the No. of the Child of  9\n",
      "0\n",
      "1 : 2 ,3 ,\n",
      "2 : \n",
      "3 : 5 ,6 ,\n",
      "5 : \n",
      "6 : 7 ,8 ,9 ,\n",
      "7 : \n",
      "8 : \n",
      "9 : \n",
      "Total No. of Node in Given Root is 8\n"
     ]
    }
   ],
   "source": [
    "root = takeInput()\n",
    "printTreeDetailed(root)\n",
    "print(\"Total No. of Node in Given Root is\",findTheNoOfNodeInTree(root))"
   ]
  }
 ],
 "metadata": {
  "kernelspec": {
   "display_name": "Python 3 (ipykernel)",
   "language": "python",
   "name": "python3"
  },
  "language_info": {
   "codemirror_mode": {
    "name": "ipython",
    "version": 3
   },
   "file_extension": ".py",
   "mimetype": "text/x-python",
   "name": "python",
   "nbconvert_exporter": "python",
   "pygments_lexer": "ipython3",
   "version": "3.9.12"
  }
 },
 "nbformat": 4,
 "nbformat_minor": 5
}
